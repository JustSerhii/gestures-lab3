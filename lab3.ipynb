{
  "cells": [
    {
      "cell_type": "markdown",
      "metadata": {
        "id": "view-in-github",
        "colab_type": "text"
      },
      "source": [
        "<a href=\"https://colab.research.google.com/github/JustSerhii/gestures-lab3/blob/main/lab3.ipynb\" target=\"_parent\"><img src=\"https://colab.research.google.com/assets/colab-badge.svg\" alt=\"Open In Colab\"/></a>"
      ]
    },
    {
      "cell_type": "code",
      "execution_count": 52,
      "metadata": {
        "id": "OVAdgMoRi6si"
      },
      "outputs": [],
      "source": [
        "################################################\n",
        "### using filtered data"
      ]
    },
    {
      "cell_type": "code",
      "execution_count": 53,
      "metadata": {
        "id": "LyUj_oZqi6sm"
      },
      "outputs": [],
      "source": [
        "import pickle\n",
        "with open('shaped.pickle', 'rb') as f:\n",
        "    ab = pickle.load(f)"
      ]
    },
    {
      "cell_type": "markdown",
      "source": [
        "# Новий розділ"
      ],
      "metadata": {
        "id": "5ZIhw49BjkJR"
      }
    },
    {
      "cell_type": "code",
      "execution_count": 54,
      "metadata": {
        "id": "slx70xjxi6sn",
        "outputId": "eb19b32f-436c-4515-90c8-54dde49194a3",
        "colab": {
          "base_uri": "https://localhost:8080/"
        }
      },
      "outputs": [
        {
          "output_type": "execute_result",
          "data": {
            "text/plain": [
              "(297, 1200)"
            ]
          },
          "metadata": {},
          "execution_count": 54
        }
      ],
      "source": [
        "ab.shape"
      ]
    },
    {
      "cell_type": "code",
      "execution_count": 55,
      "metadata": {
        "id": "VCrarOqZi6so"
      },
      "outputs": [],
      "source": [
        "from sklearn import model_selection, preprocessing, linear_model, naive_bayes, metrics, svm\n",
        "#from sklearn.feature_extraction.text import TfidfVectorizer, CountVectorizer\n",
        "from sklearn import decomposition, ensemble\n",
        "\n",
        "import numpy #,  string #pandas, xgboost, textblob,\n",
        "#from tensorflow.keras.preprocessing import text, sequence\n",
        "from tensorflow.keras import layers, models, optimizers"
      ]
    },
    {
      "cell_type": "code",
      "execution_count": 56,
      "metadata": {
        "id": "FINs3Y7pi6sp",
        "outputId": "8c7da406-8097-409b-dca3-e9725cfc81e1",
        "colab": {
          "base_uri": "https://localhost:8080/",
          "height": 36
        }
      },
      "outputs": [
        {
          "output_type": "execute_result",
          "data": {
            "text/plain": [
              "'2.18.0'"
            ],
            "application/vnd.google.colaboratory.intrinsic+json": {
              "type": "string"
            }
          },
          "metadata": {},
          "execution_count": 56
        }
      ],
      "source": [
        "import tensorflow as tf\n",
        "tf. __version__"
      ]
    },
    {
      "cell_type": "code",
      "source": [
        "!nvidia-smi\n"
      ],
      "metadata": {
        "colab": {
          "base_uri": "https://localhost:8080/"
        },
        "id": "BZdIWFiJWaek",
        "outputId": "01eec474-46b8-47df-a2a2-1a4f76930989"
      },
      "execution_count": 57,
      "outputs": [
        {
          "output_type": "stream",
          "name": "stdout",
          "text": [
            "Tue Apr 22 08:07:20 2025       \n",
            "+-----------------------------------------------------------------------------------------+\n",
            "| NVIDIA-SMI 550.54.15              Driver Version: 550.54.15      CUDA Version: 12.4     |\n",
            "|-----------------------------------------+------------------------+----------------------+\n",
            "| GPU  Name                 Persistence-M | Bus-Id          Disp.A | Volatile Uncorr. ECC |\n",
            "| Fan  Temp   Perf          Pwr:Usage/Cap |           Memory-Usage | GPU-Util  Compute M. |\n",
            "|                                         |                        |               MIG M. |\n",
            "|=========================================+========================+======================|\n",
            "|   0  Tesla T4                       Off |   00000000:00:04.0 Off |                    0 |\n",
            "| N/A   54C    P0             27W /   70W |     248MiB /  15360MiB |      0%      Default |\n",
            "|                                         |                        |                  N/A |\n",
            "+-----------------------------------------+------------------------+----------------------+\n",
            "                                                                                         \n",
            "+-----------------------------------------------------------------------------------------+\n",
            "| Processes:                                                                              |\n",
            "|  GPU   GI   CI        PID   Type   Process name                              GPU Memory |\n",
            "|        ID   ID                                                               Usage      |\n",
            "|=========================================================================================|\n",
            "+-----------------------------------------------------------------------------------------+\n"
          ]
        }
      ]
    },
    {
      "cell_type": "code",
      "source": [
        "# Перевірка, які пристрої бачить TensorFlow:\n",
        "import tensorflow as tf\n",
        "print(\"TensorFlow version:\", tf.__version__)\n",
        "print(\"List of physical devices:\", tf.config.list_physical_devices())\n",
        "\n",
        "# Перевірка CPU (виведе модель процесора, кількість ядер тощо):\n",
        "!cat /proc/cpuinfo | grep \"model name\" | uniq"
      ],
      "metadata": {
        "colab": {
          "base_uri": "https://localhost:8080/"
        },
        "id": "aX9K1NsmWlGo",
        "outputId": "aadd9d0c-d2e4-488b-e451-404676b41d68"
      },
      "execution_count": 58,
      "outputs": [
        {
          "output_type": "stream",
          "name": "stdout",
          "text": [
            "TensorFlow version: 2.18.0\n",
            "List of physical devices: [PhysicalDevice(name='/physical_device:CPU:0', device_type='CPU'), PhysicalDevice(name='/physical_device:GPU:0', device_type='GPU')]\n",
            "model name\t: Intel(R) Xeon(R) CPU @ 2.00GHz\n"
          ]
        }
      ]
    },
    {
      "cell_type": "code",
      "source": [
        "!cat /etc/os-release"
      ],
      "metadata": {
        "colab": {
          "base_uri": "https://localhost:8080/"
        },
        "id": "E5maY9rvXIri",
        "outputId": "f554a3ed-0b03-44b9-dbe1-76b81b3f91d8"
      },
      "execution_count": 59,
      "outputs": [
        {
          "output_type": "stream",
          "name": "stdout",
          "text": [
            "PRETTY_NAME=\"Ubuntu 22.04.4 LTS\"\n",
            "NAME=\"Ubuntu\"\n",
            "VERSION_ID=\"22.04\"\n",
            "VERSION=\"22.04.4 LTS (Jammy Jellyfish)\"\n",
            "VERSION_CODENAME=jammy\n",
            "ID=ubuntu\n",
            "ID_LIKE=debian\n",
            "HOME_URL=\"https://www.ubuntu.com/\"\n",
            "SUPPORT_URL=\"https://help.ubuntu.com/\"\n",
            "BUG_REPORT_URL=\"https://bugs.launchpad.net/ubuntu/\"\n",
            "PRIVACY_POLICY_URL=\"https://www.ubuntu.com/legal/terms-and-policies/privacy-policy\"\n",
            "UBUNTU_CODENAME=jammy\n"
          ]
        }
      ]
    },
    {
      "cell_type": "code",
      "source": [
        "!lsb_release -a"
      ],
      "metadata": {
        "colab": {
          "base_uri": "https://localhost:8080/"
        },
        "id": "2fnU7dFVXNjV",
        "outputId": "d33cfd9b-5706-433a-dae6-5cf38061c1d3"
      },
      "execution_count": 60,
      "outputs": [
        {
          "output_type": "stream",
          "name": "stdout",
          "text": [
            "No LSB modules are available.\n",
            "Distributor ID:\tUbuntu\n",
            "Description:\tUbuntu 22.04.4 LTS\n",
            "Release:\t22.04\n",
            "Codename:\tjammy\n"
          ]
        }
      ]
    },
    {
      "cell_type": "code",
      "source": [
        "print(\"Physical devices:\", tf.config.list_physical_devices())\n",
        "\n",
        "# 2. Перевірка назви стандартного GPU-пристрою (якщо він є):\n",
        "device_name = tf.test.gpu_device_name()\n",
        "if device_name != '/device:GPU:0':\n",
        "    print(\"Зараз активний CPU або інше, GPU не знайдено:\", device_name)\n",
        "else:\n",
        "    print(\"Використовується GPU:\", device_name)"
      ],
      "metadata": {
        "colab": {
          "base_uri": "https://localhost:8080/"
        },
        "id": "aQA_tHCtPTdq",
        "outputId": "a63275b8-209b-4fb6-f0b7-30a765584ce9"
      },
      "execution_count": 61,
      "outputs": [
        {
          "output_type": "stream",
          "name": "stdout",
          "text": [
            "Physical devices: [PhysicalDevice(name='/physical_device:CPU:0', device_type='CPU'), PhysicalDevice(name='/physical_device:GPU:0', device_type='GPU')]\n",
            "Використовується GPU: /device:GPU:0\n"
          ]
        }
      ]
    },
    {
      "cell_type": "code",
      "execution_count": 62,
      "metadata": {
        "id": "knzBAADPi6sp"
      },
      "outputs": [],
      "source": [
        "# Define models:\n",
        "\n",
        "def train_model(classifier, feature_vector_train, label, feature_vector_valid, is_neural_net=False):\n",
        "    # fit the training dataset on the classifier\n",
        "    classifier.fit(feature_vector_train, label)\n",
        "\n",
        "    # predict the labels on validation dataset\n",
        "    predictions = classifier.predict(feature_vector_valid)\n",
        "\n",
        "    if is_neural_net:\n",
        "        predictions = predictions.argmax(axis=-1)\n",
        "\n",
        "    return metrics.accuracy_score(predictions, valid_y)\n",
        "\n",
        "def train_model2(classifier, feature_vector_train, label, feature_vector_valid, valid_Y, is_neural_net=False):\n",
        "    # fit the training dataset on the classifier\n",
        "    classifier.fit(feature_vector_train, label)\n",
        "\n",
        "    # predict the labels on validation dataset\n",
        "    predictions = classifier.predict(feature_vector_valid)\n",
        "\n",
        "    if is_neural_net:\n",
        "        predictions = predictions.argmax(axis=-1)\n",
        "\n",
        "    return metrics.accuracy_score(predictions, valid_Y)"
      ]
    },
    {
      "cell_type": "code",
      "execution_count": 63,
      "metadata": {
        "id": "yAfQ7puBi6sq"
      },
      "outputs": [],
      "source": [
        "from sklearn.decomposition import PCA\n",
        "from sklearn.decomposition import TruncatedSVD\n",
        "import numpy as np\n",
        "from scipy.sparse import csr_matrix\n",
        "\n",
        "from sklearn.manifold import TSNE\n",
        "from sklearn.cluster import KMeans\n",
        "import time\n",
        "import warnings\n",
        "\n",
        "import matplotlib.pyplot as plt\n",
        "\n",
        "from sklearn import cluster, datasets, mixture\n",
        "from sklearn.neighbors import kneighbors_graph\n",
        "from sklearn.preprocessing import StandardScaler\n",
        "from itertools import cycle, islice\n",
        "\n",
        "import scipy"
      ]
    },
    {
      "cell_type": "code",
      "execution_count": 64,
      "metadata": {
        "id": "GwncsoKci6sr"
      },
      "outputs": [],
      "source": [
        "y_ = np.ones(len(ab))"
      ]
    },
    {
      "cell_type": "code",
      "execution_count": 65,
      "metadata": {
        "id": "BaSBlmubi6sr",
        "outputId": "28fde731-e970-401f-adb2-635ec787dc16",
        "colab": {
          "base_uri": "https://localhost:8080/"
        }
      },
      "outputs": [
        {
          "output_type": "execute_result",
          "data": {
            "text/plain": [
              "0.1304330825805664"
            ]
          },
          "metadata": {},
          "execution_count": 65
        }
      ],
      "source": [
        "start_time = time.time()\n",
        "#a = np.reshape(np.array(tempvar),(297*20,60))\n",
        "\n",
        "#base parameters\n",
        "default_base = {'quantile': .3,\n",
        "                'eps': .3,\n",
        "                'damping': .9,\n",
        "                'preference': -200,\n",
        "                'n_neighbors': 10, #maybe more\n",
        "                'n_clusters': 4, #3 is actual number\n",
        "                'min_samples': 20,\n",
        "                'xi': 0.05,\n",
        "                'min_cluster_size': 0.1}\n",
        "\n",
        "params = default_base.copy()\n",
        "\n",
        "pca = TruncatedSVD(n_components=10)\n",
        "pca.fit(ab)\n",
        "#csr_matrix(\n",
        "transformed_ = pca.transform(ab)\n",
        "end_time = time.time()\n",
        "end_time-start_time"
      ]
    },
    {
      "cell_type": "code",
      "execution_count": 66,
      "metadata": {
        "id": "GvJ3CMz1i6ss"
      },
      "outputs": [],
      "source": [
        "#X_embedded2 = X_embedded"
      ]
    },
    {
      "cell_type": "code",
      "execution_count": 67,
      "metadata": {
        "id": "ti2G5fm3i6ss"
      },
      "outputs": [],
      "source": [
        "#X_embedded = transformed_"
      ]
    },
    {
      "cell_type": "code",
      "execution_count": 68,
      "metadata": {
        "id": "rPIffDu_i6ss",
        "outputId": "dbbf450b-6a3c-4254-d495-a477c2ed5598",
        "colab": {
          "base_uri": "https://localhost:8080/"
        }
      },
      "outputs": [
        {
          "output_type": "execute_result",
          "data": {
            "text/plain": [
              "6.556510925292969e-05"
            ]
          },
          "metadata": {},
          "execution_count": 68
        }
      ],
      "source": [
        "start_time = time.time()\n",
        "#X_embedded = TSNE(n_components=2).fit_transform(transformed_)\n",
        "X_embedded = transformed_\n",
        "end_time = time.time()\n",
        "end_time-start_time"
      ]
    },
    {
      "cell_type": "code",
      "execution_count": 69,
      "metadata": {
        "id": "lXmggtVdi6st"
      },
      "outputs": [],
      "source": [
        "# ============\n",
        "# Create cluster objects\n",
        "# ============\n",
        "\n",
        "\n",
        "\n",
        "two_means = cluster.MiniBatchKMeans(n_clusters=params['n_clusters'])\n",
        "\n",
        "clustering_algorithms = (\n",
        "        ('MBatchKMeans', two_means),\n",
        ")\n",
        "\n",
        "plot_num = 1"
      ]
    },
    {
      "cell_type": "code",
      "execution_count": 70,
      "metadata": {
        "scrolled": true,
        "id": "i0CkOfswi6st",
        "outputId": "5faf283d-c56b-493f-9a83-25a825d64d12",
        "colab": {
          "base_uri": "https://localhost:8080/",
          "height": 424
        }
      },
      "outputs": [
        {
          "output_type": "execute_result",
          "data": {
            "text/plain": [
              "0.02357649803161621"
            ]
          },
          "metadata": {},
          "execution_count": 70
        },
        {
          "output_type": "display_data",
          "data": {
            "text/plain": [
              "<Figure size 640x480 with 1 Axes>"
            ],
            "image/png": "[encoded data removed]"
          },
          "metadata": {}
        }
      ],
      "source": [
        "for name, algorithm in clustering_algorithms:\n",
        "\n",
        "        t0 = time.time()\n",
        "\n",
        "        # catch warnings related to kneighbors_graph\n",
        "        with warnings.catch_warnings():\n",
        "            warnings.filterwarnings(\n",
        "                \"ignore\",\n",
        "                message=\"the number of connected components of the \" +\n",
        "                \"connectivity matrix is [0-9]{1,2}\" +\n",
        "                \" > 1. Completing it to avoid stopping the tree early.\",\n",
        "                category=UserWarning)\n",
        "            warnings.filterwarnings(\n",
        "                \"ignore\",\n",
        "                message=\"Graph is not fully connected, spectral embedding\" +\n",
        "                \" may not work as expected.\",\n",
        "                category=UserWarning)\n",
        "            algorithm.fit(X_embedded)\n",
        "\n",
        "\n",
        "\n",
        "        t1 = time.time()\n",
        "\n",
        "        if hasattr(algorithm, 'labels_'):\n",
        "            y_pred = algorithm.labels_.astype(int)\n",
        "        else:\n",
        "            y_pred = algorithm.predict(X_embedded)\n",
        "\n",
        "        plt.subplot(1, len(clustering_algorithms), plot_num)\n",
        "\n",
        "        colors = np.array(list(islice(cycle(['#377eb8', '#ff7f00', '#4daf4a',\n",
        "                                             '#f781bf', '#a65628', '#984ea3',\n",
        "                                             '#999999', '#e41a1c', '#dede00']),\n",
        "                                      int(max(y_pred) + 1))))\n",
        "        # add black color for outliers (if any)\n",
        "        colors = np.append(colors, [\"#000000\"])\n",
        "\n",
        "\n",
        "        plt.scatter(X_embedded[:, 0], X_embedded[:, 1], s=2, color=colors[y_pred])\n",
        "\n",
        "        plt.xlim(-2.5, 2.5)\n",
        "        plt.ylim(-2.5, 2.5)\n",
        "        plt.xticks(())\n",
        "        plt.yticks(())\n",
        "\n",
        "        plot_num += 1\n",
        "\n",
        "        # stop, plot only one image\n",
        "        break\n",
        "\n",
        "#plt.show()\n",
        "t1-t0"
      ]
    },
    {
      "cell_type": "code",
      "execution_count": 71,
      "metadata": {
        "id": "I7Owfj0Qi6st",
        "outputId": "433ab6a2-7c76-4e63-a66b-803672c37197",
        "colab": {
          "base_uri": "https://localhost:8080/",
          "height": 528
        }
      },
      "outputs": [
        {
          "output_type": "display_data",
          "data": {
            "text/plain": [
              "<Figure size 600x600 with 2 Axes>"
            ],
            "image/png": "[encoded data removed]"
          },
          "metadata": {}
        }
      ],
      "source": [
        "colors = np.array(list(islice(cycle(['#377eb8', '#ff7f00', '#4daf4a',\n",
        "                                             '#f781bf', '#a65628', '#984ea3',\n",
        "                                             '#999999', '#e41a1c', '#dede00']), int(max(y_pred) + 1))))\n",
        "\n",
        "plt.figure(figsize=(6, 6))\n",
        "plt.scatter(X_embedded[:, 0], X_embedded[:, 1], s=2, c=colors[y_pred])\n",
        "plt.colorbar()\n",
        "plt.show()"
      ]
    },
    {
      "cell_type": "code",
      "execution_count": 72,
      "metadata": {
        "id": "SnBb2R2mi6su",
        "outputId": "5169a93e-a631-41e1-df58-07dcd1660a2e",
        "colab": {
          "base_uri": "https://localhost:8080/"
        }
      },
      "outputs": [
        {
          "output_type": "execute_result",
          "data": {
            "text/plain": [
              "(297,)"
            ]
          },
          "metadata": {},
          "execution_count": 72
        }
      ],
      "source": [
        "y_pred.shape"
      ]
    },
    {
      "cell_type": "code",
      "execution_count": 73,
      "metadata": {
        "id": "xa46Vk3Ui6su"
      },
      "outputs": [],
      "source": [
        "#optional classifiers to choose\n",
        "from sklearn.naive_bayes import MultinomialNB\n",
        "from sklearn.linear_model import LogisticRegression\n",
        "from sklearn.ensemble import RandomForestClassifier\n",
        "from sklearn.svm import LinearSVC\n",
        "from sklearn.neural_network import MLPClassifier\n",
        "from sklearn.neighbors import KNeighborsClassifier\n",
        "from sklearn.svm import SVC\n",
        "from sklearn.gaussian_process import GaussianProcessClassifier\n",
        "from sklearn.gaussian_process.kernels import RBF\n",
        "from sklearn.tree import DecisionTreeClassifier\n",
        "from sklearn.ensemble import RandomForestClassifier, AdaBoostClassifier\n",
        "from sklearn.naive_bayes import GaussianNB\n",
        "from sklearn.discriminant_analysis import QuadraticDiscriminantAnalysis\n",
        "from sklearn.model_selection import cross_val_score\n",
        "import matplotlib.pyplot as plt\n",
        "#import seaborn as sns"
      ]
    },
    {
      "cell_type": "code",
      "execution_count": 74,
      "metadata": {
        "id": "VgQKR2tPi6su"
      },
      "outputs": [],
      "source": [
        "# ab (297x1200)!"
      ]
    },
    {
      "cell_type": "code",
      "execution_count": 75,
      "metadata": {
        "id": "lI2HsX6ri6su",
        "outputId": "7e8b81fb-2d67-41da-9479-fc64c5173ceb",
        "colab": {
          "base_uri": "https://localhost:8080/"
        }
      },
      "outputs": [
        {
          "output_type": "execute_result",
          "data": {
            "text/plain": [
              "0.0008440017700195312"
            ]
          },
          "metadata": {},
          "execution_count": 75
        }
      ],
      "source": [
        "start_time = time.time()\n",
        "train_x, valid_x, train_y, valid_y = model_selection.train_test_split(X_embedded, y_pred)\n",
        "end_time = time.time()\n",
        "end_time-start_time"
      ]
    },
    {
      "cell_type": "code",
      "execution_count": 76,
      "metadata": {
        "id": "-VE5h4XSi6sv"
      },
      "outputs": [],
      "source": [
        "import numpy as np\n",
        "#import pandas as pd\n",
        "import os\n",
        "\n",
        "import tensorflow as tf\n",
        "#import tensorflow_addons as tfa #none\n",
        "from tensorflow.keras import layers\n",
        "\n",
        "import matplotlib.pyplot as plt\n",
        "from IPython import display\n",
        "from IPython.display import clear_output\n",
        "\n",
        "import glob\n",
        "#import imageio\n",
        "import time\n",
        "import IPython.display as ipd\n",
        "\n",
        "#AUTOTUNE = tf.data.experimental.AUTOTUNE"
      ]
    },
    {
      "cell_type": "code",
      "execution_count": 77,
      "metadata": {
        "id": "XalkKf_6i6sv"
      },
      "outputs": [],
      "source": [
        "# Shallow Neural Networks\n",
        "# model nx100xn\n",
        "\n",
        "import numpy as np\n",
        "import scipy.sparse\n",
        "import tensorflow as tf\n",
        "\n",
        "import tensorflow.keras\n",
        "from tensorflow.keras import layers\n",
        "from tensorflow.keras import regularizers"
      ]
    },
    {
      "cell_type": "code",
      "execution_count": 78,
      "metadata": {
        "id": "9nCoLZd7i6sv"
      },
      "outputs": [],
      "source": [
        "import tensorflow.keras as keras\n",
        "from tensorflow.keras import backend as K"
      ]
    },
    {
      "cell_type": "code",
      "execution_count": 79,
      "metadata": {
        "id": "M9H0QwSvi6sv"
      },
      "outputs": [],
      "source": [
        "from tensorflow.keras.layers import Input, Dense, Flatten, Reshape\n",
        "from tensorflow.keras.models import Model"
      ]
    },
    {
      "cell_type": "code",
      "execution_count": 80,
      "metadata": {
        "id": "wsHtvAYji6sv"
      },
      "outputs": [],
      "source": [
        "def create_dense_ae():\n",
        "    # Розмірність кодованого простору\n",
        "    hidden_dim = 60\n",
        "    encoding_dim = 2\n",
        "\n",
        "    # Кодувальник\n",
        "    input = Input(shape=(10*1, )) # 10*1,  - розмірність вхідного шару\n",
        "    # Додатковий шар для кодування вхідного представлення\n",
        "    flat = Flatten()(input)\n",
        "\n",
        "    hidden = Dense(hidden_dim, activation='relu')(flat)\n",
        "    hidden2 = Dense(hidden_dim, activation='relu')(hidden)\n",
        "    # Приховане подання кодувальника\n",
        "    encoded = Dense(encoding_dim, activation='relu')(hidden2)\n",
        "\n",
        "    # Декодувальник\n",
        "    # Аналогічним чином, але послідовність шарів протилежна кодувальнику\n",
        "    input_encoded = Input(shape=(encoding_dim,))\n",
        "    hidden_encoded = Dense(hidden_dim, activation='sigmoid')(input_encoded)\n",
        "    hidden_encoded2 = Dense(hidden_dim, activation='sigmoid')(hidden_encoded)\n",
        "\n",
        "    flat_decoded = Dense(10*1, activation='sigmoid')(hidden_encoded2)\n",
        "    decoded = Reshape((10*1, ))(flat_decoded)\n",
        "\n",
        "    # Таким чином можна подати окремо модель як для кодувальника так і декодувальника\n",
        "    # Або подавати шари окермо\n",
        "    encoder = Model(input, encoded, name=\"encoder\")\n",
        "    decoder = Model(input_encoded, decoded, name=\"decoder\")\n",
        "    autoencoder = Model(input, decoder(encoder(input)), name=\"autoencoder\")\n",
        "    return encoder, decoder, autoencoder"
      ]
    },
    {
      "cell_type": "code",
      "execution_count": 81,
      "metadata": {
        "id": "HPKG2myHi6sw"
      },
      "outputs": [],
      "source": [
        "# перелік наявних пристроїв (у випадку TF-DML)"
      ]
    },
    {
      "cell_type": "code",
      "execution_count": 82,
      "metadata": {
        "id": "saf7akn4i6sw",
        "outputId": "b1229e01-b7c3-4003-8027-102e84000b38",
        "colab": {
          "base_uri": "https://localhost:8080/"
        }
      },
      "outputs": [
        {
          "output_type": "execute_result",
          "data": {
            "text/plain": [
              "[PhysicalDevice(name='/physical_device:CPU:0', device_type='CPU'),\n",
              " PhysicalDevice(name='/physical_device:GPU:0', device_type='GPU')]"
            ]
          },
          "metadata": {},
          "execution_count": 82
        }
      ],
      "source": [
        "tf.config.list_physical_devices()"
      ]
    },
    {
      "cell_type": "code",
      "execution_count": 83,
      "metadata": {
        "id": "hkWK0oU2i6sw"
      },
      "outputs": [],
      "source": [
        "with tf.device(\"/device:GPU:0\"): # /device:DML:0 для версії 1.15\n",
        "    encoder, decoder, autoencoder = create_dense_ae()\n",
        "    autoencoder.compile(optimizer='adam', loss='binary_crossentropy', metrics=[\"accuracy\"])"
      ]
    },
    {
      "cell_type": "code",
      "execution_count": 84,
      "metadata": {
        "id": "UAcbw9_gi6sx"
      },
      "outputs": [],
      "source": [
        "# якщо все гаразд, у консолі Conda має бути подібний текст:\n",
        "# tensorflow/c/logging.cc:34] DirectML: creating device on adapter 0 (___ім'я вашої відеокарти___)\n",
        "# tensorflow/c/logging.cc:34] Successfully opened dynamic library Kernel32.dll\n",
        "# tensorflow/core/common_runtime/pluggable_device/pluggable_device_factory.cc:272]\n",
        "# Created TensorFlow device (/job:localhost/replica:0/task:0/device:GPU:0 with XXXX MB memory) -> physical PluggableDevice (device: 0, name: DML, pci bus id: <undefined>)\n",
        "\n",
        "# зазвичай обсяг пам'яті може бути вищим через віртуальну пам'ять системи, наприклад 8192 замість 4096 МB, якщо відеокарта на 4096 MB"
      ]
    },
    {
      "cell_type": "code",
      "execution_count": 85,
      "metadata": {
        "id": "gJN7vhp2i6sx"
      },
      "outputs": [],
      "source": [
        "# якщо немає відеокарти як такої (наприклад, якщо є процесор з ARM архітектурою без виділеного відеоядра), можливо написати і так:"
      ]
    },
    {
      "cell_type": "code",
      "execution_count": 86,
      "metadata": {
        "id": "E6tOBZiBi6sx"
      },
      "outputs": [],
      "source": [
        "#with tf.device(\"/device:CPU:0\"):\n",
        "#    encoder, decoder, autoencoder = create_dense_ae()\n",
        "#    autoencoder.compile(optimizer='adam', loss='binary_crossentropy', metrics=[\"accuracy\"])"
      ]
    },
    {
      "cell_type": "code",
      "execution_count": 87,
      "metadata": {
        "id": "dG2g1TKoi6sx",
        "outputId": "d78d95d4-2fa2-42cb-8ebb-2ceac0da978e",
        "colab": {
          "base_uri": "https://localhost:8080/",
          "height": 237
        }
      },
      "outputs": [
        {
          "output_type": "display_data",
          "data": {
            "text/plain": [
              "\u001b[1mModel: \"autoencoder\"\u001b[0m\n"
            ],
            "text/html": [
              "<pre style=\"white-space:pre;overflow-x:auto;line-height:normal;font-family:Menlo,'DejaVu Sans Mono',consolas,'Courier New',monospace\"><span style=\"font-weight: bold\">Model: \"autoencoder\"</span>\n",
              "</pre>\n"
            ]
          },
          "metadata": {}
        },
        {
          "output_type": "display_data",
          "data": {
            "text/plain": [
              "┏━━━━━━━━━━━━━━━━━━━━━━━━━━━━━━━━━┳━━━━━━━━━━━━━━━━━━━━━━━━┳━━━━━━━━━━━━━━━┓\n",
              "┃\u001b[1m \u001b[0m\u001b[1mLayer (type)                   \u001b[0m\u001b[1m \u001b[0m┃\u001b[1m \u001b[0m\u001b[1mOutput Shape          \u001b[0m\u001b[1m \u001b[0m┃\u001b[1m \u001b[0m\u001b[1m      Param #\u001b[0m\u001b[1m \u001b[0m┃\n",
              "┡━━━━━━━━━━━━━━━━━━━━━━━━━━━━━━━━━╇━━━━━━━━━━━━━━━━━━━━━━━━╇━━━━━━━━━━━━━━━┩\n",
              "│ input_layer_2 (\u001b[38;5;33mInputLayer\u001b[0m)      │ (\u001b[38;5;45mNone\u001b[0m, \u001b[38;5;34m10\u001b[0m)             │             \u001b[38;5;34m0\u001b[0m │\n",
              "├─────────────────────────────────┼────────────────────────┼───────────────┤\n",
              "│ encoder (\u001b[38;5;33mFunctional\u001b[0m)            │ (\u001b[38;5;45mNone\u001b[0m, \u001b[38;5;34m2\u001b[0m)              │         \u001b[38;5;34m4,442\u001b[0m │\n",
              "├─────────────────────────────────┼────────────────────────┼───────────────┤\n",
              "│ decoder (\u001b[38;5;33mFunctional\u001b[0m)            │ (\u001b[38;5;45mNone\u001b[0m, \u001b[38;5;34m10\u001b[0m)             │         \u001b[38;5;34m4,450\u001b[0m │\n",
              "└─────────────────────────────────┴────────────────────────┴───────────────┘\n"
            ],
            "text/html": [
              "<pre style=\"white-space:pre;overflow-x:auto;line-height:normal;font-family:Menlo,'DejaVu Sans Mono',consolas,'Courier New',monospace\">┏━━━━━━━━━━━━━━━━━━━━━━━━━━━━━━━━━┳━━━━━━━━━━━━━━━━━━━━━━━━┳━━━━━━━━━━━━━━━┓\n",
              "┃<span style=\"font-weight: bold\"> Layer (type)                    </span>┃<span style=\"font-weight: bold\"> Output Shape           </span>┃<span style=\"font-weight: bold\">       Param # </span>┃\n",
              "┡━━━━━━━━━━━━━━━━━━━━━━━━━━━━━━━━━╇━━━━━━━━━━━━━━━━━━━━━━━━╇━━━━━━━━━━━━━━━┩\n",
              "│ input_layer_2 (<span style=\"color: #0087ff; text-decoration-color: #0087ff\">InputLayer</span>)      │ (<span style=\"color: #00d7ff; text-decoration-color: #00d7ff\">None</span>, <span style=\"color: #00af00; text-decoration-color: #00af00\">10</span>)             │             <span style=\"color: #00af00; text-decoration-color: #00af00\">0</span> │\n",
              "├─────────────────────────────────┼────────────────────────┼───────────────┤\n",
              "│ encoder (<span style=\"color: #0087ff; text-decoration-color: #0087ff\">Functional</span>)            │ (<span style=\"color: #00d7ff; text-decoration-color: #00d7ff\">None</span>, <span style=\"color: #00af00; text-decoration-color: #00af00\">2</span>)              │         <span style=\"color: #00af00; text-decoration-color: #00af00\">4,442</span> │\n",
              "├─────────────────────────────────┼────────────────────────┼───────────────┤\n",
              "│ decoder (<span style=\"color: #0087ff; text-decoration-color: #0087ff\">Functional</span>)            │ (<span style=\"color: #00d7ff; text-decoration-color: #00d7ff\">None</span>, <span style=\"color: #00af00; text-decoration-color: #00af00\">10</span>)             │         <span style=\"color: #00af00; text-decoration-color: #00af00\">4,450</span> │\n",
              "└─────────────────────────────────┴────────────────────────┴───────────────┘\n",
              "</pre>\n"
            ]
          },
          "metadata": {}
        },
        {
          "output_type": "display_data",
          "data": {
            "text/plain": [
              "\u001b[1m Total params: \u001b[0m\u001b[38;5;34m8,892\u001b[0m (34.73 KB)\n"
            ],
            "text/html": [
              "<pre style=\"white-space:pre;overflow-x:auto;line-height:normal;font-family:Menlo,'DejaVu Sans Mono',consolas,'Courier New',monospace\"><span style=\"font-weight: bold\"> Total params: </span><span style=\"color: #00af00; text-decoration-color: #00af00\">8,892</span> (34.73 KB)\n",
              "</pre>\n"
            ]
          },
          "metadata": {}
        },
        {
          "output_type": "display_data",
          "data": {
            "text/plain": [
              "\u001b[1m Trainable params: \u001b[0m\u001b[38;5;34m8,892\u001b[0m (34.73 KB)\n"
            ],
            "text/html": [
              "<pre style=\"white-space:pre;overflow-x:auto;line-height:normal;font-family:Menlo,'DejaVu Sans Mono',consolas,'Courier New',monospace\"><span style=\"font-weight: bold\"> Trainable params: </span><span style=\"color: #00af00; text-decoration-color: #00af00\">8,892</span> (34.73 KB)\n",
              "</pre>\n"
            ]
          },
          "metadata": {}
        },
        {
          "output_type": "display_data",
          "data": {
            "text/plain": [
              "\u001b[1m Non-trainable params: \u001b[0m\u001b[38;5;34m0\u001b[0m (0.00 B)\n"
            ],
            "text/html": [
              "<pre style=\"white-space:pre;overflow-x:auto;line-height:normal;font-family:Menlo,'DejaVu Sans Mono',consolas,'Courier New',monospace\"><span style=\"font-weight: bold\"> Non-trainable params: </span><span style=\"color: #00af00; text-decoration-color: #00af00\">0</span> (0.00 B)\n",
              "</pre>\n"
            ]
          },
          "metadata": {}
        }
      ],
      "source": [
        "autoencoder.summary()"
      ]
    },
    {
      "cell_type": "code",
      "execution_count": 88,
      "metadata": {
        "id": "QrCIdlz2i6sy",
        "outputId": "67d6b8c5-782d-4fc8-ea8f-a62e82cc73e0",
        "colab": {
          "base_uri": "https://localhost:8080/"
        }
      },
      "outputs": [
        {
          "output_type": "stream",
          "name": "stdout",
          "text": [
            "Epoch 1/500\n",
            "\u001b[1m5/5\u001b[0m \u001b[32m━━━━━━━━━━━━━━━━━━━━\u001b[0m\u001b[37m\u001b[0m \u001b[1m4s\u001b[0m 359ms/step - accuracy: 0.2742 - loss: 0.3195 - val_accuracy: 0.2133 - val_loss: 0.0990\n",
            "Epoch 2/500\n",
            "\u001b[1m5/5\u001b[0m \u001b[32m━━━━━━━━━━━━━━━━━━━━\u001b[0m\u001b[37m\u001b[0m \u001b[1m1s\u001b[0m 17ms/step - accuracy: 0.2764 - loss: 0.1291 - val_accuracy: 0.2133 - val_loss: -0.0911\n",
            "Epoch 3/500\n",
            "\u001b[1m5/5\u001b[0m \u001b[32m━━━━━━━━━━━━━━━━━━━━\u001b[0m\u001b[37m\u001b[0m \u001b[1m0s\u001b[0m 26ms/step - accuracy: 0.2239 - loss: -0.0836 - val_accuracy: 0.2133 - val_loss: -0.2800\n",
            "Epoch 4/500\n",
            "\u001b[1m5/5\u001b[0m \u001b[32m━━━━━━━━━━━━━━━━━━━━\u001b[0m\u001b[37m\u001b[0m \u001b[1m0s\u001b[0m 26ms/step - accuracy: 0.2300 - loss: -0.2313 - val_accuracy: 0.2133 - val_loss: -0.4638\n",
            "Epoch 5/500\n",
            "\u001b[1m5/5\u001b[0m \u001b[32m━━━━━━━━━━━━━━━━━━━━\u001b[0m\u001b[37m\u001b[0m \u001b[1m0s\u001b[0m 16ms/step - accuracy: 0.2245 - loss: -0.4234 - val_accuracy: 0.2133 - val_loss: -0.6449\n",
            "Epoch 6/500\n",
            "\u001b[1m5/5\u001b[0m \u001b[32m━━━━━━━━━━━━━━━━━━━━\u001b[0m\u001b[37m\u001b[0m \u001b[1m0s\u001b[0m 17ms/step - accuracy: 0.3636 - loss: -0.6604 - val_accuracy: 0.6267 - val_loss: -0.8268\n",
            "Epoch 7/500\n",
            "\u001b[1m5/5\u001b[0m \u001b[32m━━━━━━━━━━━━━━━━━━━━\u001b[0m\u001b[37m\u001b[0m \u001b[1m0s\u001b[0m 16ms/step - accuracy: 0.6822 - loss: -0.8712 - val_accuracy: 0.6133 - val_loss: -1.0080\n",
            "Epoch 8/500\n",
            "\u001b[1m5/5\u001b[0m \u001b[32m━━━━━━━━━━━━━━━━━━━━\u001b[0m\u001b[37m\u001b[0m \u001b[1m0s\u001b[0m 17ms/step - accuracy: 0.6939 - loss: -1.0806 - val_accuracy: 0.6133 - val_loss: -1.1842\n",
            "Epoch 9/500\n",
            "\u001b[1m5/5\u001b[0m \u001b[32m━━━━━━━━━━━━━━━━━━━━\u001b[0m\u001b[37m\u001b[0m \u001b[1m0s\u001b[0m 29ms/step - accuracy: 0.6897 - loss: -1.2192 - val_accuracy: 0.6133 - val_loss: -1.3540\n",
            "Epoch 10/500\n",
            "\u001b[1m5/5\u001b[0m \u001b[32m━━━━━━━━━━━━━━━━━━━━\u001b[0m\u001b[37m\u001b[0m \u001b[1m0s\u001b[0m 17ms/step - accuracy: 0.6700 - loss: -1.3983 - val_accuracy: 0.6133 - val_loss: -1.5170\n",
            "Epoch 11/500\n",
            "\u001b[1m5/5\u001b[0m \u001b[32m━━━━━━━━━━━━━━━━━━━━\u001b[0m\u001b[37m\u001b[0m \u001b[1m0s\u001b[0m 17ms/step - accuracy: 0.6922 - loss: -1.4996 - val_accuracy: 0.6133 - val_loss: -1.6744\n",
            "Epoch 12/500\n",
            "\u001b[1m5/5\u001b[0m \u001b[32m━━━━━━━━━━━━━━━━━━━━\u001b[0m\u001b[37m\u001b[0m \u001b[1m0s\u001b[0m 16ms/step - accuracy: 0.6864 - loss: -1.8099 - val_accuracy: 0.6133 - val_loss: -1.8273\n",
            "Epoch 13/500\n",
            "\u001b[1m5/5\u001b[0m \u001b[32m━━━━━━━━━━━━━━━━━━━━\u001b[0m\u001b[37m\u001b[0m \u001b[1m0s\u001b[0m 16ms/step - accuracy: 0.6972 - loss: -2.0056 - val_accuracy: 0.6133 - val_loss: -1.9739\n",
            "Epoch 14/500\n",
            "\u001b[1m5/5\u001b[0m \u001b[32m━━━━━━━━━━━━━━━━━━━━\u001b[0m\u001b[37m\u001b[0m \u001b[1m0s\u001b[0m 16ms/step - accuracy: 0.6633 - loss: -2.0352 - val_accuracy: 0.6133 - val_loss: -2.1117\n",
            "Epoch 15/500\n",
            "\u001b[1m5/5\u001b[0m \u001b[32m━━━━━━━━━━━━━━━━━━━━\u001b[0m\u001b[37m\u001b[0m \u001b[1m0s\u001b[0m 15ms/step - accuracy: 0.6675 - loss: -2.1469 - val_accuracy: 0.6133 - val_loss: -2.2465\n",
            "Epoch 16/500\n",
            "\u001b[1m5/5\u001b[0m \u001b[32m━━━━━━━━━━━━━━━━━━━━\u001b[0m\u001b[37m\u001b[0m \u001b[1m0s\u001b[0m 16ms/step - accuracy: 0.6672 - loss: -2.2591 - val_accuracy: 0.6133 - val_loss: -2.3785\n",
            "Epoch 17/500\n",
            "\u001b[1m5/5\u001b[0m \u001b[32m━━━━━━━━━━━━━━━━━━━━\u001b[0m\u001b[37m\u001b[0m \u001b[1m0s\u001b[0m 17ms/step - accuracy: 0.6945 - loss: -2.4399 - val_accuracy: 0.6133 - val_loss: -2.5080\n",
            "Epoch 18/500\n",
            "\u001b[1m5/5\u001b[0m \u001b[32m━━━━━━━━━━━━━━━━━━━━\u001b[0m\u001b[37m\u001b[0m \u001b[1m0s\u001b[0m 16ms/step - accuracy: 0.6736 - loss: -2.6338 - val_accuracy: 0.6133 - val_loss: -2.6362\n",
            "Epoch 19/500\n",
            "\u001b[1m5/5\u001b[0m \u001b[32m━━━━━━━━━━━━━━━━━━━━\u001b[0m\u001b[37m\u001b[0m \u001b[1m0s\u001b[0m 17ms/step - accuracy: 0.7072 - loss: -2.8245 - val_accuracy: 0.6133 - val_loss: -2.7636\n",
            "Epoch 20/500\n",
            "\u001b[1m5/5\u001b[0m \u001b[32m━━━━━━━━━━━━━━━━━━━━\u001b[0m\u001b[37m\u001b[0m \u001b[1m0s\u001b[0m 17ms/step - accuracy: 0.6997 - loss: -2.8193 - val_accuracy: 0.6133 - val_loss: -2.8939\n",
            "Epoch 21/500\n",
            "\u001b[1m5/5\u001b[0m \u001b[32m━━━━━━━━━━━━━━━━━━━━\u001b[0m\u001b[37m\u001b[0m \u001b[1m0s\u001b[0m 16ms/step - accuracy: 0.7228 - loss: -3.0235 - val_accuracy: 0.6133 - val_loss: -3.0263\n",
            "Epoch 22/500\n",
            "\u001b[1m5/5\u001b[0m \u001b[32m━━━━━━━━━━━━━━━━━━━━\u001b[0m\u001b[37m\u001b[0m \u001b[1m0s\u001b[0m 16ms/step - accuracy: 0.6728 - loss: -2.9986 - val_accuracy: 0.6133 - val_loss: -3.1617\n",
            "Epoch 23/500\n",
            "\u001b[1m5/5\u001b[0m \u001b[32m━━━━━━━━━━━━━━━━━━━━\u001b[0m\u001b[37m\u001b[0m \u001b[1m0s\u001b[0m 16ms/step - accuracy: 0.6881 - loss: -3.3886 - val_accuracy: 0.6133 - val_loss: -3.3022\n",
            "Epoch 24/500\n",
            "\u001b[1m5/5\u001b[0m \u001b[32m━━━━━━━━━━━━━━━━━━━━\u001b[0m\u001b[37m\u001b[0m \u001b[1m0s\u001b[0m 17ms/step - accuracy: 0.6720 - loss: -3.5141 - val_accuracy: 0.6133 - val_loss: -3.4481\n",
            "Epoch 25/500\n",
            "\u001b[1m5/5\u001b[0m \u001b[32m━━━━━━━━━━━━━━━━━━━━\u001b[0m\u001b[37m\u001b[0m \u001b[1m0s\u001b[0m 20ms/step - accuracy: 0.7039 - loss: -3.5538 - val_accuracy: 0.6133 - val_loss: -3.5949\n",
            "Epoch 26/500\n",
            "\u001b[1m5/5\u001b[0m \u001b[32m━━━━━━━━━━━━━━━━━━━━\u001b[0m\u001b[37m\u001b[0m \u001b[1m0s\u001b[0m 27ms/step - accuracy: 0.6739 - loss: -3.6398 - val_accuracy: 0.6133 - val_loss: -3.7428\n",
            "Epoch 27/500\n",
            "\u001b[1m5/5\u001b[0m \u001b[32m━━━━━━━━━━━━━━━━━━━━\u001b[0m\u001b[37m\u001b[0m \u001b[1m0s\u001b[0m 17ms/step - accuracy: 0.6778 - loss: -3.7742 - val_accuracy: 0.6133 - val_loss: -3.8973\n",
            "Epoch 28/500\n",
            "\u001b[1m5/5\u001b[0m \u001b[32m━━━━━━━━━━━━━━━━━━━━\u001b[0m\u001b[37m\u001b[0m \u001b[1m0s\u001b[0m 16ms/step - accuracy: 0.6858 - loss: -4.0939 - val_accuracy: 0.6133 - val_loss: -4.0531\n",
            "Epoch 29/500\n",
            "\u001b[1m5/5\u001b[0m \u001b[32m━━━━━━━━━━━━━━━━━━━━\u001b[0m\u001b[37m\u001b[0m \u001b[1m0s\u001b[0m 16ms/step - accuracy: 0.6878 - loss: -4.3941 - val_accuracy: 0.6133 - val_loss: -4.2113\n",
            "Epoch 30/500\n",
            "\u001b[1m5/5\u001b[0m \u001b[32m━━━━━━━━━━━━━━━━━━━━\u001b[0m\u001b[37m\u001b[0m \u001b[1m0s\u001b[0m 18ms/step - accuracy: 0.6781 - loss: -4.3485 - val_accuracy: 0.6133 - val_loss: -4.3719\n",
            "Epoch 31/500\n",
            "\u001b[1m5/5\u001b[0m \u001b[32m━━━━━━━━━━━━━━━━━━━━\u001b[0m\u001b[37m\u001b[0m \u001b[1m0s\u001b[0m 18ms/step - accuracy: 0.6864 - loss: -4.6248 - val_accuracy: 0.6133 - val_loss: -4.5363\n",
            "Epoch 32/500\n",
            "\u001b[1m5/5\u001b[0m \u001b[32m━━━━━━━━━━━━━━━━━━━━\u001b[0m\u001b[37m\u001b[0m \u001b[1m0s\u001b[0m 16ms/step - accuracy: 0.6728 - loss: -4.6956 - val_accuracy: 0.6133 - val_loss: -4.7025\n",
            "Epoch 33/500\n",
            "\u001b[1m5/5\u001b[0m \u001b[32m━━━━━━━━━━━━━━━━━━━━\u001b[0m\u001b[37m\u001b[0m \u001b[1m0s\u001b[0m 16ms/step - accuracy: 0.6431 - loss: -4.7597 - val_accuracy: 0.6133 - val_loss: -4.8708\n",
            "Epoch 34/500\n",
            "\u001b[1m5/5\u001b[0m \u001b[32m━━━━━━━━━━━━━━━━━━━━\u001b[0m\u001b[37m\u001b[0m \u001b[1m0s\u001b[0m 16ms/step - accuracy: 0.7067 - loss: -5.1335 - val_accuracy: 0.6133 - val_loss: -5.0420\n",
            "Epoch 35/500\n",
            "\u001b[1m5/5\u001b[0m \u001b[32m━━━━━━━━━━━━━━━━━━━━\u001b[0m\u001b[37m\u001b[0m \u001b[1m0s\u001b[0m 20ms/step - accuracy: 0.6956 - loss: -5.3401 - val_accuracy: 0.6133 - val_loss: -5.2217\n",
            "Epoch 36/500\n",
            "\u001b[1m5/5\u001b[0m \u001b[32m━━━━━━━━━━━━━━━━━━━━\u001b[0m\u001b[37m\u001b[0m \u001b[1m0s\u001b[0m 18ms/step - accuracy: 0.6959 - loss: -5.5096 - val_accuracy: 0.6133 - val_loss: -5.4198\n",
            "Epoch 37/500\n",
            "\u001b[1m5/5\u001b[0m \u001b[32m━━━━━━━━━━━━━━━━━━━━\u001b[0m\u001b[37m\u001b[0m \u001b[1m0s\u001b[0m 17ms/step - accuracy: 0.6798 - loss: -5.6156 - val_accuracy: 0.6133 - val_loss: -5.6252\n",
            "Epoch 38/500\n",
            "\u001b[1m5/5\u001b[0m \u001b[32m━━━━━━━━━━━━━━━━━━━━\u001b[0m\u001b[37m\u001b[0m \u001b[1m0s\u001b[0m 18ms/step - accuracy: 0.6462 - loss: -5.7014 - val_accuracy: 0.6133 - val_loss: -5.8482\n",
            "Epoch 39/500\n",
            "\u001b[1m5/5\u001b[0m \u001b[32m━━━━━━━━━━━━━━━━━━━━\u001b[0m\u001b[37m\u001b[0m \u001b[1m0s\u001b[0m 18ms/step - accuracy: 0.6967 - loss: -6.0013 - val_accuracy: 0.6133 - val_loss: -6.0877\n",
            "Epoch 40/500\n",
            "\u001b[1m5/5\u001b[0m \u001b[32m━━━━━━━━━━━━━━━━━━━━\u001b[0m\u001b[37m\u001b[0m \u001b[1m0s\u001b[0m 17ms/step - accuracy: 0.6753 - loss: -6.2604 - val_accuracy: 0.6133 - val_loss: -6.3345\n",
            "Epoch 41/500\n",
            "\u001b[1m5/5\u001b[0m \u001b[32m━━━━━━━━━━━━━━━━━━━━\u001b[0m\u001b[37m\u001b[0m \u001b[1m0s\u001b[0m 16ms/step - accuracy: 0.6612 - loss: -6.4308 - val_accuracy: 0.6133 - val_loss: -6.5850\n",
            "Epoch 42/500\n",
            "\u001b[1m5/5\u001b[0m \u001b[32m━━━━━━━━━━━━━━━━━━━━\u001b[0m\u001b[37m\u001b[0m \u001b[1m0s\u001b[0m 27ms/step - accuracy: 0.6656 - loss: -6.6666 - val_accuracy: 0.6133 - val_loss: -6.8330\n",
            "Epoch 43/500\n",
            "\u001b[1m5/5\u001b[0m \u001b[32m━━━━━━━━━━━━━━━━━━━━\u001b[0m\u001b[37m\u001b[0m \u001b[1m0s\u001b[0m 18ms/step - accuracy: 0.6756 - loss: -6.9939 - val_accuracy: 0.6133 - val_loss: -7.0805\n",
            "Epoch 44/500\n",
            "\u001b[1m5/5\u001b[0m \u001b[32m━━━━━━━━━━━━━━━━━━━━\u001b[0m\u001b[37m\u001b[0m \u001b[1m0s\u001b[0m 18ms/step - accuracy: 0.6832 - loss: -7.1175 - val_accuracy: 0.6133 - val_loss: -7.3243\n",
            "Epoch 45/500\n",
            "\u001b[1m5/5\u001b[0m \u001b[32m━━━━━━━━━━━━━━━━━━━━\u001b[0m\u001b[37m\u001b[0m \u001b[1m0s\u001b[0m 17ms/step - accuracy: 0.7139 - loss: -7.4284 - val_accuracy: 0.6133 - val_loss: -7.5616\n",
            "Epoch 46/500\n",
            "\u001b[1m5/5\u001b[0m \u001b[32m━━━━━━━━━━━━━━━━━━━━\u001b[0m\u001b[37m\u001b[0m \u001b[1m0s\u001b[0m 17ms/step - accuracy: 0.7047 - loss: -7.6861 - val_accuracy: 0.6133 - val_loss: -7.7865\n",
            "Epoch 47/500\n",
            "\u001b[1m5/5\u001b[0m \u001b[32m━━━━━━━━━━━━━━━━━━━━\u001b[0m\u001b[37m\u001b[0m \u001b[1m0s\u001b[0m 19ms/step - accuracy: 0.7033 - loss: -8.1778 - val_accuracy: 0.6133 - val_loss: -8.0038\n",
            "Epoch 48/500\n",
            "\u001b[1m5/5\u001b[0m \u001b[32m━━━━━━━━━━━━━━━━━━━━\u001b[0m\u001b[37m\u001b[0m \u001b[1m0s\u001b[0m 22ms/step - accuracy: 0.6917 - loss: -8.2630 - val_accuracy: 0.6133 - val_loss: -8.2116\n",
            "Epoch 49/500\n",
            "\u001b[1m5/5\u001b[0m \u001b[32m━━━━━━━━━━━━━━━━━━━━\u001b[0m\u001b[37m\u001b[0m \u001b[1m0s\u001b[0m 17ms/step - accuracy: 0.7053 - loss: -8.5858 - val_accuracy: 0.6133 - val_loss: -8.4147\n",
            "Epoch 50/500\n",
            "\u001b[1m5/5\u001b[0m \u001b[32m━━━━━━━━━━━━━━━━━━━━\u001b[0m\u001b[37m\u001b[0m \u001b[1m0s\u001b[0m 17ms/step - accuracy: 0.6439 - loss: -8.3521 - val_accuracy: 0.6133 - val_loss: -8.6133\n",
            "Epoch 51/500\n",
            "\u001b[1m5/5\u001b[0m \u001b[32m━━━━━━━━━━━━━━━━━━━━\u001b[0m\u001b[37m\u001b[0m \u001b[1m0s\u001b[0m 18ms/step - accuracy: 0.6506 - loss: -8.5181 - val_accuracy: 0.6133 - val_loss: -8.8079\n",
            "Epoch 52/500\n",
            "\u001b[1m5/5\u001b[0m \u001b[32m━━━━━━━━━━━━━━━━━━━━\u001b[0m\u001b[37m\u001b[0m \u001b[1m0s\u001b[0m 28ms/step - accuracy: 0.6922 - loss: -8.9849 - val_accuracy: 0.6133 - val_loss: -8.9988\n",
            "Epoch 53/500\n",
            "\u001b[1m5/5\u001b[0m \u001b[32m━━━━━━━━━━━━━━━━━━━━\u001b[0m\u001b[37m\u001b[0m \u001b[1m0s\u001b[0m 17ms/step - accuracy: 0.7208 - loss: -9.3969 - val_accuracy: 0.6133 - val_loss: -9.1846\n",
            "Epoch 54/500\n",
            "\u001b[1m5/5\u001b[0m \u001b[32m━━━━━━━━━━━━━━━━━━━━\u001b[0m\u001b[37m\u001b[0m \u001b[1m0s\u001b[0m 17ms/step - accuracy: 0.6856 - loss: -9.5319 - val_accuracy: 0.6133 - val_loss: -9.3816\n",
            "Epoch 55/500\n",
            "\u001b[1m5/5\u001b[0m \u001b[32m━━━━━━━━━━━━━━━━━━━━\u001b[0m\u001b[37m\u001b[0m \u001b[1m0s\u001b[0m 18ms/step - accuracy: 0.6700 - loss: -9.2529 - val_accuracy: 0.6133 - val_loss: -9.5581\n",
            "Epoch 56/500\n",
            "\u001b[1m5/5\u001b[0m \u001b[32m━━━━━━━━━━━━━━━━━━━━\u001b[0m\u001b[37m\u001b[0m \u001b[1m0s\u001b[0m 28ms/step - accuracy: 0.6886 - loss: -10.0558 - val_accuracy: 0.6133 - val_loss: -9.7282\n",
            "Epoch 57/500\n",
            "\u001b[1m5/5\u001b[0m \u001b[32m━━━━━━━━━━━━━━━━━━━━\u001b[0m\u001b[37m\u001b[0m \u001b[1m0s\u001b[0m 33ms/step - accuracy: 0.6803 - loss: -10.0232 - val_accuracy: 0.6133 - val_loss: -9.8810\n",
            "Epoch 58/500\n",
            "\u001b[1m5/5\u001b[0m \u001b[32m━━━━━━━━━━━━━━━━━━━━\u001b[0m\u001b[37m\u001b[0m \u001b[1m0s\u001b[0m 31ms/step - accuracy: 0.7042 - loss: -10.3859 - val_accuracy: 0.6133 - val_loss: -10.0523\n",
            "Epoch 59/500\n",
            "\u001b[1m5/5\u001b[0m \u001b[32m━━━━━━━━━━━━━━━━━━━━\u001b[0m\u001b[37m\u001b[0m \u001b[1m0s\u001b[0m 22ms/step - accuracy: 0.6936 - loss: -10.4649 - val_accuracy: 0.6133 - val_loss: -10.1838\n",
            "Epoch 60/500\n",
            "\u001b[1m5/5\u001b[0m \u001b[32m━━━━━━━━━━━━━━━━━━━━\u001b[0m\u001b[37m\u001b[0m \u001b[1m0s\u001b[0m 32ms/step - accuracy: 0.7050 - loss: -10.4852 - val_accuracy: 0.6133 - val_loss: -10.3406\n",
            "Epoch 61/500\n",
            "\u001b[1m5/5\u001b[0m \u001b[32m━━━━━━━━━━━━━━━━━━━━\u001b[0m\u001b[37m\u001b[0m \u001b[1m0s\u001b[0m 33ms/step - accuracy: 0.6883 - loss: -10.6295 - val_accuracy: 0.6133 - val_loss: -10.5021\n",
            "Epoch 62/500\n",
            "\u001b[1m5/5\u001b[0m \u001b[32m━━━━━━━━━━━━━━━━━━━━\u001b[0m\u001b[37m\u001b[0m \u001b[1m0s\u001b[0m 31ms/step - accuracy: 0.7006 - loss: -11.0143 - val_accuracy: 0.6133 - val_loss: -10.7148\n",
            "Epoch 63/500\n",
            "\u001b[1m5/5\u001b[0m \u001b[32m━━━━━━━━━━━━━━━━━━━━\u001b[0m\u001b[37m\u001b[0m \u001b[1m0s\u001b[0m 33ms/step - accuracy: 0.6883 - loss: -10.7145 - val_accuracy: 0.6133 - val_loss: -10.7724\n",
            "Epoch 64/500\n",
            "\u001b[1m5/5\u001b[0m \u001b[32m━━━━━━━━━━━━━━━━━━━━\u001b[0m\u001b[37m\u001b[0m \u001b[1m0s\u001b[0m 41ms/step - accuracy: 0.6700 - loss: -11.1047 - val_accuracy: 0.6133 - val_loss: -11.0894\n",
            "Epoch 65/500\n",
            "\u001b[1m5/5\u001b[0m \u001b[32m━━━━━━━━━━━━━━━━━━━━\u001b[0m\u001b[37m\u001b[0m \u001b[1m0s\u001b[0m 18ms/step - accuracy: 0.6892 - loss: -11.5557 - val_accuracy: 0.6133 - val_loss: -11.1317\n",
            "Epoch 66/500\n",
            "\u001b[1m5/5\u001b[0m \u001b[32m━━━━━━━━━━━━━━━━━━━━\u001b[0m\u001b[37m\u001b[0m \u001b[1m0s\u001b[0m 18ms/step - accuracy: 0.7042 - loss: -11.7193 - val_accuracy: 0.6133 - val_loss: -11.1811\n",
            "Epoch 67/500\n",
            "\u001b[1m5/5\u001b[0m \u001b[32m━━━━━━━━━━━━━━━━━━━━\u001b[0m\u001b[37m\u001b[0m \u001b[1m0s\u001b[0m 28ms/step - accuracy: 0.6767 - loss: -11.4523 - val_accuracy: 0.6133 - val_loss: -11.2269\n",
            "Epoch 68/500\n",
            "\u001b[1m5/5\u001b[0m \u001b[32m━━━━━━━━━━━━━━━━━━━━\u001b[0m\u001b[37m\u001b[0m \u001b[1m0s\u001b[0m 16ms/step - accuracy: 0.7036 - loss: -11.6286 - val_accuracy: 0.6133 - val_loss: -11.2722\n",
            "Epoch 69/500\n",
            "\u001b[1m5/5\u001b[0m \u001b[32m━━━━━━━━━━━━━━━━━━━━\u001b[0m\u001b[37m\u001b[0m \u001b[1m0s\u001b[0m 17ms/step - accuracy: 0.7064 - loss: -12.0064 - val_accuracy: 0.6133 - val_loss: -11.3423\n",
            "Epoch 70/500\n",
            "\u001b[1m5/5\u001b[0m \u001b[32m━━━━━━━━━━━━━━━━━━━━\u001b[0m\u001b[37m\u001b[0m \u001b[1m0s\u001b[0m 18ms/step - accuracy: 0.7108 - loss: -12.0330 - val_accuracy: 0.6133 - val_loss: -11.4233\n",
            "Epoch 71/500\n",
            "\u001b[1m5/5\u001b[0m \u001b[32m━━━━━━━━━━━━━━━━━━━━\u001b[0m\u001b[37m\u001b[0m \u001b[1m0s\u001b[0m 17ms/step - accuracy: 0.6978 - loss: -11.7865 - val_accuracy: 0.6133 - val_loss: -11.4854\n",
            "Epoch 72/500\n",
            "\u001b[1m5/5\u001b[0m \u001b[32m━━━━━━━━━━━━━━━━━━━━\u001b[0m\u001b[37m\u001b[0m \u001b[1m0s\u001b[0m 17ms/step - accuracy: 0.6761 - loss: -11.6857 - val_accuracy: 0.6133 - val_loss: -11.5500\n",
            "Epoch 73/500\n",
            "\u001b[1m5/5\u001b[0m \u001b[32m━━━━━━━━━━━━━━━━━━━━\u001b[0m\u001b[37m\u001b[0m \u001b[1m0s\u001b[0m 18ms/step - accuracy: 0.6936 - loss: -12.0041 - val_accuracy: 0.6133 - val_loss: -11.6426\n",
            "Epoch 74/500\n",
            "\u001b[1m5/5\u001b[0m \u001b[32m━━━━━━━━━━━━━━━━━━━━\u001b[0m\u001b[37m\u001b[0m \u001b[1m0s\u001b[0m 18ms/step - accuracy: 0.6953 - loss: -12.1870 - val_accuracy: 0.6133 - val_loss: -11.7014\n",
            "Epoch 75/500\n",
            "\u001b[1m5/5\u001b[0m \u001b[32m━━━━━━━━━━━━━━━━━━━━\u001b[0m\u001b[37m\u001b[0m \u001b[1m0s\u001b[0m 16ms/step - accuracy: 0.6778 - loss: -11.8112 - val_accuracy: 0.6133 - val_loss: -11.7618\n",
            "Epoch 76/500\n",
            "\u001b[1m5/5\u001b[0m \u001b[32m━━━━━━━━━━━━━━━━━━━━\u001b[0m\u001b[37m\u001b[0m \u001b[1m0s\u001b[0m 16ms/step - accuracy: 0.6920 - loss: -12.0909 - val_accuracy: 0.6133 - val_loss: -11.8521\n",
            "Epoch 77/500\n",
            "\u001b[1m5/5\u001b[0m \u001b[32m━━━━━━━━━━━━━━━━━━━━\u001b[0m\u001b[37m\u001b[0m \u001b[1m0s\u001b[0m 18ms/step - accuracy: 0.6756 - loss: -12.1533 - val_accuracy: 0.6133 - val_loss: -11.8937\n",
            "Epoch 78/500\n",
            "\u001b[1m5/5\u001b[0m \u001b[32m━━━━━━━━━━━━━━━━━━━━\u001b[0m\u001b[37m\u001b[0m \u001b[1m0s\u001b[0m 18ms/step - accuracy: 0.6931 - loss: -12.4179 - val_accuracy: 0.6133 - val_loss: -11.9503\n",
            "Epoch 79/500\n",
            "\u001b[1m5/5\u001b[0m \u001b[32m━━━━━━━━━━━━━━━━━━━━\u001b[0m\u001b[37m\u001b[0m \u001b[1m0s\u001b[0m 27ms/step - accuracy: 0.7228 - loss: -12.5270 - val_accuracy: 0.6133 - val_loss: -11.9934\n",
            "Epoch 80/500\n",
            "\u001b[1m5/5\u001b[0m \u001b[32m━━━━━━━━━━━━━━━━━━━━\u001b[0m\u001b[37m\u001b[0m \u001b[1m0s\u001b[0m 28ms/step - accuracy: 0.7014 - loss: -12.4598 - val_accuracy: 0.6133 - val_loss: -12.0354\n",
            "Epoch 81/500\n",
            "\u001b[1m5/5\u001b[0m \u001b[32m━━━━━━━━━━━━━━━━━━━━\u001b[0m\u001b[37m\u001b[0m \u001b[1m0s\u001b[0m 19ms/step - accuracy: 0.7181 - loss: -12.5834 - val_accuracy: 0.6133 - val_loss: -12.0797\n",
            "Epoch 82/500\n",
            "\u001b[1m5/5\u001b[0m \u001b[32m━━━━━━━━━━━━━━━━━━━━\u001b[0m\u001b[37m\u001b[0m \u001b[1m0s\u001b[0m 18ms/step - accuracy: 0.6736 - loss: -12.3762 - val_accuracy: 0.6133 - val_loss: -12.1253\n",
            "Epoch 83/500\n",
            "\u001b[1m5/5\u001b[0m \u001b[32m━━━━━━━━━━━━━━━━━━━━\u001b[0m\u001b[37m\u001b[0m \u001b[1m0s\u001b[0m 19ms/step - accuracy: 0.6722 - loss: -12.5072 - val_accuracy: 0.6133 - val_loss: -12.1609\n",
            "Epoch 84/500\n",
            "\u001b[1m5/5\u001b[0m \u001b[32m━━━━━━━━━━━━━━━━━━━━\u001b[0m\u001b[37m\u001b[0m \u001b[1m0s\u001b[0m 18ms/step - accuracy: 0.6920 - loss: -12.3487 - val_accuracy: 0.6133 - val_loss: -12.1979\n",
            "Epoch 85/500\n",
            "\u001b[1m5/5\u001b[0m \u001b[32m━━━━━━━━━━━━━━━━━━━━\u001b[0m\u001b[37m\u001b[0m \u001b[1m0s\u001b[0m 17ms/step - accuracy: 0.6986 - loss: -12.6829 - val_accuracy: 0.6133 - val_loss: -12.2414\n",
            "Epoch 86/500\n",
            "\u001b[1m5/5\u001b[0m \u001b[32m━━━━━━━━━━━━━━━━━━━━\u001b[0m\u001b[37m\u001b[0m \u001b[1m0s\u001b[0m 18ms/step - accuracy: 0.6889 - loss: -12.8573 - val_accuracy: 0.6133 - val_loss: -12.2815\n",
            "Epoch 87/500\n",
            "\u001b[1m5/5\u001b[0m \u001b[32m━━━━━━━━━━━━━━━━━━━━\u001b[0m\u001b[37m\u001b[0m \u001b[1m0s\u001b[0m 27ms/step - accuracy: 0.6925 - loss: -12.7021 - val_accuracy: 0.6133 - val_loss: -12.3278\n",
            "Epoch 88/500\n",
            "\u001b[1m5/5\u001b[0m \u001b[32m━━━━━━━━━━━━━━━━━━━━\u001b[0m\u001b[37m\u001b[0m \u001b[1m0s\u001b[0m 17ms/step - accuracy: 0.6886 - loss: -12.9730 - val_accuracy: 0.6133 - val_loss: -12.3692\n",
            "Epoch 89/500\n",
            "\u001b[1m5/5\u001b[0m \u001b[32m━━━━━━━━━━━━━━━━━━━━\u001b[0m\u001b[37m\u001b[0m \u001b[1m0s\u001b[0m 17ms/step - accuracy: 0.6697 - loss: -12.5144 - val_accuracy: 0.6133 - val_loss: -12.4186\n",
            "Epoch 90/500\n",
            "\u001b[1m5/5\u001b[0m \u001b[32m━━━━━━━━━━━━━━━━━━━━\u001b[0m\u001b[37m\u001b[0m \u001b[1m0s\u001b[0m 28ms/step - accuracy: 0.6836 - loss: -12.6746 - val_accuracy: 0.6133 - val_loss: -12.4632\n",
            "Epoch 91/500\n",
            "\u001b[1m5/5\u001b[0m \u001b[32m━━━━━━━━━━━━━━━━━━━━\u001b[0m\u001b[37m\u001b[0m \u001b[1m0s\u001b[0m 17ms/step - accuracy: 0.6875 - loss: -12.5782 - val_accuracy: 0.6133 - val_loss: -12.5040\n",
            "Epoch 92/500\n",
            "\u001b[1m5/5\u001b[0m \u001b[32m━━━━━━━━━━━━━━━━━━━━\u001b[0m\u001b[37m\u001b[0m \u001b[1m0s\u001b[0m 17ms/step - accuracy: 0.7003 - loss: -12.8084 - val_accuracy: 0.6133 - val_loss: -12.5650\n",
            "Epoch 93/500\n",
            "\u001b[1m5/5\u001b[0m \u001b[32m━━━━━━━━━━━━━━━━━━━━\u001b[0m\u001b[37m\u001b[0m \u001b[1m0s\u001b[0m 18ms/step - accuracy: 0.6842 - loss: -12.7504 - val_accuracy: 0.6133 - val_loss: -12.5991\n",
            "Epoch 94/500\n",
            "\u001b[1m5/5\u001b[0m \u001b[32m━━━━━━━━━━━━━━━━━━━━\u001b[0m\u001b[37m\u001b[0m \u001b[1m0s\u001b[0m 28ms/step - accuracy: 0.6789 - loss: -12.7132 - val_accuracy: 0.6133 - val_loss: -12.6404\n",
            "Epoch 95/500\n",
            "\u001b[1m5/5\u001b[0m \u001b[32m━━━━━━━━━━━━━━━━━━━━\u001b[0m\u001b[37m\u001b[0m \u001b[1m0s\u001b[0m 17ms/step - accuracy: 0.7153 - loss: -13.2885 - val_accuracy: 0.6133 - val_loss: -12.6829\n",
            "Epoch 96/500\n",
            "\u001b[1m5/5\u001b[0m \u001b[32m━━━━━━━━━━━━━━━━━━━━\u001b[0m\u001b[37m\u001b[0m \u001b[1m0s\u001b[0m 17ms/step - accuracy: 0.6906 - loss: -13.1862 - val_accuracy: 0.6133 - val_loss: -12.7237\n",
            "Epoch 97/500\n",
            "\u001b[1m5/5\u001b[0m \u001b[32m━━━━━━━━━━━━━━━━━━━━\u001b[0m\u001b[37m\u001b[0m \u001b[1m0s\u001b[0m 17ms/step - accuracy: 0.6792 - loss: -13.0049 - val_accuracy: 0.6133 - val_loss: -12.7621\n",
            "Epoch 98/500\n",
            "\u001b[1m5/5\u001b[0m \u001b[32m━━━━━━━━━━━━━━━━━━━━\u001b[0m\u001b[37m\u001b[0m \u001b[1m0s\u001b[0m 17ms/step - accuracy: 0.6903 - loss: -13.0812 - val_accuracy: 0.6133 - val_loss: -12.8437\n",
            "Epoch 99/500\n",
            "\u001b[1m5/5\u001b[0m \u001b[32m━━━━━━━━━━━━━━━━━━━━\u001b[0m\u001b[37m\u001b[0m \u001b[1m0s\u001b[0m 16ms/step - accuracy: 0.7064 - loss: -13.3867 - val_accuracy: 0.6133 - val_loss: -12.8647\n",
            "Epoch 100/500\n",
            "\u001b[1m5/5\u001b[0m \u001b[32m━━━━━━━━━━━━━━━━━━━━\u001b[0m\u001b[37m\u001b[0m \u001b[1m0s\u001b[0m 16ms/step - accuracy: 0.6625 - loss: -13.2213 - val_accuracy: 0.6133 - val_loss: -12.9054\n",
            "Epoch 101/500\n",
            "\u001b[1m5/5\u001b[0m \u001b[32m━━━━━━━━━━━━━━━━━━━━\u001b[0m\u001b[37m\u001b[0m \u001b[1m0s\u001b[0m 16ms/step - accuracy: 0.6833 - loss: -13.3596 - val_accuracy: 0.6133 - val_loss: -12.9439\n",
            "Epoch 102/500\n",
            "\u001b[1m5/5\u001b[0m \u001b[32m━━━━━━━━━━━━━━━━━━━━\u001b[0m\u001b[37m\u001b[0m \u001b[1m0s\u001b[0m 16ms/step - accuracy: 0.6692 - loss: -13.2708 - val_accuracy: 0.6133 - val_loss: -12.9804\n",
            "Epoch 103/500\n",
            "\u001b[1m5/5\u001b[0m \u001b[32m━━━━━━━━━━━━━━━━━━━━\u001b[0m\u001b[37m\u001b[0m \u001b[1m0s\u001b[0m 27ms/step - accuracy: 0.6861 - loss: -13.1593 - val_accuracy: 0.6133 - val_loss: -13.0208\n",
            "Epoch 104/500\n",
            "\u001b[1m5/5\u001b[0m \u001b[32m━━━━━━━━━━━━━━━━━━━━\u001b[0m\u001b[37m\u001b[0m \u001b[1m0s\u001b[0m 16ms/step - accuracy: 0.6842 - loss: -13.1126 - val_accuracy: 0.6133 - val_loss: -13.0574\n",
            "Epoch 105/500\n",
            "\u001b[1m5/5\u001b[0m \u001b[32m━━━━━━━━━━━━━━━━━━━━\u001b[0m\u001b[37m\u001b[0m \u001b[1m0s\u001b[0m 27ms/step - accuracy: 0.6825 - loss: -13.3262 - val_accuracy: 0.6133 - val_loss: -13.0962\n",
            "Epoch 106/500\n",
            "\u001b[1m5/5\u001b[0m \u001b[32m━━━━━━━━━━━━━━━━━━━━\u001b[0m\u001b[37m\u001b[0m \u001b[1m0s\u001b[0m 17ms/step - accuracy: 0.6911 - loss: -13.5931 - val_accuracy: 0.6133 - val_loss: -13.1342\n",
            "Epoch 107/500\n",
            "\u001b[1m5/5\u001b[0m \u001b[32m━━━━━━━━━━━━━━━━━━━━\u001b[0m\u001b[37m\u001b[0m \u001b[1m0s\u001b[0m 17ms/step - accuracy: 0.7003 - loss: -13.3942 - val_accuracy: 0.6133 - val_loss: -13.1708\n",
            "Epoch 108/500\n",
            "\u001b[1m5/5\u001b[0m \u001b[32m━━━━━━━━━━━━━━━━━━━━\u001b[0m\u001b[37m\u001b[0m \u001b[1m0s\u001b[0m 17ms/step - accuracy: 0.6808 - loss: -13.6748 - val_accuracy: 0.6133 - val_loss: -13.2087\n",
            "Epoch 109/500\n",
            "\u001b[1m5/5\u001b[0m \u001b[32m━━━━━━━━━━━━━━━━━━━━\u001b[0m\u001b[37m\u001b[0m \u001b[1m0s\u001b[0m 17ms/step - accuracy: 0.7158 - loss: -13.7494 - val_accuracy: 0.6133 - val_loss: -13.2459\n",
            "Epoch 110/500\n",
            "\u001b[1m5/5\u001b[0m \u001b[32m━━━━━━━━━━━━━━━━━━━━\u001b[0m\u001b[37m\u001b[0m \u001b[1m0s\u001b[0m 16ms/step - accuracy: 0.6797 - loss: -13.3188 - val_accuracy: 0.6133 - val_loss: -13.2838\n",
            "Epoch 111/500\n",
            "\u001b[1m5/5\u001b[0m \u001b[32m━━━━━━━━━━━━━━━━━━━━\u001b[0m\u001b[37m\u001b[0m \u001b[1m0s\u001b[0m 16ms/step - accuracy: 0.7008 - loss: -13.3629 - val_accuracy: 0.6133 - val_loss: -13.3242\n",
            "Epoch 112/500\n",
            "\u001b[1m5/5\u001b[0m \u001b[32m━━━━━━━━━━━━━━━━━━━━\u001b[0m\u001b[37m\u001b[0m \u001b[1m0s\u001b[0m 16ms/step - accuracy: 0.7264 - loss: -13.9795 - val_accuracy: 0.6133 - val_loss: -13.3719\n",
            "Epoch 113/500\n",
            "\u001b[1m5/5\u001b[0m \u001b[32m━━━━━━━━━━━━━━━━━━━━\u001b[0m\u001b[37m\u001b[0m \u001b[1m0s\u001b[0m 16ms/step - accuracy: 0.7072 - loss: -13.7885 - val_accuracy: 0.6133 - val_loss: -13.4071\n",
            "Epoch 114/500\n",
            "\u001b[1m5/5\u001b[0m \u001b[32m━━━━━━━━━━━━━━━━━━━━\u001b[0m\u001b[37m\u001b[0m \u001b[1m0s\u001b[0m 17ms/step - accuracy: 0.7081 - loss: -13.8464 - val_accuracy: 0.6133 - val_loss: -13.4480\n",
            "Epoch 115/500\n",
            "\u001b[1m5/5\u001b[0m \u001b[32m━━━━━━━━━━━━━━━━━━━━\u001b[0m\u001b[37m\u001b[0m \u001b[1m0s\u001b[0m 16ms/step - accuracy: 0.6970 - loss: -13.6803 - val_accuracy: 0.6133 - val_loss: -13.4838\n",
            "Epoch 116/500\n",
            "\u001b[1m5/5\u001b[0m \u001b[32m━━━━━━━━━━━━━━━━━━━━\u001b[0m\u001b[37m\u001b[0m \u001b[1m0s\u001b[0m 16ms/step - accuracy: 0.6867 - loss: -13.5217 - val_accuracy: 0.6133 - val_loss: -13.5205\n",
            "Epoch 117/500\n",
            "\u001b[1m5/5\u001b[0m \u001b[32m━━━━━━━━━━━━━━━━━━━━\u001b[0m\u001b[37m\u001b[0m \u001b[1m0s\u001b[0m 16ms/step - accuracy: 0.7072 - loss: -14.0645 - val_accuracy: 0.6133 - val_loss: -13.5550\n",
            "Epoch 118/500\n",
            "\u001b[1m5/5\u001b[0m \u001b[32m━━━━━━━━━━━━━━━━━━━━\u001b[0m\u001b[37m\u001b[0m \u001b[1m0s\u001b[0m 17ms/step - accuracy: 0.6800 - loss: -13.6126 - val_accuracy: 0.6133 - val_loss: -13.5957\n",
            "Epoch 119/500\n",
            "\u001b[1m5/5\u001b[0m \u001b[32m━━━━━━━━━━━━━━━━━━━━\u001b[0m\u001b[37m\u001b[0m \u001b[1m0s\u001b[0m 16ms/step - accuracy: 0.6858 - loss: -13.8341 - val_accuracy: 0.6133 - val_loss: -13.6309\n",
            "Epoch 120/500\n",
            "\u001b[1m5/5\u001b[0m \u001b[32m━━━━━━━━━━━━━━━━━━━━\u001b[0m\u001b[37m\u001b[0m \u001b[1m0s\u001b[0m 17ms/step - accuracy: 0.6983 - loss: -13.5193 - val_accuracy: 0.6133 - val_loss: -13.6624\n",
            "Epoch 121/500\n",
            "\u001b[1m5/5\u001b[0m \u001b[32m━━━━━━━━━━━━━━━━━━━━\u001b[0m\u001b[37m\u001b[0m \u001b[1m0s\u001b[0m 16ms/step - accuracy: 0.6731 - loss: -13.7392 - val_accuracy: 0.6133 - val_loss: -13.6965\n",
            "Epoch 122/500\n",
            "\u001b[1m5/5\u001b[0m \u001b[32m━━━━━━━━━━━━━━━━━━━━\u001b[0m\u001b[37m\u001b[0m \u001b[1m0s\u001b[0m 19ms/step - accuracy: 0.6783 - loss: -13.7079 - val_accuracy: 0.6133 - val_loss: -13.7356\n",
            "Epoch 123/500\n",
            "\u001b[1m5/5\u001b[0m \u001b[32m━━━━━━━━━━━━━━━━━━━━\u001b[0m\u001b[37m\u001b[0m \u001b[1m0s\u001b[0m 17ms/step - accuracy: 0.7125 - loss: -13.9826 - val_accuracy: 0.6133 - val_loss: -13.7673\n",
            "Epoch 124/500\n",
            "\u001b[1m5/5\u001b[0m \u001b[32m━━━━━━━━━━━━━━━━━━━━\u001b[0m\u001b[37m\u001b[0m \u001b[1m0s\u001b[0m 19ms/step - accuracy: 0.6906 - loss: -14.1803 - val_accuracy: 0.6133 - val_loss: -13.8085\n",
            "Epoch 125/500\n",
            "\u001b[1m5/5\u001b[0m \u001b[32m━━━━━━━━━━━━━━━━━━━━\u001b[0m\u001b[37m\u001b[0m \u001b[1m0s\u001b[0m 17ms/step - accuracy: 0.7081 - loss: -14.0653 - val_accuracy: 0.6133 - val_loss: -13.8438\n",
            "Epoch 126/500\n",
            "\u001b[1m5/5\u001b[0m \u001b[32m━━━━━━━━━━━━━━━━━━━━\u001b[0m\u001b[37m\u001b[0m \u001b[1m0s\u001b[0m 16ms/step - accuracy: 0.6806 - loss: -13.9965 - val_accuracy: 0.6133 - val_loss: -13.8778\n",
            "Epoch 127/500\n",
            "\u001b[1m5/5\u001b[0m \u001b[32m━━━━━━━━━━━━━━━━━━━━\u001b[0m\u001b[37m\u001b[0m \u001b[1m0s\u001b[0m 17ms/step - accuracy: 0.6867 - loss: -14.2621 - val_accuracy: 0.6133 - val_loss: -13.9077\n",
            "Epoch 128/500\n",
            "\u001b[1m5/5\u001b[0m \u001b[32m━━━━━━━━━━━━━━━━━━━━\u001b[0m\u001b[37m\u001b[0m \u001b[1m0s\u001b[0m 17ms/step - accuracy: 0.7309 - loss: -14.6364 - val_accuracy: 0.6133 - val_loss: -13.9388\n",
            "Epoch 129/500\n",
            "\u001b[1m5/5\u001b[0m \u001b[32m━━━━━━━━━━━━━━━━━━━━\u001b[0m\u001b[37m\u001b[0m \u001b[1m0s\u001b[0m 18ms/step - accuracy: 0.6517 - loss: -14.0028 - val_accuracy: 0.6133 - val_loss: -13.9755\n",
            "Epoch 130/500\n",
            "\u001b[1m5/5\u001b[0m \u001b[32m━━━━━━━━━━━━━━━━━━━━\u001b[0m\u001b[37m\u001b[0m \u001b[1m0s\u001b[0m 17ms/step - accuracy: 0.6801 - loss: -14.3057 - val_accuracy: 0.6133 - val_loss: -14.0062\n",
            "Epoch 131/500\n",
            "\u001b[1m5/5\u001b[0m \u001b[32m━━━━━━━━━━━━━━━━━━━━\u001b[0m\u001b[37m\u001b[0m \u001b[1m0s\u001b[0m 20ms/step - accuracy: 0.6903 - loss: -14.3005 - val_accuracy: 0.6133 - val_loss: -14.0433\n",
            "Epoch 132/500\n",
            "\u001b[1m5/5\u001b[0m \u001b[32m━━━━━━━━━━━━━━━━━━━━\u001b[0m\u001b[37m\u001b[0m \u001b[1m0s\u001b[0m 17ms/step - accuracy: 0.6689 - loss: -14.1186 - val_accuracy: 0.6133 - val_loss: -14.0730\n",
            "Epoch 133/500\n",
            "\u001b[1m5/5\u001b[0m \u001b[32m━━━━━━━━━━━━━━━━━━━━\u001b[0m\u001b[37m\u001b[0m \u001b[1m0s\u001b[0m 17ms/step - accuracy: 0.6656 - loss: -14.0747 - val_accuracy: 0.6133 - val_loss: -14.1092\n",
            "Epoch 134/500\n",
            "\u001b[1m5/5\u001b[0m \u001b[32m━━━━━━━━━━━━━━━━━━━━\u001b[0m\u001b[37m\u001b[0m \u001b[1m0s\u001b[0m 17ms/step - accuracy: 0.6784 - loss: -14.3959 - val_accuracy: 0.6133 - val_loss: -14.1433\n",
            "Epoch 135/500\n",
            "\u001b[1m5/5\u001b[0m \u001b[32m━━━━━━━━━━━━━━━━━━━━\u001b[0m\u001b[37m\u001b[0m \u001b[1m0s\u001b[0m 16ms/step - accuracy: 0.6759 - loss: -14.2447 - val_accuracy: 0.6133 - val_loss: -14.1770\n",
            "Epoch 136/500\n",
            "\u001b[1m5/5\u001b[0m \u001b[32m━━━━━━━━━━━━━━━━━━━━\u001b[0m\u001b[37m\u001b[0m \u001b[1m0s\u001b[0m 17ms/step - accuracy: 0.6684 - loss: -14.2212 - val_accuracy: 0.6133 - val_loss: -14.2109\n",
            "Epoch 137/500\n",
            "\u001b[1m5/5\u001b[0m \u001b[32m━━━━━━━━━━━━━━━━━━━━\u001b[0m\u001b[37m\u001b[0m \u001b[1m0s\u001b[0m 17ms/step - accuracy: 0.6926 - loss: -14.5054 - val_accuracy: 0.6133 - val_loss: -14.2331\n",
            "Epoch 138/500\n",
            "\u001b[1m5/5\u001b[0m \u001b[32m━━━━━━━━━━━━━━━━━━━━\u001b[0m\u001b[37m\u001b[0m \u001b[1m0s\u001b[0m 27ms/step - accuracy: 0.6664 - loss: -14.6553 - val_accuracy: 0.6133 - val_loss: -14.2421\n",
            "Epoch 139/500\n",
            "\u001b[1m5/5\u001b[0m \u001b[32m━━━━━━━━━━━━━━━━━━━━\u001b[0m\u001b[37m\u001b[0m \u001b[1m0s\u001b[0m 21ms/step - accuracy: 0.6745 - loss: -14.5208 - val_accuracy: 0.6133 - val_loss: -14.2454\n",
            "Epoch 140/500\n",
            "\u001b[1m5/5\u001b[0m \u001b[32m━━━━━━━━━━━━━━━━━━━━\u001b[0m\u001b[37m\u001b[0m \u001b[1m0s\u001b[0m 27ms/step - accuracy: 0.6667 - loss: -14.6382 - val_accuracy: 0.6133 - val_loss: -14.2519\n",
            "Epoch 141/500\n",
            "\u001b[1m5/5\u001b[0m \u001b[32m━━━━━━━━━━━━━━━━━━━━\u001b[0m\u001b[37m\u001b[0m \u001b[1m0s\u001b[0m 16ms/step - accuracy: 0.6848 - loss: -14.6203 - val_accuracy: 0.6133 - val_loss: -14.2563\n",
            "Epoch 142/500\n",
            "\u001b[1m5/5\u001b[0m \u001b[32m━━━━━━━━━━━━━━━━━━━━\u001b[0m\u001b[37m\u001b[0m \u001b[1m0s\u001b[0m 16ms/step - accuracy: 0.6409 - loss: -14.1328 - val_accuracy: 0.6133 - val_loss: -14.2608\n",
            "Epoch 143/500\n",
            "\u001b[1m5/5\u001b[0m \u001b[32m━━━━━━━━━━━━━━━━━━━━\u001b[0m\u001b[37m\u001b[0m \u001b[1m0s\u001b[0m 16ms/step - accuracy: 0.6823 - loss: -14.7023 - val_accuracy: 0.6133 - val_loss: -14.2679\n",
            "Epoch 144/500\n",
            "\u001b[1m5/5\u001b[0m \u001b[32m━━━━━━━━━━━━━━━━━━━━\u001b[0m\u001b[37m\u001b[0m \u001b[1m0s\u001b[0m 17ms/step - accuracy: 0.6873 - loss: -14.5690 - val_accuracy: 0.6133 - val_loss: -14.2917\n",
            "Epoch 145/500\n",
            "\u001b[1m5/5\u001b[0m \u001b[32m━━━━━━━━━━━━━━━━━━━━\u001b[0m\u001b[37m\u001b[0m \u001b[1m0s\u001b[0m 17ms/step - accuracy: 0.6701 - loss: -14.2432 - val_accuracy: 0.6133 - val_loss: -14.2926\n",
            "Epoch 146/500\n",
            "\u001b[1m5/5\u001b[0m \u001b[32m━━━━━━━━━━━━━━━━━━━━\u001b[0m\u001b[37m\u001b[0m \u001b[1m0s\u001b[0m 19ms/step - accuracy: 0.6734 - loss: -14.2135 - val_accuracy: 0.6133 - val_loss: -14.3025\n",
            "Epoch 147/500\n",
            "\u001b[1m5/5\u001b[0m \u001b[32m━━━━━━━━━━━━━━━━━━━━\u001b[0m\u001b[37m\u001b[0m \u001b[1m0s\u001b[0m 27ms/step - accuracy: 0.6651 - loss: -14.3739 - val_accuracy: 0.6133 - val_loss: -14.3082\n",
            "Epoch 148/500\n",
            "\u001b[1m5/5\u001b[0m \u001b[32m━━━━━━━━━━━━━━━━━━━━\u001b[0m\u001b[37m\u001b[0m \u001b[1m0s\u001b[0m 32ms/step - accuracy: 0.6926 - loss: -14.9977 - val_accuracy: 0.6133 - val_loss: -14.3139\n",
            "Epoch 149/500\n",
            "\u001b[1m5/5\u001b[0m \u001b[32m━━━━━━━━━━━━━━━━━━━━\u001b[0m\u001b[37m\u001b[0m \u001b[1m0s\u001b[0m 25ms/step - accuracy: 0.6617 - loss: -14.6311 - val_accuracy: 0.6133 - val_loss: -14.3177\n",
            "Epoch 150/500\n",
            "\u001b[1m5/5\u001b[0m \u001b[32m━━━━━━━━━━━━━━━━━━━━\u001b[0m\u001b[37m\u001b[0m \u001b[1m0s\u001b[0m 31ms/step - accuracy: 0.7062 - loss: -14.6787 - val_accuracy: 0.6133 - val_loss: -14.3196\n",
            "Epoch 151/500\n",
            "\u001b[1m5/5\u001b[0m \u001b[32m━━━━━━━━━━━━━━━━━━━━\u001b[0m\u001b[37m\u001b[0m \u001b[1m0s\u001b[0m 31ms/step - accuracy: 0.6501 - loss: -14.3736 - val_accuracy: 0.6133 - val_loss: -14.3219\n",
            "Epoch 152/500\n",
            "\u001b[1m5/5\u001b[0m \u001b[32m━━━━━━━━━━━━━━━━━━━━\u001b[0m\u001b[37m\u001b[0m \u001b[1m0s\u001b[0m 23ms/step - accuracy: 0.6689 - loss: -14.2627 - val_accuracy: 0.6133 - val_loss: -14.3233\n",
            "Epoch 153/500\n",
            "\u001b[1m5/5\u001b[0m \u001b[32m━━━━━━━━━━━━━━━━━━━━\u001b[0m\u001b[37m\u001b[0m \u001b[1m0s\u001b[0m 22ms/step - accuracy: 0.6828 - loss: -14.5939 - val_accuracy: 0.6133 - val_loss: -14.3299\n",
            "Epoch 154/500\n",
            "\u001b[1m5/5\u001b[0m \u001b[32m━━━━━━━━━━━━━━━━━━━━\u001b[0m\u001b[37m\u001b[0m \u001b[1m0s\u001b[0m 33ms/step - accuracy: 0.6870 - loss: -14.5023 - val_accuracy: 0.6133 - val_loss: -14.3383\n",
            "Epoch 155/500\n",
            "\u001b[1m5/5\u001b[0m \u001b[32m━━━━━━━━━━━━━━━━━━━━\u001b[0m\u001b[37m\u001b[0m \u001b[1m0s\u001b[0m 28ms/step - accuracy: 0.6589 - loss: -14.6636 - val_accuracy: 0.6133 - val_loss: -14.3459\n",
            "Epoch 156/500\n",
            "\u001b[1m5/5\u001b[0m \u001b[32m━━━━━━━━━━━━━━━━━━━━\u001b[0m\u001b[37m\u001b[0m \u001b[1m0s\u001b[0m 33ms/step - accuracy: 0.6812 - loss: -14.7622 - val_accuracy: 0.6133 - val_loss: -14.3540\n",
            "Epoch 157/500\n",
            "\u001b[1m5/5\u001b[0m \u001b[32m━━━━━━━━━━━━━━━━━━━━\u001b[0m\u001b[37m\u001b[0m \u001b[1m0s\u001b[0m 17ms/step - accuracy: 0.6714 - loss: -14.6897 - val_accuracy: 0.6133 - val_loss: -14.3606\n",
            "Epoch 158/500\n",
            "\u001b[1m5/5\u001b[0m \u001b[32m━━━━━━━━━━━━━━━━━━━━\u001b[0m\u001b[37m\u001b[0m \u001b[1m0s\u001b[0m 17ms/step - accuracy: 0.6751 - loss: -14.2182 - val_accuracy: 0.6133 - val_loss: -14.3688\n",
            "Epoch 159/500\n",
            "\u001b[1m5/5\u001b[0m \u001b[32m━━━━━━━━━━━━━━━━━━━━\u001b[0m\u001b[37m\u001b[0m \u001b[1m0s\u001b[0m 17ms/step - accuracy: 0.6762 - loss: -14.9005 - val_accuracy: 0.6133 - val_loss: -14.3795\n",
            "Epoch 160/500\n",
            "\u001b[1m5/5\u001b[0m \u001b[32m━━━━━━━━━━━━━━━━━━━━\u001b[0m\u001b[37m\u001b[0m \u001b[1m0s\u001b[0m 16ms/step - accuracy: 0.6587 - loss: -14.3487 - val_accuracy: 0.6133 - val_loss: -14.3880\n",
            "Epoch 161/500\n",
            "\u001b[1m5/5\u001b[0m \u001b[32m━━━━━━━━━━━━━━━━━━━━\u001b[0m\u001b[37m\u001b[0m \u001b[1m0s\u001b[0m 16ms/step - accuracy: 0.7073 - loss: -15.0884 - val_accuracy: 0.6133 - val_loss: -14.3936\n",
            "Epoch 162/500\n",
            "\u001b[1m5/5\u001b[0m \u001b[32m━━━━━━━━━━━━━━━━━━━━\u001b[0m\u001b[37m\u001b[0m \u001b[1m0s\u001b[0m 17ms/step - accuracy: 0.6562 - loss: -14.5186 - val_accuracy: 0.6133 - val_loss: -14.3997\n",
            "Epoch 163/500\n",
            "\u001b[1m5/5\u001b[0m \u001b[32m━━━━━━━━━━━━━━━━━━━━\u001b[0m\u001b[37m\u001b[0m \u001b[1m0s\u001b[0m 17ms/step - accuracy: 0.6864 - loss: -14.7323 - val_accuracy: 0.6133 - val_loss: -14.4068\n",
            "Epoch 164/500\n",
            "\u001b[1m5/5\u001b[0m \u001b[32m━━━━━━━━━━━━━━━━━━━━\u001b[0m\u001b[37m\u001b[0m \u001b[1m0s\u001b[0m 16ms/step - accuracy: 0.6706 - loss: -14.4567 - val_accuracy: 0.6133 - val_loss: -14.4109\n",
            "Epoch 165/500\n",
            "\u001b[1m5/5\u001b[0m \u001b[32m━━━━━━━━━━━━━━━━━━━━\u001b[0m\u001b[37m\u001b[0m \u001b[1m0s\u001b[0m 17ms/step - accuracy: 0.7001 - loss: -14.9928 - val_accuracy: 0.6133 - val_loss: -14.4184\n",
            "Epoch 166/500\n",
            "\u001b[1m5/5\u001b[0m \u001b[32m━━━━━━━━━━━━━━━━━━━━\u001b[0m\u001b[37m\u001b[0m \u001b[1m0s\u001b[0m 17ms/step - accuracy: 0.6764 - loss: -14.9810 - val_accuracy: 0.6133 - val_loss: -14.4272\n",
            "Epoch 167/500\n",
            "\u001b[1m5/5\u001b[0m \u001b[32m━━━━━━━━━━━━━━━━━━━━\u001b[0m\u001b[37m\u001b[0m \u001b[1m0s\u001b[0m 17ms/step - accuracy: 0.6884 - loss: -14.5957 - val_accuracy: 0.6133 - val_loss: -14.4315\n",
            "Epoch 168/500\n",
            "\u001b[1m5/5\u001b[0m \u001b[32m━━━━━━━━━━━━━━━━━━━━\u001b[0m\u001b[37m\u001b[0m \u001b[1m0s\u001b[0m 17ms/step - accuracy: 0.7114 - loss: -14.9515 - val_accuracy: 0.6133 - val_loss: -14.4379\n",
            "Epoch 169/500\n",
            "\u001b[1m5/5\u001b[0m \u001b[32m━━━━━━━━━━━━━━━━━━━━\u001b[0m\u001b[37m\u001b[0m \u001b[1m0s\u001b[0m 17ms/step - accuracy: 0.6901 - loss: -14.6385 - val_accuracy: 0.6133 - val_loss: -14.4436\n",
            "Epoch 170/500\n",
            "\u001b[1m5/5\u001b[0m \u001b[32m━━━━━━━━━━━━━━━━━━━━\u001b[0m\u001b[37m\u001b[0m \u001b[1m0s\u001b[0m 27ms/step - accuracy: 0.6834 - loss: -14.6868 - val_accuracy: 0.6133 - val_loss: -14.4558\n",
            "Epoch 171/500\n",
            "\u001b[1m5/5\u001b[0m \u001b[32m━━━━━━━━━━━━━━━━━━━━\u001b[0m\u001b[37m\u001b[0m \u001b[1m0s\u001b[0m 27ms/step - accuracy: 0.7061 - loss: -15.0482 - val_accuracy: 0.6133 - val_loss: -14.4589\n",
            "Epoch 172/500\n",
            "\u001b[1m5/5\u001b[0m \u001b[32m━━━━━━━━━━━━━━━━━━━━\u001b[0m\u001b[37m\u001b[0m \u001b[1m0s\u001b[0m 17ms/step - accuracy: 0.7067 - loss: -14.7012 - val_accuracy: 0.6133 - val_loss: -14.4669\n",
            "Epoch 173/500\n",
            "\u001b[1m5/5\u001b[0m \u001b[32m━━━━━━━━━━━━━━━━━━━━\u001b[0m\u001b[37m\u001b[0m \u001b[1m0s\u001b[0m 28ms/step - accuracy: 0.7178 - loss: -14.9047 - val_accuracy: 0.6133 - val_loss: -14.4727\n",
            "Epoch 174/500\n",
            "\u001b[1m5/5\u001b[0m \u001b[32m━━━━━━━━━━━━━━━━━━━━\u001b[0m\u001b[37m\u001b[0m \u001b[1m0s\u001b[0m 17ms/step - accuracy: 0.6576 - loss: -14.4971 - val_accuracy: 0.6133 - val_loss: -14.4782\n",
            "Epoch 175/500\n",
            "\u001b[1m5/5\u001b[0m \u001b[32m━━━━━━━━━━━━━━━━━━━━\u001b[0m\u001b[37m\u001b[0m \u001b[1m0s\u001b[0m 27ms/step - accuracy: 0.6942 - loss: -14.8383 - val_accuracy: 0.6133 - val_loss: -14.4878\n",
            "Epoch 176/500\n",
            "\u001b[1m5/5\u001b[0m \u001b[32m━━━━━━━━━━━━━━━━━━━━\u001b[0m\u001b[37m\u001b[0m \u001b[1m0s\u001b[0m 17ms/step - accuracy: 0.7142 - loss: -14.9611 - val_accuracy: 0.6133 - val_loss: -14.4953\n",
            "Epoch 177/500\n",
            "\u001b[1m5/5\u001b[0m \u001b[32m━━━━━━━━━━━━━━━━━━━━\u001b[0m\u001b[37m\u001b[0m \u001b[1m0s\u001b[0m 17ms/step - accuracy: 0.6911 - loss: -14.8659 - val_accuracy: 0.6133 - val_loss: -14.5010\n",
            "Epoch 178/500\n",
            "\u001b[1m5/5\u001b[0m \u001b[32m━━━━━━━━━━━━━━━━━━━━\u001b[0m\u001b[37m\u001b[0m \u001b[1m0s\u001b[0m 17ms/step - accuracy: 0.6772 - loss: -14.5559 - val_accuracy: 0.6133 - val_loss: -14.5105\n",
            "Epoch 179/500\n",
            "\u001b[1m5/5\u001b[0m \u001b[32m━━━━━━━━━━━━━━━━━━━━\u001b[0m\u001b[37m\u001b[0m \u001b[1m0s\u001b[0m 17ms/step - accuracy: 0.7106 - loss: -15.1465 - val_accuracy: 0.6133 - val_loss: -14.5170\n",
            "Epoch 180/500\n",
            "\u001b[1m5/5\u001b[0m \u001b[32m━━━━━━━━━━━━━━━━━━━━\u001b[0m\u001b[37m\u001b[0m \u001b[1m0s\u001b[0m 17ms/step - accuracy: 0.6914 - loss: -14.8833 - val_accuracy: 0.6133 - val_loss: -14.5240\n",
            "Epoch 181/500\n",
            "\u001b[1m5/5\u001b[0m \u001b[32m━━━━━━━━━━━━━━━━━━━━\u001b[0m\u001b[37m\u001b[0m \u001b[1m0s\u001b[0m 17ms/step - accuracy: 0.6761 - loss: -14.4931 - val_accuracy: 0.6133 - val_loss: -14.5322\n",
            "Epoch 182/500\n",
            "\u001b[1m5/5\u001b[0m \u001b[32m━━━━━━━━━━━━━━━━━━━━\u001b[0m\u001b[37m\u001b[0m \u001b[1m0s\u001b[0m 17ms/step - accuracy: 0.6953 - loss: -15.1059 - val_accuracy: 0.6133 - val_loss: -14.5414\n",
            "Epoch 183/500\n",
            "\u001b[1m5/5\u001b[0m \u001b[32m━━━━━━━━━━━━━━━━━━━━\u001b[0m\u001b[37m\u001b[0m \u001b[1m0s\u001b[0m 29ms/step - accuracy: 0.6778 - loss: -14.4322 - val_accuracy: 0.6133 - val_loss: -14.5470\n",
            "Epoch 184/500\n",
            "\u001b[1m5/5\u001b[0m \u001b[32m━━━━━━━━━━━━━━━━━━━━\u001b[0m\u001b[37m\u001b[0m \u001b[1m0s\u001b[0m 16ms/step - accuracy: 0.6753 - loss: -14.8519 - val_accuracy: 0.6133 - val_loss: -14.5552\n",
            "Epoch 185/500\n",
            "\u001b[1m5/5\u001b[0m \u001b[32m━━━━━━━━━━━━━━━━━━━━\u001b[0m\u001b[37m\u001b[0m \u001b[1m0s\u001b[0m 16ms/step - accuracy: 0.6964 - loss: -15.4663 - val_accuracy: 0.6133 - val_loss: -14.5643\n",
            "Epoch 186/500\n",
            "\u001b[1m5/5\u001b[0m \u001b[32m━━━━━━━━━━━━━━━━━━━━\u001b[0m\u001b[37m\u001b[0m \u001b[1m0s\u001b[0m 17ms/step - accuracy: 0.6928 - loss: -14.6512 - val_accuracy: 0.6133 - val_loss: -14.5729\n",
            "Epoch 187/500\n",
            "\u001b[1m5/5\u001b[0m \u001b[32m━━━━━━━━━━━━━━━━━━━━\u001b[0m\u001b[37m\u001b[0m \u001b[1m0s\u001b[0m 17ms/step - accuracy: 0.6917 - loss: -14.8269 - val_accuracy: 0.6133 - val_loss: -14.5808\n",
            "Epoch 188/500\n",
            "\u001b[1m5/5\u001b[0m \u001b[32m━━━━━━━━━━━━━━━━━━━━\u001b[0m\u001b[37m\u001b[0m \u001b[1m0s\u001b[0m 17ms/step - accuracy: 0.6872 - loss: -14.3466 - val_accuracy: 0.6133 - val_loss: -14.5882\n",
            "Epoch 189/500\n",
            "\u001b[1m5/5\u001b[0m \u001b[32m━━━━━━━━━━━━━━━━━━━━\u001b[0m\u001b[37m\u001b[0m \u001b[1m0s\u001b[0m 17ms/step - accuracy: 0.6731 - loss: -14.5081 - val_accuracy: 0.6133 - val_loss: -14.5962\n",
            "Epoch 190/500\n",
            "\u001b[1m5/5\u001b[0m \u001b[32m━━━━━━━━━━━━━━━━━━━━\u001b[0m\u001b[37m\u001b[0m \u001b[1m0s\u001b[0m 27ms/step - accuracy: 0.7281 - loss: -15.1343 - val_accuracy: 0.6133 - val_loss: -14.6047\n",
            "Epoch 191/500\n",
            "\u001b[1m5/5\u001b[0m \u001b[32m━━━━━━━━━━━━━━━━━━━━\u001b[0m\u001b[37m\u001b[0m \u001b[1m0s\u001b[0m 28ms/step - accuracy: 0.6883 - loss: -14.7994 - val_accuracy: 0.6133 - val_loss: -14.6140\n",
            "Epoch 192/500\n",
            "\u001b[1m5/5\u001b[0m \u001b[32m━━━━━━━━━━━━━━━━━━━━\u001b[0m\u001b[37m\u001b[0m \u001b[1m0s\u001b[0m 20ms/step - accuracy: 0.6853 - loss: -14.3767 - val_accuracy: 0.6133 - val_loss: -14.6252\n",
            "Epoch 193/500\n",
            "\u001b[1m5/5\u001b[0m \u001b[32m━━━━━━━━━━━━━━━━━━━━\u001b[0m\u001b[37m\u001b[0m \u001b[1m0s\u001b[0m 27ms/step - accuracy: 0.7006 - loss: -14.9405 - val_accuracy: 0.6133 - val_loss: -14.6298\n",
            "Epoch 194/500\n",
            "\u001b[1m5/5\u001b[0m \u001b[32m━━━━━━━━━━━━━━━━━━━━\u001b[0m\u001b[37m\u001b[0m \u001b[1m0s\u001b[0m 16ms/step - accuracy: 0.6983 - loss: -15.2125 - val_accuracy: 0.6133 - val_loss: -14.6395\n",
            "Epoch 195/500\n",
            "\u001b[1m5/5\u001b[0m \u001b[32m━━━━━━━━━━━━━━━━━━━━\u001b[0m\u001b[37m\u001b[0m \u001b[1m0s\u001b[0m 17ms/step - accuracy: 0.6628 - loss: -14.5734 - val_accuracy: 0.6133 - val_loss: -14.6433\n",
            "Epoch 196/500\n",
            "\u001b[1m5/5\u001b[0m \u001b[32m━━━━━━━━━━━━━━━━━━━━\u001b[0m\u001b[37m\u001b[0m \u001b[1m0s\u001b[0m 19ms/step - accuracy: 0.7161 - loss: -15.1929 - val_accuracy: 0.6133 - val_loss: -14.6538\n",
            "Epoch 197/500\n",
            "\u001b[1m5/5\u001b[0m \u001b[32m━━━━━━━━━━━━━━━━━━━━\u001b[0m\u001b[37m\u001b[0m \u001b[1m0s\u001b[0m 18ms/step - accuracy: 0.6989 - loss: -14.7650 - val_accuracy: 0.6133 - val_loss: -14.6599\n",
            "Epoch 198/500\n",
            "\u001b[1m5/5\u001b[0m \u001b[32m━━━━━━━━━━━━━━━━━━━━\u001b[0m\u001b[37m\u001b[0m \u001b[1m0s\u001b[0m 18ms/step - accuracy: 0.6836 - loss: -14.8270 - val_accuracy: 0.6133 - val_loss: -14.6661\n",
            "Epoch 199/500\n",
            "\u001b[1m5/5\u001b[0m \u001b[32m━━━━━━━━━━━━━━━━━━━━\u001b[0m\u001b[37m\u001b[0m \u001b[1m0s\u001b[0m 19ms/step - accuracy: 0.6803 - loss: -15.0148 - val_accuracy: 0.6133 - val_loss: -14.6765\n",
            "Epoch 200/500\n",
            "\u001b[1m5/5\u001b[0m \u001b[32m━━━━━━━━━━━━━━━━━━━━\u001b[0m\u001b[37m\u001b[0m \u001b[1m0s\u001b[0m 20ms/step - accuracy: 0.6811 - loss: -15.1439 - val_accuracy: 0.6133 - val_loss: -14.6838\n",
            "Epoch 201/500\n",
            "\u001b[1m5/5\u001b[0m \u001b[32m━━━━━━━━━━━━━━━━━━━━\u001b[0m\u001b[37m\u001b[0m \u001b[1m0s\u001b[0m 19ms/step - accuracy: 0.6925 - loss: -14.9109 - val_accuracy: 0.6133 - val_loss: -14.6935\n",
            "Epoch 202/500\n",
            "\u001b[1m5/5\u001b[0m \u001b[32m━━━━━━━━━━━━━━━━━━━━\u001b[0m\u001b[37m\u001b[0m \u001b[1m0s\u001b[0m 18ms/step - accuracy: 0.6903 - loss: -15.0008 - val_accuracy: 0.6133 - val_loss: -14.6976\n",
            "Epoch 203/500\n",
            "\u001b[1m5/5\u001b[0m \u001b[32m━━━━━━━━━━━━━━━━━━━━\u001b[0m\u001b[37m\u001b[0m \u001b[1m0s\u001b[0m 18ms/step - accuracy: 0.6906 - loss: -15.2067 - val_accuracy: 0.6133 - val_loss: -14.7109\n",
            "Epoch 204/500\n",
            "\u001b[1m5/5\u001b[0m \u001b[32m━━━━━━━━━━━━━━━━━━━━\u001b[0m\u001b[37m\u001b[0m \u001b[1m0s\u001b[0m 18ms/step - accuracy: 0.6847 - loss: -14.9596 - val_accuracy: 0.6133 - val_loss: -14.7147\n",
            "Epoch 205/500\n",
            "\u001b[1m5/5\u001b[0m \u001b[32m━━━━━━━━━━━━━━━━━━━━\u001b[0m\u001b[37m\u001b[0m \u001b[1m0s\u001b[0m 17ms/step - accuracy: 0.7047 - loss: -15.0164 - val_accuracy: 0.6133 - val_loss: -14.7229\n",
            "Epoch 206/500\n",
            "\u001b[1m5/5\u001b[0m \u001b[32m━━━━━━━━━━━━━━━━━━━━\u001b[0m\u001b[37m\u001b[0m \u001b[1m0s\u001b[0m 17ms/step - accuracy: 0.6708 - loss: -15.1665 - val_accuracy: 0.6133 - val_loss: -14.7281\n",
            "Epoch 207/500\n",
            "\u001b[1m5/5\u001b[0m \u001b[32m━━━━━━━━━━━━━━━━━━━━\u001b[0m\u001b[37m\u001b[0m \u001b[1m0s\u001b[0m 19ms/step - accuracy: 0.7192 - loss: -15.1821 - val_accuracy: 0.6133 - val_loss: -14.7340\n",
            "Epoch 208/500\n",
            "\u001b[1m5/5\u001b[0m \u001b[32m━━━━━━━━━━━━━━━━━━━━\u001b[0m\u001b[37m\u001b[0m \u001b[1m0s\u001b[0m 20ms/step - accuracy: 0.6967 - loss: -14.9580 - val_accuracy: 0.6133 - val_loss: -14.7392\n",
            "Epoch 209/500\n",
            "\u001b[1m5/5\u001b[0m \u001b[32m━━━━━━━━━━━━━━━━━━━━\u001b[0m\u001b[37m\u001b[0m \u001b[1m0s\u001b[0m 18ms/step - accuracy: 0.7378 - loss: -15.5344 - val_accuracy: 0.6133 - val_loss: -14.7455\n",
            "Epoch 210/500\n",
            "\u001b[1m5/5\u001b[0m \u001b[32m━━━━━━━━━━━━━━━━━━━━\u001b[0m\u001b[37m\u001b[0m \u001b[1m0s\u001b[0m 17ms/step - accuracy: 0.7078 - loss: -15.1201 - val_accuracy: 0.6133 - val_loss: -14.7529\n",
            "Epoch 211/500\n",
            "\u001b[1m5/5\u001b[0m \u001b[32m━━━━━━━━━━━━━━━━━━━━\u001b[0m\u001b[37m\u001b[0m \u001b[1m0s\u001b[0m 17ms/step - accuracy: 0.6958 - loss: -15.2235 - val_accuracy: 0.6133 - val_loss: -14.7611\n",
            "Epoch 212/500\n",
            "\u001b[1m5/5\u001b[0m \u001b[32m━━━━━━━━━━━━━━━━━━━━\u001b[0m\u001b[37m\u001b[0m \u001b[1m0s\u001b[0m 17ms/step - accuracy: 0.6872 - loss: -15.2550 - val_accuracy: 0.6133 - val_loss: -14.7695\n",
            "Epoch 213/500\n",
            "\u001b[1m5/5\u001b[0m \u001b[32m━━━━━━━━━━━━━━━━━━━━\u001b[0m\u001b[37m\u001b[0m \u001b[1m0s\u001b[0m 27ms/step - accuracy: 0.6795 - loss: -15.0623 - val_accuracy: 0.6133 - val_loss: -14.7822\n",
            "Epoch 214/500\n",
            "\u001b[1m5/5\u001b[0m \u001b[32m━━━━━━━━━━━━━━━━━━━━\u001b[0m\u001b[37m\u001b[0m \u001b[1m0s\u001b[0m 27ms/step - accuracy: 0.6772 - loss: -14.7062 - val_accuracy: 0.6133 - val_loss: -14.8010\n",
            "Epoch 215/500\n",
            "\u001b[1m5/5\u001b[0m \u001b[32m━━━━━━━━━━━━━━━━━━━━\u001b[0m\u001b[37m\u001b[0m \u001b[1m0s\u001b[0m 17ms/step - accuracy: 0.6800 - loss: -15.4913 - val_accuracy: 0.6133 - val_loss: -14.8041\n",
            "Epoch 216/500\n",
            "\u001b[1m5/5\u001b[0m \u001b[32m━━━━━━━━━━━━━━━━━━━━\u001b[0m\u001b[37m\u001b[0m \u001b[1m0s\u001b[0m 20ms/step - accuracy: 0.6908 - loss: -15.1858 - val_accuracy: 0.6133 - val_loss: -14.8148\n",
            "Epoch 217/500\n",
            "\u001b[1m5/5\u001b[0m \u001b[32m━━━━━━━━━━━━━━━━━━━━\u001b[0m\u001b[37m\u001b[0m \u001b[1m0s\u001b[0m 16ms/step - accuracy: 0.7075 - loss: -15.3938 - val_accuracy: 0.6133 - val_loss: -14.8195\n",
            "Epoch 218/500\n",
            "\u001b[1m5/5\u001b[0m \u001b[32m━━━━━━━━━━━━━━━━━━━━\u001b[0m\u001b[37m\u001b[0m \u001b[1m0s\u001b[0m 17ms/step - accuracy: 0.6636 - loss: -15.2262 - val_accuracy: 0.6133 - val_loss: -14.8272\n",
            "Epoch 219/500\n",
            "\u001b[1m5/5\u001b[0m \u001b[32m━━━━━━━━━━━━━━━━━━━━\u001b[0m\u001b[37m\u001b[0m \u001b[1m0s\u001b[0m 16ms/step - accuracy: 0.6903 - loss: -14.7396 - val_accuracy: 0.6133 - val_loss: -14.8384\n",
            "Epoch 220/500\n",
            "\u001b[1m5/5\u001b[0m \u001b[32m━━━━━━━━━━━━━━━━━━━━\u001b[0m\u001b[37m\u001b[0m \u001b[1m0s\u001b[0m 16ms/step - accuracy: 0.7189 - loss: -15.2674 - val_accuracy: 0.6133 - val_loss: -14.8428\n",
            "Epoch 221/500\n",
            "\u001b[1m5/5\u001b[0m \u001b[32m━━━━━━━━━━━━━━━━━━━━\u001b[0m\u001b[37m\u001b[0m \u001b[1m0s\u001b[0m 17ms/step - accuracy: 0.6875 - loss: -15.1081 - val_accuracy: 0.6133 - val_loss: -14.8520\n",
            "Epoch 222/500\n",
            "\u001b[1m5/5\u001b[0m \u001b[32m━━━━━━━━━━━━━━━━━━━━\u001b[0m\u001b[37m\u001b[0m \u001b[1m0s\u001b[0m 17ms/step - accuracy: 0.6672 - loss: -15.1135 - val_accuracy: 0.6133 - val_loss: -14.8630\n",
            "Epoch 223/500\n",
            "\u001b[1m5/5\u001b[0m \u001b[32m━━━━━━━━━━━━━━━━━━━━\u001b[0m\u001b[37m\u001b[0m \u001b[1m0s\u001b[0m 19ms/step - accuracy: 0.6753 - loss: -14.9820 - val_accuracy: 0.6133 - val_loss: -14.8689\n",
            "Epoch 224/500\n",
            "\u001b[1m5/5\u001b[0m \u001b[32m━━━━━━━━━━━━━━━━━━━━\u001b[0m\u001b[37m\u001b[0m \u001b[1m0s\u001b[0m 17ms/step - accuracy: 0.6861 - loss: -14.9849 - val_accuracy: 0.6133 - val_loss: -14.8859\n",
            "Epoch 225/500\n",
            "\u001b[1m5/5\u001b[0m \u001b[32m━━━━━━━━━━━━━━━━━━━━\u001b[0m\u001b[37m\u001b[0m \u001b[1m0s\u001b[0m 20ms/step - accuracy: 0.6708 - loss: -14.8841 - val_accuracy: 0.6133 - val_loss: -14.8944\n",
            "Epoch 226/500\n",
            "\u001b[1m5/5\u001b[0m \u001b[32m━━━━━━━━━━━━━━━━━━━━\u001b[0m\u001b[37m\u001b[0m \u001b[1m0s\u001b[0m 17ms/step - accuracy: 0.7053 - loss: -15.5943 - val_accuracy: 0.6133 - val_loss: -14.9062\n",
            "Epoch 227/500\n",
            "\u001b[1m5/5\u001b[0m \u001b[32m━━━━━━━━━━━━━━━━━━━━\u001b[0m\u001b[37m\u001b[0m \u001b[1m0s\u001b[0m 17ms/step - accuracy: 0.6678 - loss: -15.4033 - val_accuracy: 0.6133 - val_loss: -14.9187\n",
            "Epoch 228/500\n",
            "\u001b[1m5/5\u001b[0m \u001b[32m━━━━━━━━━━━━━━━━━━━━\u001b[0m\u001b[37m\u001b[0m \u001b[1m0s\u001b[0m 18ms/step - accuracy: 0.7025 - loss: -15.5135 - val_accuracy: 0.6133 - val_loss: -14.9201\n",
            "Epoch 229/500\n",
            "\u001b[1m5/5\u001b[0m \u001b[32m━━━━━━━━━━━━━━━━━━━━\u001b[0m\u001b[37m\u001b[0m \u001b[1m0s\u001b[0m 17ms/step - accuracy: 0.6756 - loss: -14.8703 - val_accuracy: 0.6133 - val_loss: -14.9395\n",
            "Epoch 230/500\n",
            "\u001b[1m5/5\u001b[0m \u001b[32m━━━━━━━━━━━━━━━━━━━━\u001b[0m\u001b[37m\u001b[0m \u001b[1m0s\u001b[0m 17ms/step - accuracy: 0.6792 - loss: -15.1571 - val_accuracy: 0.6133 - val_loss: -14.9439\n",
            "Epoch 231/500\n",
            "\u001b[1m5/5\u001b[0m \u001b[32m━━━━━━━━━━━━━━━━━━━━\u001b[0m\u001b[37m\u001b[0m \u001b[1m0s\u001b[0m 16ms/step - accuracy: 0.6625 - loss: -15.1877 - val_accuracy: 0.6133 - val_loss: -14.9567\n",
            "Epoch 232/500\n",
            "\u001b[1m5/5\u001b[0m \u001b[32m━━━━━━━━━━━━━━━━━━━━\u001b[0m\u001b[37m\u001b[0m \u001b[1m0s\u001b[0m 29ms/step - accuracy: 0.7283 - loss: -15.6413 - val_accuracy: 0.6133 - val_loss: -14.9653\n",
            "Epoch 233/500\n",
            "\u001b[1m5/5\u001b[0m \u001b[32m━━━━━━━━━━━━━━━━━━━━\u001b[0m\u001b[37m\u001b[0m \u001b[1m0s\u001b[0m 28ms/step - accuracy: 0.6561 - loss: -14.9824 - val_accuracy: 0.6133 - val_loss: -14.9735\n",
            "Epoch 234/500\n",
            "\u001b[1m5/5\u001b[0m \u001b[32m━━━━━━━━━━━━━━━━━━━━\u001b[0m\u001b[37m\u001b[0m \u001b[1m0s\u001b[0m 18ms/step - accuracy: 0.6733 - loss: -14.8948 - val_accuracy: 0.6133 - val_loss: -14.9772\n",
            "Epoch 235/500\n",
            "\u001b[1m5/5\u001b[0m \u001b[32m━━━━━━━━━━━━━━━━━━━━\u001b[0m\u001b[37m\u001b[0m \u001b[1m0s\u001b[0m 17ms/step - accuracy: 0.6750 - loss: -15.0144 - val_accuracy: 0.6133 - val_loss: -14.9821\n",
            "Epoch 236/500\n",
            "\u001b[1m5/5\u001b[0m \u001b[32m━━━━━━━━━━━━━━━━━━━━\u001b[0m\u001b[37m\u001b[0m \u001b[1m0s\u001b[0m 18ms/step - accuracy: 0.6878 - loss: -15.3456 - val_accuracy: 0.6133 - val_loss: -14.9928\n",
            "Epoch 237/500\n",
            "\u001b[1m5/5\u001b[0m \u001b[32m━━━━━━━━━━━━━━━━━━━━\u001b[0m\u001b[37m\u001b[0m \u001b[1m0s\u001b[0m 31ms/step - accuracy: 0.6845 - loss: -14.9109 - val_accuracy: 0.6133 - val_loss: -15.0040\n",
            "Epoch 238/500\n",
            "\u001b[1m5/5\u001b[0m \u001b[32m━━━━━━━━━━━━━━━━━━━━\u001b[0m\u001b[37m\u001b[0m \u001b[1m0s\u001b[0m 25ms/step - accuracy: 0.6833 - loss: -15.2545 - val_accuracy: 0.6133 - val_loss: -15.0106\n",
            "Epoch 239/500\n",
            "\u001b[1m5/5\u001b[0m \u001b[32m━━━━━━━━━━━━━━━━━━━━\u001b[0m\u001b[37m\u001b[0m \u001b[1m0s\u001b[0m 24ms/step - accuracy: 0.6750 - loss: -15.2378 - val_accuracy: 0.6133 - val_loss: -15.0252\n",
            "Epoch 240/500\n",
            "\u001b[1m5/5\u001b[0m \u001b[32m━━━━━━━━━━━━━━━━━━━━\u001b[0m\u001b[37m\u001b[0m \u001b[1m0s\u001b[0m 29ms/step - accuracy: 0.6558 - loss: -14.7664 - val_accuracy: 0.6133 - val_loss: -15.0279\n",
            "Epoch 241/500\n",
            "\u001b[1m5/5\u001b[0m \u001b[32m━━━━━━━━━━━━━━━━━━━━\u001b[0m\u001b[37m\u001b[0m \u001b[1m0s\u001b[0m 33ms/step - accuracy: 0.7128 - loss: -15.9453 - val_accuracy: 0.6133 - val_loss: -15.0435\n",
            "Epoch 242/500\n",
            "\u001b[1m5/5\u001b[0m \u001b[32m━━━━━━━━━━━━━━━━━━━━\u001b[0m\u001b[37m\u001b[0m \u001b[1m0s\u001b[0m 31ms/step - accuracy: 0.6856 - loss: -15.1139 - val_accuracy: 0.6133 - val_loss: -15.0553\n",
            "Epoch 243/500\n",
            "\u001b[1m5/5\u001b[0m \u001b[32m━━━━━━━━━━━━━━━━━━━━\u001b[0m\u001b[37m\u001b[0m \u001b[1m0s\u001b[0m 32ms/step - accuracy: 0.6761 - loss: -15.1893 - val_accuracy: 0.6133 - val_loss: -15.0635\n",
            "Epoch 244/500\n",
            "\u001b[1m5/5\u001b[0m \u001b[32m━━━━━━━━━━━━━━━━━━━━\u001b[0m\u001b[37m\u001b[0m \u001b[1m0s\u001b[0m 34ms/step - accuracy: 0.6950 - loss: -15.6019 - val_accuracy: 0.6133 - val_loss: -15.0735\n",
            "Epoch 245/500\n",
            "\u001b[1m5/5\u001b[0m \u001b[32m━━━━━━━━━━━━━━━━━━━━\u001b[0m\u001b[37m\u001b[0m \u001b[1m0s\u001b[0m 34ms/step - accuracy: 0.6895 - loss: -15.3484 - val_accuracy: 0.6133 - val_loss: -15.0877\n",
            "Epoch 246/500\n",
            "\u001b[1m5/5\u001b[0m \u001b[32m━━━━━━━━━━━━━━━━━━━━\u001b[0m\u001b[37m\u001b[0m \u001b[1m0s\u001b[0m 28ms/step - accuracy: 0.6653 - loss: -15.4042 - val_accuracy: 0.6133 - val_loss: -15.0949\n",
            "Epoch 247/500\n",
            "\u001b[1m5/5\u001b[0m \u001b[32m━━━━━━━━━━━━━━━━━━━━\u001b[0m\u001b[37m\u001b[0m \u001b[1m0s\u001b[0m 27ms/step - accuracy: 0.6975 - loss: -15.6111 - val_accuracy: 0.6133 - val_loss: -15.1088\n",
            "Epoch 248/500\n",
            "\u001b[1m5/5\u001b[0m \u001b[32m━━━━━━━━━━━━━━━━━━━━\u001b[0m\u001b[37m\u001b[0m \u001b[1m0s\u001b[0m 17ms/step - accuracy: 0.6461 - loss: -14.9972 - val_accuracy: 0.6133 - val_loss: -15.1211\n",
            "Epoch 249/500\n",
            "\u001b[1m5/5\u001b[0m \u001b[32m━━━━━━━━━━━━━━━━━━━━\u001b[0m\u001b[37m\u001b[0m \u001b[1m0s\u001b[0m 19ms/step - accuracy: 0.6947 - loss: -15.5827 - val_accuracy: 0.6133 - val_loss: -15.1272\n",
            "Epoch 250/500\n",
            "\u001b[1m5/5\u001b[0m \u001b[32m━━━━━━━━━━━━━━━━━━━━\u001b[0m\u001b[37m\u001b[0m \u001b[1m0s\u001b[0m 19ms/step - accuracy: 0.6922 - loss: -15.4485 - val_accuracy: 0.6133 - val_loss: -15.1382\n",
            "Epoch 251/500\n",
            "\u001b[1m5/5\u001b[0m \u001b[32m━━━━━━━━━━━━━━━━━━━━\u001b[0m\u001b[37m\u001b[0m \u001b[1m0s\u001b[0m 17ms/step - accuracy: 0.7114 - loss: -16.0227 - val_accuracy: 0.6133 - val_loss: -15.1463\n",
            "Epoch 252/500\n",
            "\u001b[1m5/5\u001b[0m \u001b[32m━━━━━━━━━━━━━━━━━━━━\u001b[0m\u001b[37m\u001b[0m \u001b[1m0s\u001b[0m 21ms/step - accuracy: 0.7047 - loss: -15.2275 - val_accuracy: 0.6133 - val_loss: -15.1531\n",
            "Epoch 253/500\n",
            "\u001b[1m5/5\u001b[0m \u001b[32m━━━━━━━━━━━━━━━━━━━━\u001b[0m\u001b[37m\u001b[0m \u001b[1m0s\u001b[0m 20ms/step - accuracy: 0.6911 - loss: -15.7285 - val_accuracy: 0.6133 - val_loss: -15.1638\n",
            "Epoch 254/500\n",
            "\u001b[1m5/5\u001b[0m \u001b[32m━━━━━━━━━━━━━━━━━━━━\u001b[0m\u001b[37m\u001b[0m \u001b[1m0s\u001b[0m 18ms/step - accuracy: 0.7031 - loss: -15.5049 - val_accuracy: 0.6133 - val_loss: -15.1706\n",
            "Epoch 255/500\n",
            "\u001b[1m5/5\u001b[0m \u001b[32m━━━━━━━━━━━━━━━━━━━━\u001b[0m\u001b[37m\u001b[0m \u001b[1m0s\u001b[0m 18ms/step - accuracy: 0.6953 - loss: -15.8279 - val_accuracy: 0.6133 - val_loss: -15.1843\n",
            "Epoch 256/500\n",
            "\u001b[1m5/5\u001b[0m \u001b[32m━━━━━━━━━━━━━━━━━━━━\u001b[0m\u001b[37m\u001b[0m \u001b[1m0s\u001b[0m 17ms/step - accuracy: 0.6845 - loss: -15.4759 - val_accuracy: 0.6133 - val_loss: -15.1905\n",
            "Epoch 257/500\n",
            "\u001b[1m5/5\u001b[0m \u001b[32m━━━━━━━━━━━━━━━━━━━━\u001b[0m\u001b[37m\u001b[0m \u001b[1m0s\u001b[0m 18ms/step - accuracy: 0.6853 - loss: -15.5278 - val_accuracy: 0.6133 - val_loss: -15.2061\n",
            "Epoch 258/500\n",
            "\u001b[1m5/5\u001b[0m \u001b[32m━━━━━━━━━━━━━━━━━━━━\u001b[0m\u001b[37m\u001b[0m \u001b[1m0s\u001b[0m 18ms/step - accuracy: 0.7070 - loss: -15.6306 - val_accuracy: 0.6133 - val_loss: -15.2098\n",
            "Epoch 259/500\n",
            "\u001b[1m5/5\u001b[0m \u001b[32m━━━━━━━━━━━━━━━━━━━━\u001b[0m\u001b[37m\u001b[0m \u001b[1m0s\u001b[0m 17ms/step - accuracy: 0.6933 - loss: -15.6414 - val_accuracy: 0.6133 - val_loss: -15.2230\n",
            "Epoch 260/500\n",
            "\u001b[1m5/5\u001b[0m \u001b[32m━━━━━━━━━━━━━━━━━━━━\u001b[0m\u001b[37m\u001b[0m \u001b[1m0s\u001b[0m 18ms/step - accuracy: 0.6839 - loss: -15.4121 - val_accuracy: 0.6133 - val_loss: -15.2283\n",
            "Epoch 261/500\n",
            "\u001b[1m5/5\u001b[0m \u001b[32m━━━━━━━━━━━━━━━━━━━━\u001b[0m\u001b[37m\u001b[0m \u001b[1m0s\u001b[0m 18ms/step - accuracy: 0.7045 - loss: -15.7976 - val_accuracy: 0.6133 - val_loss: -15.2393\n",
            "Epoch 262/500\n",
            "\u001b[1m5/5\u001b[0m \u001b[32m━━━━━━━━━━━━━━━━━━━━\u001b[0m\u001b[37m\u001b[0m \u001b[1m0s\u001b[0m 18ms/step - accuracy: 0.7053 - loss: -15.8549 - val_accuracy: 0.6133 - val_loss: -15.2515\n",
            "Epoch 263/500\n",
            "\u001b[1m5/5\u001b[0m \u001b[32m━━━━━━━━━━━━━━━━━━━━\u001b[0m\u001b[37m\u001b[0m \u001b[1m0s\u001b[0m 17ms/step - accuracy: 0.6767 - loss: -15.1199 - val_accuracy: 0.6133 - val_loss: -15.2599\n",
            "Epoch 264/500\n",
            "\u001b[1m5/5\u001b[0m \u001b[32m━━━━━━━━━━━━━━━━━━━━\u001b[0m\u001b[37m\u001b[0m \u001b[1m0s\u001b[0m 28ms/step - accuracy: 0.7067 - loss: -15.7142 - val_accuracy: 0.6133 - val_loss: -15.2672\n",
            "Epoch 265/500\n",
            "\u001b[1m5/5\u001b[0m \u001b[32m━━━━━━━━━━━━━━━━━━━━\u001b[0m\u001b[37m\u001b[0m \u001b[1m0s\u001b[0m 17ms/step - accuracy: 0.7014 - loss: -15.9025 - val_accuracy: 0.6133 - val_loss: -15.2804\n",
            "Epoch 266/500\n",
            "\u001b[1m5/5\u001b[0m \u001b[32m━━━━━━━━━━━━━━━━━━━━\u001b[0m\u001b[37m\u001b[0m \u001b[1m0s\u001b[0m 17ms/step - accuracy: 0.7039 - loss: -15.7374 - val_accuracy: 0.6133 - val_loss: -15.2852\n",
            "Epoch 267/500\n",
            "\u001b[1m5/5\u001b[0m \u001b[32m━━━━━━━━━━━━━━━━━━━━\u001b[0m\u001b[37m\u001b[0m \u001b[1m0s\u001b[0m 17ms/step - accuracy: 0.6811 - loss: -15.5682 - val_accuracy: 0.6133 - val_loss: -15.2954\n",
            "Epoch 268/500\n",
            "\u001b[1m5/5\u001b[0m \u001b[32m━━━━━━━━━━━━━━━━━━━━\u001b[0m\u001b[37m\u001b[0m \u001b[1m0s\u001b[0m 18ms/step - accuracy: 0.6856 - loss: -15.6426 - val_accuracy: 0.6133 - val_loss: -15.3041\n",
            "Epoch 269/500\n",
            "\u001b[1m5/5\u001b[0m \u001b[32m━━━━━━━━━━━━━━━━━━━━\u001b[0m\u001b[37m\u001b[0m \u001b[1m0s\u001b[0m 18ms/step - accuracy: 0.6992 - loss: -15.6086 - val_accuracy: 0.6133 - val_loss: -15.3101\n",
            "Epoch 270/500\n",
            "\u001b[1m5/5\u001b[0m \u001b[32m━━━━━━━━━━━━━━━━━━━━\u001b[0m\u001b[37m\u001b[0m \u001b[1m0s\u001b[0m 18ms/step - accuracy: 0.7050 - loss: -15.8780 - val_accuracy: 0.6133 - val_loss: -15.3230\n",
            "Epoch 271/500\n",
            "\u001b[1m5/5\u001b[0m \u001b[32m━━━━━━━━━━━━━━━━━━━━\u001b[0m\u001b[37m\u001b[0m \u001b[1m0s\u001b[0m 18ms/step - accuracy: 0.6858 - loss: -15.6815 - val_accuracy: 0.6133 - val_loss: -15.3309\n",
            "Epoch 272/500\n",
            "\u001b[1m5/5\u001b[0m \u001b[32m━━━━━━━━━━━━━━━━━━━━\u001b[0m\u001b[37m\u001b[0m \u001b[1m0s\u001b[0m 18ms/step - accuracy: 0.6928 - loss: -15.8598 - val_accuracy: 0.6133 - val_loss: -15.3407\n",
            "Epoch 273/500\n",
            "\u001b[1m5/5\u001b[0m \u001b[32m━━━━━━━━━━━━━━━━━━━━\u001b[0m\u001b[37m\u001b[0m \u001b[1m0s\u001b[0m 17ms/step - accuracy: 0.6825 - loss: -15.6625 - val_accuracy: 0.6133 - val_loss: -15.3525\n",
            "Epoch 274/500\n",
            "\u001b[1m5/5\u001b[0m \u001b[32m━━━━━━━━━━━━━━━━━━━━\u001b[0m\u001b[37m\u001b[0m \u001b[1m0s\u001b[0m 20ms/step - accuracy: 0.7000 - loss: -16.1800 - val_accuracy: 0.6133 - val_loss: -15.3594\n",
            "Epoch 275/500\n",
            "\u001b[1m5/5\u001b[0m \u001b[32m━━━━━━━━━━━━━━━━━━━━\u001b[0m\u001b[37m\u001b[0m \u001b[1m0s\u001b[0m 17ms/step - accuracy: 0.6836 - loss: -15.7170 - val_accuracy: 0.6133 - val_loss: -15.3662\n",
            "Epoch 276/500\n",
            "\u001b[1m5/5\u001b[0m \u001b[32m━━━━━━━━━━━━━━━━━━━━\u001b[0m\u001b[37m\u001b[0m \u001b[1m0s\u001b[0m 17ms/step - accuracy: 0.7231 - loss: -16.0034 - val_accuracy: 0.6133 - val_loss: -15.3745\n",
            "Epoch 277/500\n",
            "\u001b[1m5/5\u001b[0m \u001b[32m━━━━━━━━━━━━━━━━━━━━\u001b[0m\u001b[37m\u001b[0m \u001b[1m0s\u001b[0m 17ms/step - accuracy: 0.6975 - loss: -16.1549 - val_accuracy: 0.6133 - val_loss: -15.3834\n",
            "Epoch 278/500\n",
            "\u001b[1m5/5\u001b[0m \u001b[32m━━━━━━━━━━━━━━━━━━━━\u001b[0m\u001b[37m\u001b[0m \u001b[1m0s\u001b[0m 17ms/step - accuracy: 0.7128 - loss: -15.8940 - val_accuracy: 0.6133 - val_loss: -15.3904\n",
            "Epoch 279/500\n",
            "\u001b[1m5/5\u001b[0m \u001b[32m━━━━━━━━━━━━━━━━━━━━\u001b[0m\u001b[37m\u001b[0m \u001b[1m0s\u001b[0m 19ms/step - accuracy: 0.7078 - loss: -15.8555 - val_accuracy: 0.6133 - val_loss: -15.3990\n",
            "Epoch 280/500\n",
            "\u001b[1m5/5\u001b[0m \u001b[32m━━━━━━━━━━━━━━━━━━━━\u001b[0m\u001b[37m\u001b[0m \u001b[1m0s\u001b[0m 18ms/step - accuracy: 0.6947 - loss: -15.9394 - val_accuracy: 0.6133 - val_loss: -15.4093\n",
            "Epoch 281/500\n",
            "\u001b[1m5/5\u001b[0m \u001b[32m━━━━━━━━━━━━━━━━━━━━\u001b[0m\u001b[37m\u001b[0m \u001b[1m0s\u001b[0m 18ms/step - accuracy: 0.7086 - loss: -15.9396 - val_accuracy: 0.6133 - val_loss: -15.4166\n",
            "Epoch 282/500\n",
            "\u001b[1m5/5\u001b[0m \u001b[32m━━━━━━━━━━━━━━━━━━━━\u001b[0m\u001b[37m\u001b[0m \u001b[1m0s\u001b[0m 17ms/step - accuracy: 0.6856 - loss: -15.8224 - val_accuracy: 0.6133 - val_loss: -15.4248\n",
            "Epoch 283/500\n",
            "\u001b[1m5/5\u001b[0m \u001b[32m━━━━━━━━━━━━━━━━━━━━\u001b[0m\u001b[37m\u001b[0m \u001b[1m0s\u001b[0m 19ms/step - accuracy: 0.7053 - loss: -16.1641 - val_accuracy: 0.6133 - val_loss: -15.4352\n",
            "Epoch 284/500\n",
            "\u001b[1m5/5\u001b[0m \u001b[32m━━━━━━━━━━━━━━━━━━━━\u001b[0m\u001b[37m\u001b[0m \u001b[1m0s\u001b[0m 16ms/step - accuracy: 0.6881 - loss: -16.0695 - val_accuracy: 0.6133 - val_loss: -15.4476\n",
            "Epoch 285/500\n",
            "\u001b[1m5/5\u001b[0m \u001b[32m━━━━━━━━━━━━━━━━━━━━\u001b[0m\u001b[37m\u001b[0m \u001b[1m0s\u001b[0m 17ms/step - accuracy: 0.6846 - loss: -16.1896 - val_accuracy: 0.6133 - val_loss: -15.4522\n",
            "Epoch 286/500\n",
            "\u001b[1m5/5\u001b[0m \u001b[32m━━━━━━━━━━━━━━━━━━━━\u001b[0m\u001b[37m\u001b[0m \u001b[1m0s\u001b[0m 17ms/step - accuracy: 0.6683 - loss: -15.4278 - val_accuracy: 0.6133 - val_loss: -15.4623\n",
            "Epoch 287/500\n",
            "\u001b[1m5/5\u001b[0m \u001b[32m━━━━━━━━━━━━━━━━━━━━\u001b[0m\u001b[37m\u001b[0m \u001b[1m0s\u001b[0m 17ms/step - accuracy: 0.7036 - loss: -16.2443 - val_accuracy: 0.6133 - val_loss: -15.4697\n",
            "Epoch 288/500\n",
            "\u001b[1m5/5\u001b[0m \u001b[32m━━━━━━━━━━━━━━━━━━━━\u001b[0m\u001b[37m\u001b[0m \u001b[1m0s\u001b[0m 18ms/step - accuracy: 0.6897 - loss: -15.9783 - val_accuracy: 0.6133 - val_loss: -15.4801\n",
            "Epoch 289/500\n",
            "\u001b[1m5/5\u001b[0m \u001b[32m━━━━━━━━━━━━━━━━━━━━\u001b[0m\u001b[37m\u001b[0m \u001b[1m0s\u001b[0m 17ms/step - accuracy: 0.6575 - loss: -15.2423 - val_accuracy: 0.6133 - val_loss: -15.4904\n",
            "Epoch 290/500\n",
            "\u001b[1m5/5\u001b[0m \u001b[32m━━━━━━━━━━━━━━━━━━━━\u001b[0m\u001b[37m\u001b[0m \u001b[1m0s\u001b[0m 17ms/step - accuracy: 0.6869 - loss: -15.8703 - val_accuracy: 0.6133 - val_loss: -15.4965\n",
            "Epoch 291/500\n",
            "\u001b[1m5/5\u001b[0m \u001b[32m━━━━━━━━━━━━━━━━━━━━\u001b[0m\u001b[37m\u001b[0m \u001b[1m0s\u001b[0m 17ms/step - accuracy: 0.7066 - loss: -16.2197 - val_accuracy: 0.6133 - val_loss: -15.5026\n",
            "Epoch 292/500\n",
            "\u001b[1m5/5\u001b[0m \u001b[32m━━━━━━━━━━━━━━━━━━━━\u001b[0m\u001b[37m\u001b[0m \u001b[1m0s\u001b[0m 18ms/step - accuracy: 0.6883 - loss: -15.7950 - val_accuracy: 0.6133 - val_loss: -15.5145\n",
            "Epoch 293/500\n",
            "\u001b[1m5/5\u001b[0m \u001b[32m━━━━━━━━━━━━━━━━━━━━\u001b[0m\u001b[37m\u001b[0m \u001b[1m0s\u001b[0m 17ms/step - accuracy: 0.6833 - loss: -15.9596 - val_accuracy: 0.6133 - val_loss: -15.5229\n",
            "Epoch 294/500\n",
            "\u001b[1m5/5\u001b[0m \u001b[32m━━━━━━━━━━━━━━━━━━━━\u001b[0m\u001b[37m\u001b[0m \u001b[1m0s\u001b[0m 19ms/step - accuracy: 0.7094 - loss: -16.2224 - val_accuracy: 0.6133 - val_loss: -15.5342\n",
            "Epoch 295/500\n",
            "\u001b[1m5/5\u001b[0m \u001b[32m━━━━━━━━━━━━━━━━━━━━\u001b[0m\u001b[37m\u001b[0m \u001b[1m0s\u001b[0m 18ms/step - accuracy: 0.7197 - loss: -16.1135 - val_accuracy: 0.6133 - val_loss: -15.5470\n",
            "Epoch 296/500\n",
            "\u001b[1m5/5\u001b[0m \u001b[32m━━━━━━━━━━━━━━━━━━━━\u001b[0m\u001b[37m\u001b[0m \u001b[1m0s\u001b[0m 17ms/step - accuracy: 0.6933 - loss: -16.2252 - val_accuracy: 0.6133 - val_loss: -15.5488\n",
            "Epoch 297/500\n",
            "\u001b[1m5/5\u001b[0m \u001b[32m━━━━━━━━━━━━━━━━━━━━\u001b[0m\u001b[37m\u001b[0m \u001b[1m0s\u001b[0m 18ms/step - accuracy: 0.6833 - loss: -15.8290 - val_accuracy: 0.6133 - val_loss: -15.5616\n",
            "Epoch 298/500\n",
            "\u001b[1m5/5\u001b[0m \u001b[32m━━━━━━━━━━━━━━━━━━━━\u001b[0m\u001b[37m\u001b[0m \u001b[1m0s\u001b[0m 18ms/step - accuracy: 0.6947 - loss: -15.5106 - val_accuracy: 0.6133 - val_loss: -15.5666\n",
            "Epoch 299/500\n",
            "\u001b[1m5/5\u001b[0m \u001b[32m━━━━━━━━━━━━━━━━━━━━\u001b[0m\u001b[37m\u001b[0m \u001b[1m0s\u001b[0m 17ms/step - accuracy: 0.7165 - loss: -16.1018 - val_accuracy: 0.6133 - val_loss: -15.5731\n",
            "Epoch 300/500\n",
            "\u001b[1m5/5\u001b[0m \u001b[32m━━━━━━━━━━━━━━━━━━━━\u001b[0m\u001b[37m\u001b[0m \u001b[1m0s\u001b[0m 16ms/step - accuracy: 0.7086 - loss: -16.0876 - val_accuracy: 0.6267 - val_loss: -15.5819\n",
            "Epoch 301/500\n",
            "\u001b[1m5/5\u001b[0m \u001b[32m━━━━━━━━━━━━━━━━━━━━\u001b[0m\u001b[37m\u001b[0m \u001b[1m0s\u001b[0m 18ms/step - accuracy: 0.7089 - loss: -15.9489 - val_accuracy: 0.6267 - val_loss: -15.5954\n",
            "Epoch 302/500\n",
            "\u001b[1m5/5\u001b[0m \u001b[32m━━━━━━━━━━━━━━━━━━━━\u001b[0m\u001b[37m\u001b[0m \u001b[1m0s\u001b[0m 21ms/step - accuracy: 0.7011 - loss: -16.3932 - val_accuracy: 0.6267 - val_loss: -15.6044\n",
            "Epoch 303/500\n",
            "\u001b[1m5/5\u001b[0m \u001b[32m━━━━━━━━━━━━━━━━━━━━\u001b[0m\u001b[37m\u001b[0m \u001b[1m0s\u001b[0m 18ms/step - accuracy: 0.7206 - loss: -16.1615 - val_accuracy: 0.6267 - val_loss: -15.6153\n",
            "Epoch 304/500\n",
            "\u001b[1m5/5\u001b[0m \u001b[32m━━━━━━━━━━━━━━━━━━━━\u001b[0m\u001b[37m\u001b[0m \u001b[1m0s\u001b[0m 17ms/step - accuracy: 0.7186 - loss: -16.1509 - val_accuracy: 0.6267 - val_loss: -15.6229\n",
            "Epoch 305/500\n",
            "\u001b[1m5/5\u001b[0m \u001b[32m━━━━━━━━━━━━━━━━━━━━\u001b[0m\u001b[37m\u001b[0m \u001b[1m0s\u001b[0m 18ms/step - accuracy: 0.6967 - loss: -16.3676 - val_accuracy: 0.6267 - val_loss: -15.6360\n",
            "Epoch 306/500\n",
            "\u001b[1m5/5\u001b[0m \u001b[32m━━━━━━━━━━━━━━━━━━━━\u001b[0m\u001b[37m\u001b[0m \u001b[1m0s\u001b[0m 19ms/step - accuracy: 0.7092 - loss: -16.0207 - val_accuracy: 0.6267 - val_loss: -15.6428\n",
            "Epoch 307/500\n",
            "\u001b[1m5/5\u001b[0m \u001b[32m━━━━━━━━━━━━━━━━━━━━\u001b[0m\u001b[37m\u001b[0m \u001b[1m0s\u001b[0m 17ms/step - accuracy: 0.7039 - loss: -16.3883 - val_accuracy: 0.6267 - val_loss: -15.6515\n",
            "Epoch 308/500\n",
            "\u001b[1m5/5\u001b[0m \u001b[32m━━━━━━━━━━━━━━━━━━━━\u001b[0m\u001b[37m\u001b[0m \u001b[1m0s\u001b[0m 16ms/step - accuracy: 0.7178 - loss: -16.0235 - val_accuracy: 0.6267 - val_loss: -15.6607\n",
            "Epoch 309/500\n",
            "\u001b[1m5/5\u001b[0m \u001b[32m━━━━━━━━━━━━━━━━━━━━\u001b[0m\u001b[37m\u001b[0m \u001b[1m0s\u001b[0m 18ms/step - accuracy: 0.7206 - loss: -15.9714 - val_accuracy: 0.6267 - val_loss: -15.6692\n",
            "Epoch 310/500\n",
            "\u001b[1m5/5\u001b[0m \u001b[32m━━━━━━━━━━━━━━━━━━━━\u001b[0m\u001b[37m\u001b[0m \u001b[1m0s\u001b[0m 19ms/step - accuracy: 0.7208 - loss: -16.1957 - val_accuracy: 0.6267 - val_loss: -15.6808\n",
            "Epoch 311/500\n",
            "\u001b[1m5/5\u001b[0m \u001b[32m━━━━━━━━━━━━━━━━━━━━\u001b[0m\u001b[37m\u001b[0m \u001b[1m0s\u001b[0m 22ms/step - accuracy: 0.6822 - loss: -16.0739 - val_accuracy: 0.6267 - val_loss: -15.6894\n",
            "Epoch 312/500\n",
            "\u001b[1m5/5\u001b[0m \u001b[32m━━━━━━━━━━━━━━━━━━━━\u001b[0m\u001b[37m\u001b[0m \u001b[1m0s\u001b[0m 19ms/step - accuracy: 0.7256 - loss: -16.0377 - val_accuracy: 0.6267 - val_loss: -15.6980\n",
            "Epoch 313/500\n",
            "\u001b[1m5/5\u001b[0m \u001b[32m━━━━━━━━━━━━━━━━━━━━\u001b[0m\u001b[37m\u001b[0m \u001b[1m0s\u001b[0m 29ms/step - accuracy: 0.7022 - loss: -15.7460 - val_accuracy: 0.6267 - val_loss: -15.7102\n",
            "Epoch 314/500\n",
            "\u001b[1m5/5\u001b[0m \u001b[32m━━━━━━━━━━━━━━━━━━━━\u001b[0m\u001b[37m\u001b[0m \u001b[1m0s\u001b[0m 19ms/step - accuracy: 0.7067 - loss: -16.0370 - val_accuracy: 0.6267 - val_loss: -15.7295\n",
            "Epoch 315/500\n",
            "\u001b[1m5/5\u001b[0m \u001b[32m━━━━━━━━━━━━━━━━━━━━\u001b[0m\u001b[37m\u001b[0m \u001b[1m0s\u001b[0m 20ms/step - accuracy: 0.6961 - loss: -16.2718 - val_accuracy: 0.6267 - val_loss: -15.7337\n",
            "Epoch 316/500\n",
            "\u001b[1m5/5\u001b[0m \u001b[32m━━━━━━━━━━━━━━━━━━━━\u001b[0m\u001b[37m\u001b[0m \u001b[1m0s\u001b[0m 29ms/step - accuracy: 0.7047 - loss: -16.1459 - val_accuracy: 0.6267 - val_loss: -15.7499\n",
            "Epoch 317/500\n",
            "\u001b[1m5/5\u001b[0m \u001b[32m━━━━━━━━━━━━━━━━━━━━\u001b[0m\u001b[37m\u001b[0m \u001b[1m0s\u001b[0m 17ms/step - accuracy: 0.6992 - loss: -15.8318 - val_accuracy: 0.6400 - val_loss: -15.7562\n",
            "Epoch 318/500\n",
            "\u001b[1m5/5\u001b[0m \u001b[32m━━━━━━━━━━━━━━━━━━━━\u001b[0m\u001b[37m\u001b[0m \u001b[1m0s\u001b[0m 28ms/step - accuracy: 0.7216 - loss: -16.2759 - val_accuracy: 0.6400 - val_loss: -15.7644\n",
            "Epoch 319/500\n",
            "\u001b[1m5/5\u001b[0m \u001b[32m━━━━━━━━━━━━━━━━━━━━\u001b[0m\u001b[37m\u001b[0m \u001b[1m0s\u001b[0m 18ms/step - accuracy: 0.7467 - loss: -16.5030 - val_accuracy: 0.6400 - val_loss: -15.7825\n",
            "Epoch 320/500\n",
            "\u001b[1m5/5\u001b[0m \u001b[32m━━━━━━━━━━━━━━━━━━━━\u001b[0m\u001b[37m\u001b[0m \u001b[1m0s\u001b[0m 17ms/step - accuracy: 0.7242 - loss: -16.1839 - val_accuracy: 0.6400 - val_loss: -15.7848\n",
            "Epoch 321/500\n",
            "\u001b[1m5/5\u001b[0m \u001b[32m━━━━━━━━━━━━━━━━━━━━\u001b[0m\u001b[37m\u001b[0m \u001b[1m0s\u001b[0m 20ms/step - accuracy: 0.7140 - loss: -16.2237 - val_accuracy: 0.6400 - val_loss: -15.7956\n",
            "Epoch 322/500\n",
            "\u001b[1m5/5\u001b[0m \u001b[32m━━━━━━━━━━━━━━━━━━━━\u001b[0m\u001b[37m\u001b[0m \u001b[1m0s\u001b[0m 18ms/step - accuracy: 0.6956 - loss: -15.8445 - val_accuracy: 0.6533 - val_loss: -15.8101\n",
            "Epoch 323/500\n",
            "\u001b[1m5/5\u001b[0m \u001b[32m━━━━━━━━━━━━━━━━━━━━\u001b[0m\u001b[37m\u001b[0m \u001b[1m0s\u001b[0m 17ms/step - accuracy: 0.7665 - loss: -16.3891 - val_accuracy: 0.6533 - val_loss: -15.8136\n",
            "Epoch 324/500\n",
            "\u001b[1m5/5\u001b[0m \u001b[32m━━━━━━━━━━━━━━━━━━━━\u001b[0m\u001b[37m\u001b[0m \u001b[1m0s\u001b[0m 18ms/step - accuracy: 0.7587 - loss: -16.3781 - val_accuracy: 0.6533 - val_loss: -15.8275\n",
            "Epoch 325/500\n",
            "\u001b[1m5/5\u001b[0m \u001b[32m━━━━━━━━━━━━━━━━━━━━\u001b[0m\u001b[37m\u001b[0m \u001b[1m0s\u001b[0m 18ms/step - accuracy: 0.7309 - loss: -16.3633 - val_accuracy: 0.6533 - val_loss: -15.8341\n",
            "Epoch 326/500\n",
            "\u001b[1m5/5\u001b[0m \u001b[32m━━━━━━━━━━━━━━━━━━━━\u001b[0m\u001b[37m\u001b[0m \u001b[1m0s\u001b[0m 58ms/step - accuracy: 0.7279 - loss: -16.2040 - val_accuracy: 0.6533 - val_loss: -15.8431\n",
            "Epoch 327/500\n",
            "\u001b[1m5/5\u001b[0m \u001b[32m━━━━━━━━━━━━━━━━━━━━\u001b[0m\u001b[37m\u001b[0m \u001b[1m0s\u001b[0m 33ms/step - accuracy: 0.7523 - loss: -16.6074 - val_accuracy: 0.6533 - val_loss: -15.8545\n",
            "Epoch 328/500\n",
            "\u001b[1m5/5\u001b[0m \u001b[32m━━━━━━━━━━━━━━━━━━━━\u001b[0m\u001b[37m\u001b[0m \u001b[1m0s\u001b[0m 33ms/step - accuracy: 0.7404 - loss: -16.2719 - val_accuracy: 0.6533 - val_loss: -15.8610\n",
            "Epoch 329/500\n",
            "\u001b[1m5/5\u001b[0m \u001b[32m━━━━━━━━━━━━━━━━━━━━\u001b[0m\u001b[37m\u001b[0m \u001b[1m0s\u001b[0m 33ms/step - accuracy: 0.7462 - loss: -15.8621 - val_accuracy: 0.6533 - val_loss: -15.8737\n",
            "Epoch 330/500\n",
            "\u001b[1m5/5\u001b[0m \u001b[32m━━━━━━━━━━━━━━━━━━━━\u001b[0m\u001b[37m\u001b[0m \u001b[1m0s\u001b[0m 33ms/step - accuracy: 0.7417 - loss: -16.2101 - val_accuracy: 0.6533 - val_loss: -15.8857\n",
            "Epoch 331/500\n",
            "\u001b[1m5/5\u001b[0m \u001b[32m━━━━━━━━━━━━━━━━━━━━\u001b[0m\u001b[37m\u001b[0m \u001b[1m0s\u001b[0m 24ms/step - accuracy: 0.7001 - loss: -15.8738 - val_accuracy: 0.6533 - val_loss: -15.8928\n",
            "Epoch 332/500\n",
            "\u001b[1m5/5\u001b[0m \u001b[32m━━━━━━━━━━━━━━━━━━━━\u001b[0m\u001b[37m\u001b[0m \u001b[1m0s\u001b[0m 33ms/step - accuracy: 0.7651 - loss: -16.5802 - val_accuracy: 0.6533 - val_loss: -15.9018\n",
            "Epoch 333/500\n",
            "\u001b[1m5/5\u001b[0m \u001b[32m━━━━━━━━━━━━━━━━━━━━\u001b[0m\u001b[37m\u001b[0m \u001b[1m0s\u001b[0m 21ms/step - accuracy: 0.7481 - loss: -16.2017 - val_accuracy: 0.6533 - val_loss: -15.9125\n",
            "Epoch 334/500\n",
            "\u001b[1m5/5\u001b[0m \u001b[32m━━━━━━━━━━━━━━━━━━━━\u001b[0m\u001b[37m\u001b[0m \u001b[1m0s\u001b[0m 16ms/step - accuracy: 0.7556 - loss: -16.2214 - val_accuracy: 0.6533 - val_loss: -15.9207\n",
            "Epoch 335/500\n",
            "\u001b[1m5/5\u001b[0m \u001b[32m━━━━━━━━━━━━━━━━━━━━\u001b[0m\u001b[37m\u001b[0m \u001b[1m0s\u001b[0m 17ms/step - accuracy: 0.7692 - loss: -16.6468 - val_accuracy: 0.6533 - val_loss: -15.9295\n",
            "Epoch 336/500\n",
            "\u001b[1m5/5\u001b[0m \u001b[32m━━━━━━━━━━━━━━━━━━━━\u001b[0m\u001b[37m\u001b[0m \u001b[1m0s\u001b[0m 31ms/step - accuracy: 0.7265 - loss: -16.3645 - val_accuracy: 0.6533 - val_loss: -15.9417\n",
            "Epoch 337/500\n",
            "\u001b[1m5/5\u001b[0m \u001b[32m━━━━━━━━━━━━━━━━━━━━\u001b[0m\u001b[37m\u001b[0m \u001b[1m0s\u001b[0m 19ms/step - accuracy: 0.7384 - loss: -16.4763 - val_accuracy: 0.6533 - val_loss: -15.9518\n",
            "Epoch 338/500\n",
            "\u001b[1m5/5\u001b[0m \u001b[32m━━━━━━━━━━━━━━━━━━━━\u001b[0m\u001b[37m\u001b[0m \u001b[1m0s\u001b[0m 17ms/step - accuracy: 0.7795 - loss: -16.3884 - val_accuracy: 0.6533 - val_loss: -15.9569\n",
            "Epoch 339/500\n",
            "\u001b[1m5/5\u001b[0m \u001b[32m━━━━━━━━━━━━━━━━━━━━\u001b[0m\u001b[37m\u001b[0m \u001b[1m0s\u001b[0m 20ms/step - accuracy: 0.7479 - loss: -16.4473 - val_accuracy: 0.6533 - val_loss: -15.9657\n",
            "Epoch 340/500\n",
            "\u001b[1m5/5\u001b[0m \u001b[32m━━━━━━━━━━━━━━━━━━━━\u001b[0m\u001b[37m\u001b[0m \u001b[1m0s\u001b[0m 18ms/step - accuracy: 0.7395 - loss: -16.4965 - val_accuracy: 0.6533 - val_loss: -15.9782\n",
            "Epoch 341/500\n",
            "\u001b[1m5/5\u001b[0m \u001b[32m━━━━━━━━━━━━━━━━━━━━\u001b[0m\u001b[37m\u001b[0m \u001b[1m0s\u001b[0m 28ms/step - accuracy: 0.7398 - loss: -16.2631 - val_accuracy: 0.6533 - val_loss: -15.9836\n",
            "Epoch 342/500\n",
            "\u001b[1m5/5\u001b[0m \u001b[32m━━━━━━━━━━━━━━━━━━━━\u001b[0m\u001b[37m\u001b[0m \u001b[1m0s\u001b[0m 29ms/step - accuracy: 0.7729 - loss: -16.3676 - val_accuracy: 0.6533 - val_loss: -15.9951\n",
            "Epoch 343/500\n",
            "\u001b[1m5/5\u001b[0m \u001b[32m━━━━━━━━━━━━━━━━━━━━\u001b[0m\u001b[37m\u001b[0m \u001b[1m0s\u001b[0m 17ms/step - accuracy: 0.7315 - loss: -16.3778 - val_accuracy: 0.6533 - val_loss: -16.0045\n",
            "Epoch 344/500\n",
            "\u001b[1m5/5\u001b[0m \u001b[32m━━━━━━━━━━━━━━━━━━━━\u001b[0m\u001b[37m\u001b[0m \u001b[1m0s\u001b[0m 17ms/step - accuracy: 0.7604 - loss: -16.6079 - val_accuracy: 0.6533 - val_loss: -16.0137\n",
            "Epoch 345/500\n",
            "\u001b[1m5/5\u001b[0m \u001b[32m━━━━━━━━━━━━━━━━━━━━\u001b[0m\u001b[37m\u001b[0m \u001b[1m0s\u001b[0m 17ms/step - accuracy: 0.7479 - loss: -16.6858 - val_accuracy: 0.6533 - val_loss: -16.0287\n",
            "Epoch 346/500\n",
            "\u001b[1m5/5\u001b[0m \u001b[32m━━━━━━━━━━━━━━━━━━━━\u001b[0m\u001b[37m\u001b[0m \u001b[1m0s\u001b[0m 33ms/step - accuracy: 0.7626 - loss: -16.3584 - val_accuracy: 0.6533 - val_loss: -16.0339\n",
            "Epoch 347/500\n",
            "\u001b[1m5/5\u001b[0m \u001b[32m━━━━━━━━━━━━━━━━━━━━\u001b[0m\u001b[37m\u001b[0m \u001b[1m0s\u001b[0m 18ms/step - accuracy: 0.7256 - loss: -16.4390 - val_accuracy: 0.6533 - val_loss: -16.0436\n",
            "Epoch 348/500\n",
            "\u001b[1m5/5\u001b[0m \u001b[32m━━━━━━━━━━━━━━━━━━━━\u001b[0m\u001b[37m\u001b[0m \u001b[1m0s\u001b[0m 28ms/step - accuracy: 0.7290 - loss: -16.2963 - val_accuracy: 0.6533 - val_loss: -16.0541\n",
            "Epoch 349/500\n",
            "\u001b[1m5/5\u001b[0m \u001b[32m━━━━━━━━━━━━━━━━━━━━\u001b[0m\u001b[37m\u001b[0m \u001b[1m0s\u001b[0m 19ms/step - accuracy: 0.7698 - loss: -16.6038 - val_accuracy: 0.6533 - val_loss: -16.0656\n",
            "Epoch 350/500\n",
            "\u001b[1m5/5\u001b[0m \u001b[32m━━━━━━━━━━━━━━━━━━━━\u001b[0m\u001b[37m\u001b[0m \u001b[1m0s\u001b[0m 29ms/step - accuracy: 0.7570 - loss: -16.5922 - val_accuracy: 0.6533 - val_loss: -16.0591\n",
            "Epoch 351/500\n",
            "\u001b[1m5/5\u001b[0m \u001b[32m━━━━━━━━━━━━━━━━━━━━\u001b[0m\u001b[37m\u001b[0m \u001b[1m0s\u001b[0m 17ms/step - accuracy: 0.7184 - loss: -16.4566 - val_accuracy: 0.6533 - val_loss: -16.0778\n",
            "Epoch 352/500\n",
            "\u001b[1m5/5\u001b[0m \u001b[32m━━━━━━━━━━━━━━━━━━━━\u001b[0m\u001b[37m\u001b[0m \u001b[1m0s\u001b[0m 17ms/step - accuracy: 0.7609 - loss: -16.8018 - val_accuracy: 0.6533 - val_loss: -16.0903\n",
            "Epoch 353/500\n",
            "\u001b[1m5/5\u001b[0m \u001b[32m━━━━━━━━━━━━━━━━━━━━\u001b[0m\u001b[37m\u001b[0m \u001b[1m0s\u001b[0m 19ms/step - accuracy: 0.7590 - loss: -16.5056 - val_accuracy: 0.6533 - val_loss: -16.0948\n",
            "Epoch 354/500\n",
            "\u001b[1m5/5\u001b[0m \u001b[32m━━━━━━━━━━━━━━━━━━━━\u001b[0m\u001b[37m\u001b[0m \u001b[1m0s\u001b[0m 17ms/step - accuracy: 0.7651 - loss: -16.6763 - val_accuracy: 0.6533 - val_loss: -16.1001\n",
            "Epoch 355/500\n",
            "\u001b[1m5/5\u001b[0m \u001b[32m━━━━━━━━━━━━━━━━━━━━\u001b[0m\u001b[37m\u001b[0m \u001b[1m0s\u001b[0m 27ms/step - accuracy: 0.7412 - loss: -16.4336 - val_accuracy: 0.6533 - val_loss: -16.1148\n",
            "Epoch 356/500\n",
            "\u001b[1m5/5\u001b[0m \u001b[32m━━━━━━━━━━━━━━━━━━━━\u001b[0m\u001b[37m\u001b[0m \u001b[1m0s\u001b[0m 30ms/step - accuracy: 0.7484 - loss: -16.9020 - val_accuracy: 0.6533 - val_loss: -16.1272\n",
            "Epoch 357/500\n",
            "\u001b[1m5/5\u001b[0m \u001b[32m━━━━━━━━━━━━━━━━━━━━\u001b[0m\u001b[37m\u001b[0m \u001b[1m0s\u001b[0m 18ms/step - accuracy: 0.7226 - loss: -16.3125 - val_accuracy: 0.6533 - val_loss: -16.1318\n",
            "Epoch 358/500\n",
            "\u001b[1m5/5\u001b[0m \u001b[32m━━━━━━━━━━━━━━━━━━━━\u001b[0m\u001b[37m\u001b[0m \u001b[1m0s\u001b[0m 19ms/step - accuracy: 0.7554 - loss: -16.3723 - val_accuracy: 0.6533 - val_loss: -16.1459\n",
            "Epoch 359/500\n",
            "\u001b[1m5/5\u001b[0m \u001b[32m━━━━━━━━━━━━━━━━━━━━\u001b[0m\u001b[37m\u001b[0m \u001b[1m0s\u001b[0m 18ms/step - accuracy: 0.7659 - loss: -16.3176 - val_accuracy: 0.6533 - val_loss: -16.1555\n",
            "Epoch 360/500\n",
            "\u001b[1m5/5\u001b[0m \u001b[32m━━━━━━━━━━━━━━━━━━━━\u001b[0m\u001b[37m\u001b[0m \u001b[1m0s\u001b[0m 17ms/step - accuracy: 0.7467 - loss: -16.9336 - val_accuracy: 0.6533 - val_loss: -16.1616\n",
            "Epoch 361/500\n",
            "\u001b[1m5/5\u001b[0m \u001b[32m━━━━━━━━━━━━━━━━━━━━\u001b[0m\u001b[37m\u001b[0m \u001b[1m0s\u001b[0m 18ms/step - accuracy: 0.7667 - loss: -16.8585 - val_accuracy: 0.6533 - val_loss: -16.1747\n",
            "Epoch 362/500\n",
            "\u001b[1m5/5\u001b[0m \u001b[32m━━━━━━━━━━━━━━━━━━━━\u001b[0m\u001b[37m\u001b[0m \u001b[1m0s\u001b[0m 17ms/step - accuracy: 0.7251 - loss: -16.6740 - val_accuracy: 0.6533 - val_loss: -16.1834\n",
            "Epoch 363/500\n",
            "\u001b[1m5/5\u001b[0m \u001b[32m━━━━━━━━━━━━━━━━━━━━\u001b[0m\u001b[37m\u001b[0m \u001b[1m0s\u001b[0m 17ms/step - accuracy: 0.7395 - loss: -16.2776 - val_accuracy: 0.6533 - val_loss: -16.1892\n",
            "Epoch 364/500\n",
            "\u001b[1m5/5\u001b[0m \u001b[32m━━━━━━━━━━━━━━━━━━━━\u001b[0m\u001b[37m\u001b[0m \u001b[1m0s\u001b[0m 28ms/step - accuracy: 0.7490 - loss: -16.5892 - val_accuracy: 0.6533 - val_loss: -16.2010\n",
            "Epoch 365/500\n",
            "\u001b[1m5/5\u001b[0m \u001b[32m━━━━━━━━━━━━━━━━━━━━\u001b[0m\u001b[37m\u001b[0m \u001b[1m0s\u001b[0m 18ms/step - accuracy: 0.7529 - loss: -16.9126 - val_accuracy: 0.6533 - val_loss: -16.2074\n",
            "Epoch 366/500\n",
            "\u001b[1m5/5\u001b[0m \u001b[32m━━━━━━━━━━━━━━━━━━━━\u001b[0m\u001b[37m\u001b[0m \u001b[1m0s\u001b[0m 19ms/step - accuracy: 0.7312 - loss: -16.4449 - val_accuracy: 0.6533 - val_loss: -16.2189\n",
            "Epoch 367/500\n",
            "\u001b[1m5/5\u001b[0m \u001b[32m━━━━━━━━━━━━━━━━━━━━\u001b[0m\u001b[37m\u001b[0m \u001b[1m0s\u001b[0m 18ms/step - accuracy: 0.7556 - loss: -16.3659 - val_accuracy: 0.6533 - val_loss: -16.2301\n",
            "Epoch 368/500\n",
            "\u001b[1m5/5\u001b[0m \u001b[32m━━━━━━━━━━━━━━━━━━━━\u001b[0m\u001b[37m\u001b[0m \u001b[1m0s\u001b[0m 18ms/step - accuracy: 0.7429 - loss: -16.7913 - val_accuracy: 0.6533 - val_loss: -16.2369\n",
            "Epoch 369/500\n",
            "\u001b[1m5/5\u001b[0m \u001b[32m━━━━━━━━━━━━━━━━━━━━\u001b[0m\u001b[37m\u001b[0m \u001b[1m0s\u001b[0m 17ms/step - accuracy: 0.7381 - loss: -16.9858 - val_accuracy: 0.6533 - val_loss: -16.2469\n",
            "Epoch 370/500\n",
            "\u001b[1m5/5\u001b[0m \u001b[32m━━━━━━━━━━━━━━━━━━━━\u001b[0m\u001b[37m\u001b[0m \u001b[1m0s\u001b[0m 20ms/step - accuracy: 0.7645 - loss: -17.0976 - val_accuracy: 0.6533 - val_loss: -16.2529\n",
            "Epoch 371/500\n",
            "\u001b[1m5/5\u001b[0m \u001b[32m━━━━━━━━━━━━━━━━━━━━\u001b[0m\u001b[37m\u001b[0m \u001b[1m0s\u001b[0m 32ms/step - accuracy: 0.7476 - loss: -16.6831 - val_accuracy: 0.6533 - val_loss: -16.2597\n",
            "Epoch 372/500\n",
            "\u001b[1m5/5\u001b[0m \u001b[32m━━━━━━━━━━━━━━━━━━━━\u001b[0m\u001b[37m\u001b[0m \u001b[1m0s\u001b[0m 18ms/step - accuracy: 0.7431 - loss: -16.4190 - val_accuracy: 0.6533 - val_loss: -16.2678\n",
            "Epoch 373/500\n",
            "\u001b[1m5/5\u001b[0m \u001b[32m━━━━━━━━━━━━━━━━━━━━\u001b[0m\u001b[37m\u001b[0m \u001b[1m0s\u001b[0m 19ms/step - accuracy: 0.7351 - loss: -16.8355 - val_accuracy: 0.6533 - val_loss: -16.2769\n",
            "Epoch 374/500\n",
            "\u001b[1m5/5\u001b[0m \u001b[32m━━━━━━━━━━━━━━━━━━━━\u001b[0m\u001b[37m\u001b[0m \u001b[1m0s\u001b[0m 18ms/step - accuracy: 0.7595 - loss: -17.0200 - val_accuracy: 0.6533 - val_loss: -16.2837\n",
            "Epoch 375/500\n",
            "\u001b[1m5/5\u001b[0m \u001b[32m━━━━━━━━━━━━━━━━━━━━\u001b[0m\u001b[37m\u001b[0m \u001b[1m0s\u001b[0m 18ms/step - accuracy: 0.7642 - loss: -16.7058 - val_accuracy: 0.6533 - val_loss: -16.2942\n",
            "Epoch 376/500\n",
            "\u001b[1m5/5\u001b[0m \u001b[32m━━━━━━━━━━━━━━━━━━━━\u001b[0m\u001b[37m\u001b[0m \u001b[1m0s\u001b[0m 17ms/step - accuracy: 0.7551 - loss: -16.8382 - val_accuracy: 0.6533 - val_loss: -16.3007\n",
            "Epoch 377/500\n",
            "\u001b[1m5/5\u001b[0m \u001b[32m━━━━━━━━━━━━━━━━━━━━\u001b[0m\u001b[37m\u001b[0m \u001b[1m0s\u001b[0m 18ms/step - accuracy: 0.7395 - loss: -16.8316 - val_accuracy: 0.6533 - val_loss: -16.3100\n",
            "Epoch 378/500\n",
            "\u001b[1m5/5\u001b[0m \u001b[32m━━━━━━━━━━━━━━━━━━━━\u001b[0m\u001b[37m\u001b[0m \u001b[1m0s\u001b[0m 19ms/step - accuracy: 0.7195 - loss: -16.4864 - val_accuracy: 0.6533 - val_loss: -16.3170\n",
            "Epoch 379/500\n",
            "\u001b[1m5/5\u001b[0m \u001b[32m━━━━━━━━━━━━━━━━━━━━\u001b[0m\u001b[37m\u001b[0m \u001b[1m0s\u001b[0m 20ms/step - accuracy: 0.7334 - loss: -16.7470 - val_accuracy: 0.6533 - val_loss: -16.3270\n",
            "Epoch 380/500\n",
            "\u001b[1m5/5\u001b[0m \u001b[32m━━━━━━━━━━━━━━━━━━━━\u001b[0m\u001b[37m\u001b[0m \u001b[1m0s\u001b[0m 17ms/step - accuracy: 0.7290 - loss: -16.5666 - val_accuracy: 0.6533 - val_loss: -16.3342\n",
            "Epoch 381/500\n",
            "\u001b[1m5/5\u001b[0m \u001b[32m━━━━━━━━━━━━━━━━━━━━\u001b[0m\u001b[37m\u001b[0m \u001b[1m0s\u001b[0m 18ms/step - accuracy: 0.7309 - loss: -16.6944 - val_accuracy: 0.6533 - val_loss: -16.3439\n",
            "Epoch 382/500\n",
            "\u001b[1m5/5\u001b[0m \u001b[32m━━━━━━━━━━━━━━━━━━━━\u001b[0m\u001b[37m\u001b[0m \u001b[1m0s\u001b[0m 18ms/step - accuracy: 0.7234 - loss: -16.4450 - val_accuracy: 0.6533 - val_loss: -16.3531\n",
            "Epoch 383/500\n",
            "\u001b[1m5/5\u001b[0m \u001b[32m━━━━━━━━━━━━━━━━━━━━\u001b[0m\u001b[37m\u001b[0m \u001b[1m0s\u001b[0m 18ms/step - accuracy: 0.7281 - loss: -16.6212 - val_accuracy: 0.6533 - val_loss: -16.3622\n",
            "Epoch 384/500\n",
            "\u001b[1m5/5\u001b[0m \u001b[32m━━━━━━━━━━━━━━━━━━━━\u001b[0m\u001b[37m\u001b[0m \u001b[1m0s\u001b[0m 17ms/step - accuracy: 0.7501 - loss: -16.8550 - val_accuracy: 0.6533 - val_loss: -16.3704\n",
            "Epoch 385/500\n",
            "\u001b[1m5/5\u001b[0m \u001b[32m━━━━━━━━━━━━━━━━━━━━\u001b[0m\u001b[37m\u001b[0m \u001b[1m0s\u001b[0m 18ms/step - accuracy: 0.7267 - loss: -16.7847 - val_accuracy: 0.6533 - val_loss: -16.3775\n",
            "Epoch 386/500\n",
            "\u001b[1m5/5\u001b[0m \u001b[32m━━━━━━━━━━━━━━━━━━━━\u001b[0m\u001b[37m\u001b[0m \u001b[1m0s\u001b[0m 17ms/step - accuracy: 0.7417 - loss: -16.5154 - val_accuracy: 0.6533 - val_loss: -16.3841\n",
            "Epoch 387/500\n",
            "\u001b[1m5/5\u001b[0m \u001b[32m━━━━━━━━━━━━━━━━━━━━\u001b[0m\u001b[37m\u001b[0m \u001b[1m0s\u001b[0m 17ms/step - accuracy: 0.7198 - loss: -16.6527 - val_accuracy: 0.6533 - val_loss: -16.3939\n",
            "Epoch 388/500\n",
            "\u001b[1m5/5\u001b[0m \u001b[32m━━━━━━━━━━━━━━━━━━━━\u001b[0m\u001b[37m\u001b[0m \u001b[1m0s\u001b[0m 21ms/step - accuracy: 0.7604 - loss: -16.6774 - val_accuracy: 0.6533 - val_loss: -16.4008\n",
            "Epoch 389/500\n",
            "\u001b[1m5/5\u001b[0m \u001b[32m━━━━━━━━━━━━━━━━━━━━\u001b[0m\u001b[37m\u001b[0m \u001b[1m0s\u001b[0m 19ms/step - accuracy: 0.7492 - loss: -16.8641 - val_accuracy: 0.6533 - val_loss: -16.4086\n",
            "Epoch 390/500\n",
            "\u001b[1m5/5\u001b[0m \u001b[32m━━━━━━━━━━━━━━━━━━━━\u001b[0m\u001b[37m\u001b[0m \u001b[1m0s\u001b[0m 20ms/step - accuracy: 0.7190 - loss: -16.9881 - val_accuracy: 0.6533 - val_loss: -16.4186\n",
            "Epoch 391/500\n",
            "\u001b[1m5/5\u001b[0m \u001b[32m━━━━━━━━━━━━━━━━━━━━\u001b[0m\u001b[37m\u001b[0m \u001b[1m0s\u001b[0m 28ms/step - accuracy: 0.7229 - loss: -16.6691 - val_accuracy: 0.6533 - val_loss: -16.4250\n",
            "Epoch 392/500\n",
            "\u001b[1m5/5\u001b[0m \u001b[32m━━━━━━━━━━━━━━━━━━━━\u001b[0m\u001b[37m\u001b[0m \u001b[1m0s\u001b[0m 20ms/step - accuracy: 0.7442 - loss: -17.0327 - val_accuracy: 0.6533 - val_loss: -16.4328\n",
            "Epoch 393/500\n",
            "\u001b[1m5/5\u001b[0m \u001b[32m━━━━━━━━━━━━━━━━━━━━\u001b[0m\u001b[37m\u001b[0m \u001b[1m0s\u001b[0m 20ms/step - accuracy: 0.7234 - loss: -16.4454 - val_accuracy: 0.6533 - val_loss: -16.4385\n",
            "Epoch 394/500\n",
            "\u001b[1m5/5\u001b[0m \u001b[32m━━━━━━━━━━━━━━━━━━━━\u001b[0m\u001b[37m\u001b[0m \u001b[1m0s\u001b[0m 23ms/step - accuracy: 0.7387 - loss: -16.7692 - val_accuracy: 0.6533 - val_loss: -16.4461\n",
            "Epoch 395/500\n",
            "\u001b[1m5/5\u001b[0m \u001b[32m━━━━━━━━━━━━━━━━━━━━\u001b[0m\u001b[37m\u001b[0m \u001b[1m0s\u001b[0m 19ms/step - accuracy: 0.7548 - loss: -17.3311 - val_accuracy: 0.6533 - val_loss: -16.4570\n",
            "Epoch 396/500\n",
            "\u001b[1m5/5\u001b[0m \u001b[32m━━━━━━━━━━━━━━━━━━━━\u001b[0m\u001b[37m\u001b[0m \u001b[1m0s\u001b[0m 20ms/step - accuracy: 0.7473 - loss: -16.7927 - val_accuracy: 0.6533 - val_loss: -16.4652\n",
            "Epoch 397/500\n",
            "\u001b[1m5/5\u001b[0m \u001b[32m━━━━━━━━━━━━━━━━━━━━\u001b[0m\u001b[37m\u001b[0m \u001b[1m0s\u001b[0m 20ms/step - accuracy: 0.7526 - loss: -16.8452 - val_accuracy: 0.6533 - val_loss: -16.4725\n",
            "Epoch 398/500\n",
            "\u001b[1m5/5\u001b[0m \u001b[32m━━━━━━━━━━━━━━━━━━━━\u001b[0m\u001b[37m\u001b[0m \u001b[1m0s\u001b[0m 29ms/step - accuracy: 0.7456 - loss: -17.2107 - val_accuracy: 0.6533 - val_loss: -16.4794\n",
            "Epoch 399/500\n",
            "\u001b[1m5/5\u001b[0m \u001b[32m━━━━━━━━━━━━━━━━━━━━\u001b[0m\u001b[37m\u001b[0m \u001b[1m0s\u001b[0m 30ms/step - accuracy: 0.7437 - loss: -16.8392 - val_accuracy: 0.6533 - val_loss: -16.4874\n",
            "Epoch 400/500\n",
            "\u001b[1m5/5\u001b[0m \u001b[32m━━━━━━━━━━━━━━━━━━━━\u001b[0m\u001b[37m\u001b[0m \u001b[1m0s\u001b[0m 19ms/step - accuracy: 0.7281 - loss: -16.9026 - val_accuracy: 0.6533 - val_loss: -16.4965\n",
            "Epoch 401/500\n",
            "\u001b[1m5/5\u001b[0m \u001b[32m━━━━━━━━━━━━━━━━━━━━\u001b[0m\u001b[37m\u001b[0m \u001b[1m0s\u001b[0m 28ms/step - accuracy: 0.7306 - loss: -17.0932 - val_accuracy: 0.6533 - val_loss: -16.5045\n",
            "Epoch 402/500\n",
            "\u001b[1m5/5\u001b[0m \u001b[32m━━━━━━━━━━━━━━━━━━━━\u001b[0m\u001b[37m\u001b[0m \u001b[1m0s\u001b[0m 34ms/step - accuracy: 0.7792 - loss: -17.0811 - val_accuracy: 0.6533 - val_loss: -16.5126\n",
            "Epoch 403/500\n",
            "\u001b[1m5/5\u001b[0m \u001b[32m━━━━━━━━━━━━━━━━━━━━\u001b[0m\u001b[37m\u001b[0m \u001b[1m0s\u001b[0m 35ms/step - accuracy: 0.7520 - loss: -16.8290 - val_accuracy: 0.6533 - val_loss: -16.5169\n",
            "Epoch 404/500\n",
            "\u001b[1m5/5\u001b[0m \u001b[32m━━━━━━━━━━━━━━━━━━━━\u001b[0m\u001b[37m\u001b[0m \u001b[1m0s\u001b[0m 25ms/step - accuracy: 0.7534 - loss: -17.1477 - val_accuracy: 0.6533 - val_loss: -16.5277\n",
            "Epoch 405/500\n",
            "\u001b[1m5/5\u001b[0m \u001b[32m━━━━━━━━━━━━━━━━━━━━\u001b[0m\u001b[37m\u001b[0m \u001b[1m0s\u001b[0m 34ms/step - accuracy: 0.7501 - loss: -16.9728 - val_accuracy: 0.6533 - val_loss: -16.5319\n",
            "Epoch 406/500\n",
            "\u001b[1m5/5\u001b[0m \u001b[32m━━━━━━━━━━━━━━━━━━━━\u001b[0m\u001b[37m\u001b[0m \u001b[1m0s\u001b[0m 31ms/step - accuracy: 0.7440 - loss: -17.1019 - val_accuracy: 0.6533 - val_loss: -16.5414\n",
            "Epoch 407/500\n",
            "\u001b[1m5/5\u001b[0m \u001b[32m━━━━━━━━━━━━━━━━━━━━\u001b[0m\u001b[37m\u001b[0m \u001b[1m0s\u001b[0m 32ms/step - accuracy: 0.7770 - loss: -17.0271 - val_accuracy: 0.6533 - val_loss: -16.5476\n",
            "Epoch 408/500\n",
            "\u001b[1m5/5\u001b[0m \u001b[32m━━━━━━━━━━━━━━━━━━━━\u001b[0m\u001b[37m\u001b[0m \u001b[1m0s\u001b[0m 36ms/step - accuracy: 0.7479 - loss: -17.0332 - val_accuracy: 0.6533 - val_loss: -16.5545\n",
            "Epoch 409/500\n",
            "\u001b[1m5/5\u001b[0m \u001b[32m━━━━━━━━━━━━━━━━━━━━\u001b[0m\u001b[37m\u001b[0m \u001b[1m0s\u001b[0m 27ms/step - accuracy: 0.7590 - loss: -17.3244 - val_accuracy: 0.6533 - val_loss: -16.5643\n",
            "Epoch 410/500\n",
            "\u001b[1m5/5\u001b[0m \u001b[32m━━━━━━━━━━━━━━━━━━━━\u001b[0m\u001b[37m\u001b[0m \u001b[1m0s\u001b[0m 27ms/step - accuracy: 0.7295 - loss: -17.0523 - val_accuracy: 0.6533 - val_loss: -16.5730\n",
            "Epoch 411/500\n",
            "\u001b[1m5/5\u001b[0m \u001b[32m━━━━━━━━━━━━━━━━━━━━\u001b[0m\u001b[37m\u001b[0m \u001b[1m0s\u001b[0m 18ms/step - accuracy: 0.7356 - loss: -16.8708 - val_accuracy: 0.6533 - val_loss: -16.5777\n",
            "Epoch 412/500\n",
            "\u001b[1m5/5\u001b[0m \u001b[32m━━━━━━━━━━━━━━━━━━━━\u001b[0m\u001b[37m\u001b[0m \u001b[1m0s\u001b[0m 19ms/step - accuracy: 0.7762 - loss: -17.5165 - val_accuracy: 0.6533 - val_loss: -16.5883\n",
            "Epoch 413/500\n",
            "\u001b[1m5/5\u001b[0m \u001b[32m━━━━━━━━━━━━━━━━━━━━\u001b[0m\u001b[37m\u001b[0m \u001b[1m0s\u001b[0m 18ms/step - accuracy: 0.7390 - loss: -16.9264 - val_accuracy: 0.6533 - val_loss: -16.5963\n",
            "Epoch 414/500\n",
            "\u001b[1m5/5\u001b[0m \u001b[32m━━━━━━━━━━━━━━━━━━━━\u001b[0m\u001b[37m\u001b[0m \u001b[1m0s\u001b[0m 18ms/step - accuracy: 0.7259 - loss: -16.6746 - val_accuracy: 0.6533 - val_loss: -16.6064\n",
            "Epoch 415/500\n",
            "\u001b[1m5/5\u001b[0m \u001b[32m━━━━━━━━━━━━━━━━━━━━\u001b[0m\u001b[37m\u001b[0m \u001b[1m0s\u001b[0m 18ms/step - accuracy: 0.7462 - loss: -16.9318 - val_accuracy: 0.6533 - val_loss: -16.6116\n",
            "Epoch 416/500\n",
            "\u001b[1m5/5\u001b[0m \u001b[32m━━━━━━━━━━━━━━━━━━━━\u001b[0m\u001b[37m\u001b[0m \u001b[1m0s\u001b[0m 31ms/step - accuracy: 0.7276 - loss: -16.5710 - val_accuracy: 0.6533 - val_loss: -16.6205\n",
            "Epoch 417/500\n",
            "\u001b[1m5/5\u001b[0m \u001b[32m━━━━━━━━━━━━━━━━━━━━\u001b[0m\u001b[37m\u001b[0m \u001b[1m0s\u001b[0m 17ms/step - accuracy: 0.7409 - loss: -16.9498 - val_accuracy: 0.6533 - val_loss: -16.6283\n",
            "Epoch 418/500\n",
            "\u001b[1m5/5\u001b[0m \u001b[32m━━━━━━━━━━━━━━━━━━━━\u001b[0m\u001b[37m\u001b[0m \u001b[1m0s\u001b[0m 17ms/step - accuracy: 0.7656 - loss: -16.9310 - val_accuracy: 0.6533 - val_loss: -16.6368\n",
            "Epoch 419/500\n",
            "\u001b[1m5/5\u001b[0m \u001b[32m━━━━━━━━━━━━━━━━━━━━\u001b[0m\u001b[37m\u001b[0m \u001b[1m0s\u001b[0m 17ms/step - accuracy: 0.7420 - loss: -17.3228 - val_accuracy: 0.6533 - val_loss: -16.6455\n",
            "Epoch 420/500\n",
            "\u001b[1m5/5\u001b[0m \u001b[32m━━━━━━━━━━━━━━━━━━━━\u001b[0m\u001b[37m\u001b[0m \u001b[1m0s\u001b[0m 17ms/step - accuracy: 0.7367 - loss: -17.4528 - val_accuracy: 0.6533 - val_loss: -16.6547\n",
            "Epoch 421/500\n",
            "\u001b[1m5/5\u001b[0m \u001b[32m━━━━━━━━━━━━━━━━━━━━\u001b[0m\u001b[37m\u001b[0m \u001b[1m0s\u001b[0m 17ms/step - accuracy: 0.7406 - loss: -16.8399 - val_accuracy: 0.6533 - val_loss: -16.6613\n",
            "Epoch 422/500\n",
            "\u001b[1m5/5\u001b[0m \u001b[32m━━━━━━━━━━━━━━━━━━━━\u001b[0m\u001b[37m\u001b[0m \u001b[1m0s\u001b[0m 16ms/step - accuracy: 0.7234 - loss: -17.2016 - val_accuracy: 0.6533 - val_loss: -16.6693\n",
            "Epoch 423/500\n",
            "\u001b[1m5/5\u001b[0m \u001b[32m━━━━━━━━━━━━━━━━━━━━\u001b[0m\u001b[37m\u001b[0m \u001b[1m0s\u001b[0m 19ms/step - accuracy: 0.7612 - loss: -17.4990 - val_accuracy: 0.6533 - val_loss: -16.6827\n",
            "Epoch 424/500\n",
            "\u001b[1m5/5\u001b[0m \u001b[32m━━━━━━━━━━━━━━━━━━━━\u001b[0m\u001b[37m\u001b[0m \u001b[1m0s\u001b[0m 28ms/step - accuracy: 0.7590 - loss: -17.1445 - val_accuracy: 0.6533 - val_loss: -16.6906\n",
            "Epoch 425/500\n",
            "\u001b[1m5/5\u001b[0m \u001b[32m━━━━━━━━━━━━━━━━━━━━\u001b[0m\u001b[37m\u001b[0m \u001b[1m0s\u001b[0m 28ms/step - accuracy: 0.7423 - loss: -17.0213 - val_accuracy: 0.6533 - val_loss: -16.6983\n",
            "Epoch 426/500\n",
            "\u001b[1m5/5\u001b[0m \u001b[32m━━━━━━━━━━━━━━━━━━━━\u001b[0m\u001b[37m\u001b[0m \u001b[1m0s\u001b[0m 18ms/step - accuracy: 0.7695 - loss: -17.4178 - val_accuracy: 0.6533 - val_loss: -16.7065\n",
            "Epoch 427/500\n",
            "\u001b[1m5/5\u001b[0m \u001b[32m━━━━━━━━━━━━━━━━━━━━\u001b[0m\u001b[37m\u001b[0m \u001b[1m0s\u001b[0m 17ms/step - accuracy: 0.7445 - loss: -17.3237 - val_accuracy: 0.6533 - val_loss: -16.7105\n",
            "Epoch 428/500\n",
            "\u001b[1m5/5\u001b[0m \u001b[32m━━━━━━━━━━━━━━━━━━━━\u001b[0m\u001b[37m\u001b[0m \u001b[1m0s\u001b[0m 18ms/step - accuracy: 0.7476 - loss: -17.1503 - val_accuracy: 0.6533 - val_loss: -16.7176\n",
            "Epoch 429/500\n",
            "\u001b[1m5/5\u001b[0m \u001b[32m━━━━━━━━━━━━━━━━━━━━\u001b[0m\u001b[37m\u001b[0m \u001b[1m0s\u001b[0m 18ms/step - accuracy: 0.7645 - loss: -17.3726 - val_accuracy: 0.6533 - val_loss: -16.7251\n",
            "Epoch 430/500\n",
            "\u001b[1m5/5\u001b[0m \u001b[32m━━━━━━━━━━━━━━━━━━━━\u001b[0m\u001b[37m\u001b[0m \u001b[1m0s\u001b[0m 29ms/step - accuracy: 0.7581 - loss: -17.1411 - val_accuracy: 0.6533 - val_loss: -16.7347\n",
            "Epoch 431/500\n",
            "\u001b[1m5/5\u001b[0m \u001b[32m━━━━━━━━━━━━━━━━━━━━\u001b[0m\u001b[37m\u001b[0m \u001b[1m0s\u001b[0m 17ms/step - accuracy: 0.7065 - loss: -16.4853 - val_accuracy: 0.6533 - val_loss: -16.7365\n",
            "Epoch 432/500\n",
            "\u001b[1m5/5\u001b[0m \u001b[32m━━━━━━━━━━━━━━━━━━━━\u001b[0m\u001b[37m\u001b[0m \u001b[1m0s\u001b[0m 29ms/step - accuracy: 0.7206 - loss: -17.1261 - val_accuracy: 0.6533 - val_loss: -16.7202\n",
            "Epoch 433/500\n",
            "\u001b[1m5/5\u001b[0m \u001b[32m━━━━━━━━━━━━━━━━━━━━\u001b[0m\u001b[37m\u001b[0m \u001b[1m0s\u001b[0m 17ms/step - accuracy: 0.7312 - loss: -17.3059 - val_accuracy: 0.6533 - val_loss: -16.7501\n",
            "Epoch 434/500\n",
            "\u001b[1m5/5\u001b[0m \u001b[32m━━━━━━━━━━━━━━━━━━━━\u001b[0m\u001b[37m\u001b[0m \u001b[1m0s\u001b[0m 18ms/step - accuracy: 0.7609 - loss: -17.5129 - val_accuracy: 0.6533 - val_loss: -16.7607\n",
            "Epoch 435/500\n",
            "\u001b[1m5/5\u001b[0m \u001b[32m━━━━━━━━━━━━━━━━━━━━\u001b[0m\u001b[37m\u001b[0m \u001b[1m0s\u001b[0m 17ms/step - accuracy: 0.7292 - loss: -17.1004 - val_accuracy: 0.6533 - val_loss: -16.7693\n",
            "Epoch 436/500\n",
            "\u001b[1m5/5\u001b[0m \u001b[32m━━━━━━━━━━━━━━━━━━━━\u001b[0m\u001b[37m\u001b[0m \u001b[1m0s\u001b[0m 17ms/step - accuracy: 0.7529 - loss: -17.3945 - val_accuracy: 0.6533 - val_loss: -16.7802\n",
            "Epoch 437/500\n",
            "\u001b[1m5/5\u001b[0m \u001b[32m━━━━━━━━━━━━━━━━━━━━\u001b[0m\u001b[37m\u001b[0m \u001b[1m0s\u001b[0m 17ms/step - accuracy: 0.7379 - loss: -17.2905 - val_accuracy: 0.6533 - val_loss: -16.7838\n",
            "Epoch 438/500\n",
            "\u001b[1m5/5\u001b[0m \u001b[32m━━━━━━━━━━━━━━━━━━━━\u001b[0m\u001b[37m\u001b[0m \u001b[1m0s\u001b[0m 17ms/step - accuracy: 0.7426 - loss: -16.9554 - val_accuracy: 0.6533 - val_loss: -16.7959\n",
            "Epoch 439/500\n",
            "\u001b[1m5/5\u001b[0m \u001b[32m━━━━━━━━━━━━━━━━━━━━\u001b[0m\u001b[37m\u001b[0m \u001b[1m0s\u001b[0m 19ms/step - accuracy: 0.7351 - loss: -16.6533 - val_accuracy: 0.6533 - val_loss: -16.7912\n",
            "Epoch 440/500\n",
            "\u001b[1m5/5\u001b[0m \u001b[32m━━━━━━━━━━━━━━━━━━━━\u001b[0m\u001b[37m\u001b[0m \u001b[1m0s\u001b[0m 17ms/step - accuracy: 0.7576 - loss: -17.1683 - val_accuracy: 0.6533 - val_loss: -16.8057\n",
            "Epoch 441/500\n",
            "\u001b[1m5/5\u001b[0m \u001b[32m━━━━━━━━━━━━━━━━━━━━\u001b[0m\u001b[37m\u001b[0m \u001b[1m0s\u001b[0m 19ms/step - accuracy: 0.7495 - loss: -17.3469 - val_accuracy: 0.6533 - val_loss: -16.8224\n",
            "Epoch 442/500\n",
            "\u001b[1m5/5\u001b[0m \u001b[32m━━━━━━━━━━━━━━━━━━━━\u001b[0m\u001b[37m\u001b[0m \u001b[1m0s\u001b[0m 19ms/step - accuracy: 0.7495 - loss: -17.2223 - val_accuracy: 0.6533 - val_loss: -16.8251\n",
            "Epoch 443/500\n",
            "\u001b[1m5/5\u001b[0m \u001b[32m━━━━━━━━━━━━━━━━━━━━\u001b[0m\u001b[37m\u001b[0m \u001b[1m0s\u001b[0m 18ms/step - accuracy: 0.7406 - loss: -17.1122 - val_accuracy: 0.6533 - val_loss: -16.8366\n",
            "Epoch 444/500\n",
            "\u001b[1m5/5\u001b[0m \u001b[32m━━━━━━━━━━━━━━━━━━━━\u001b[0m\u001b[37m\u001b[0m \u001b[1m0s\u001b[0m 19ms/step - accuracy: 0.7365 - loss: -17.4084 - val_accuracy: 0.6533 - val_loss: -16.8314\n",
            "Epoch 445/500\n",
            "\u001b[1m5/5\u001b[0m \u001b[32m━━━━━━━━━━━━━━━━━━━━\u001b[0m\u001b[37m\u001b[0m \u001b[1m0s\u001b[0m 29ms/step - accuracy: 0.7612 - loss: -17.3409 - val_accuracy: 0.6533 - val_loss: -16.8449\n",
            "Epoch 446/500\n",
            "\u001b[1m5/5\u001b[0m \u001b[32m━━━━━━━━━━━━━━━━━━━━\u001b[0m\u001b[37m\u001b[0m \u001b[1m0s\u001b[0m 18ms/step - accuracy: 0.7442 - loss: -17.3410 - val_accuracy: 0.6533 - val_loss: -16.8553\n",
            "Epoch 447/500\n",
            "\u001b[1m5/5\u001b[0m \u001b[32m━━━━━━━━━━━━━━━━━━━━\u001b[0m\u001b[37m\u001b[0m \u001b[1m0s\u001b[0m 20ms/step - accuracy: 0.7581 - loss: -17.7374 - val_accuracy: 0.6533 - val_loss: -16.8580\n",
            "Epoch 448/500\n",
            "\u001b[1m5/5\u001b[0m \u001b[32m━━━━━━━━━━━━━━━━━━━━\u001b[0m\u001b[37m\u001b[0m \u001b[1m0s\u001b[0m 18ms/step - accuracy: 0.7401 - loss: -16.9867 - val_accuracy: 0.6533 - val_loss: -16.8656\n",
            "Epoch 449/500\n",
            "\u001b[1m5/5\u001b[0m \u001b[32m━━━━━━━━━━━━━━━━━━━━\u001b[0m\u001b[37m\u001b[0m \u001b[1m0s\u001b[0m 20ms/step - accuracy: 0.7679 - loss: -17.4939 - val_accuracy: 0.6533 - val_loss: -16.8717\n",
            "Epoch 450/500\n",
            "\u001b[1m5/5\u001b[0m \u001b[32m━━━━━━━━━━━━━━━━━━━━\u001b[0m\u001b[37m\u001b[0m \u001b[1m0s\u001b[0m 18ms/step - accuracy: 0.7387 - loss: -17.2581 - val_accuracy: 0.6533 - val_loss: -16.8779\n",
            "Epoch 451/500\n",
            "\u001b[1m5/5\u001b[0m \u001b[32m━━━━━━━━━━━━━━━━━━━━\u001b[0m\u001b[37m\u001b[0m \u001b[1m0s\u001b[0m 18ms/step - accuracy: 0.7165 - loss: -17.0339 - val_accuracy: 0.6533 - val_loss: -16.8854\n",
            "Epoch 452/500\n",
            "\u001b[1m5/5\u001b[0m \u001b[32m━━━━━━━━━━━━━━━━━━━━\u001b[0m\u001b[37m\u001b[0m \u001b[1m0s\u001b[0m 17ms/step - accuracy: 0.7440 - loss: -17.0064 - val_accuracy: 0.6533 - val_loss: -16.8916\n",
            "Epoch 453/500\n",
            "\u001b[1m5/5\u001b[0m \u001b[32m━━━━━━━━━━━━━━━━━━━━\u001b[0m\u001b[37m\u001b[0m \u001b[1m0s\u001b[0m 17ms/step - accuracy: 0.7245 - loss: -17.3381 - val_accuracy: 0.6533 - val_loss: -16.8980\n",
            "Epoch 454/500\n",
            "\u001b[1m5/5\u001b[0m \u001b[32m━━━━━━━━━━━━━━━━━━━━\u001b[0m\u001b[37m\u001b[0m \u001b[1m0s\u001b[0m 17ms/step - accuracy: 0.7517 - loss: -17.3199 - val_accuracy: 0.6533 - val_loss: -16.9075\n",
            "Epoch 455/500\n",
            "\u001b[1m5/5\u001b[0m \u001b[32m━━━━━━━━━━━━━━━━━━━━\u001b[0m\u001b[37m\u001b[0m \u001b[1m0s\u001b[0m 18ms/step - accuracy: 0.7637 - loss: -17.6954 - val_accuracy: 0.6533 - val_loss: -16.9156\n",
            "Epoch 456/500\n",
            "\u001b[1m5/5\u001b[0m \u001b[32m━━━━━━━━━━━━━━━━━━━━\u001b[0m\u001b[37m\u001b[0m \u001b[1m0s\u001b[0m 17ms/step - accuracy: 0.7765 - loss: -17.9808 - val_accuracy: 0.6533 - val_loss: -16.9270\n",
            "Epoch 457/500\n",
            "\u001b[1m5/5\u001b[0m \u001b[32m━━━━━━━━━━━━━━━━━━━━\u001b[0m\u001b[37m\u001b[0m \u001b[1m0s\u001b[0m 18ms/step - accuracy: 0.7604 - loss: -17.5141 - val_accuracy: 0.6533 - val_loss: -16.9285\n",
            "Epoch 458/500\n",
            "\u001b[1m5/5\u001b[0m \u001b[32m━━━━━━━━━━━━━━━━━━━━\u001b[0m\u001b[37m\u001b[0m \u001b[1m0s\u001b[0m 18ms/step - accuracy: 0.7495 - loss: -17.6400 - val_accuracy: 0.6533 - val_loss: -16.9391\n",
            "Epoch 459/500\n",
            "\u001b[1m5/5\u001b[0m \u001b[32m━━━━━━━━━━━━━━━━━━━━\u001b[0m\u001b[37m\u001b[0m \u001b[1m0s\u001b[0m 18ms/step - accuracy: 0.7604 - loss: -16.7004 - val_accuracy: 0.6533 - val_loss: -16.9472\n",
            "Epoch 460/500\n",
            "\u001b[1m5/5\u001b[0m \u001b[32m━━━━━━━━━━━━━━━━━━━━\u001b[0m\u001b[37m\u001b[0m \u001b[1m0s\u001b[0m 20ms/step - accuracy: 0.7776 - loss: -17.5602 - val_accuracy: 0.6533 - val_loss: -16.9555\n",
            "Epoch 461/500\n",
            "\u001b[1m5/5\u001b[0m \u001b[32m━━━━━━━━━━━━━━━━━━━━\u001b[0m\u001b[37m\u001b[0m \u001b[1m0s\u001b[0m 19ms/step - accuracy: 0.7406 - loss: -17.4183 - val_accuracy: 0.6533 - val_loss: -16.9618\n",
            "Epoch 462/500\n",
            "\u001b[1m5/5\u001b[0m \u001b[32m━━━━━━━━━━━━━━━━━━━━\u001b[0m\u001b[37m\u001b[0m \u001b[1m0s\u001b[0m 19ms/step - accuracy: 0.7548 - loss: -17.6147 - val_accuracy: 0.6533 - val_loss: -16.9697\n",
            "Epoch 463/500\n",
            "\u001b[1m5/5\u001b[0m \u001b[32m━━━━━━━━━━━━━━━━━━━━\u001b[0m\u001b[37m\u001b[0m \u001b[1m0s\u001b[0m 18ms/step - accuracy: 0.7429 - loss: -17.1756 - val_accuracy: 0.6533 - val_loss: -16.9783\n",
            "Epoch 464/500\n",
            "\u001b[1m5/5\u001b[0m \u001b[32m━━━━━━━━━━━━━━━━━━━━\u001b[0m\u001b[37m\u001b[0m \u001b[1m0s\u001b[0m 29ms/step - accuracy: 0.7590 - loss: -17.6608 - val_accuracy: 0.6533 - val_loss: -16.9865\n",
            "Epoch 465/500\n",
            "\u001b[1m5/5\u001b[0m \u001b[32m━━━━━━━━━━━━━━━━━━━━\u001b[0m\u001b[37m\u001b[0m \u001b[1m0s\u001b[0m 21ms/step - accuracy: 0.7451 - loss: -17.2837 - val_accuracy: 0.6533 - val_loss: -16.9933\n",
            "Epoch 466/500\n",
            "\u001b[1m5/5\u001b[0m \u001b[32m━━━━━━━━━━━━━━━━━━━━\u001b[0m\u001b[37m\u001b[0m \u001b[1m0s\u001b[0m 19ms/step - accuracy: 0.7165 - loss: -17.5289 - val_accuracy: 0.6533 - val_loss: -17.0021\n",
            "Epoch 467/500\n",
            "\u001b[1m5/5\u001b[0m \u001b[32m━━━━━━━━━━━━━━━━━━━━\u001b[0m\u001b[37m\u001b[0m \u001b[1m0s\u001b[0m 17ms/step - accuracy: 0.7451 - loss: -17.8272 - val_accuracy: 0.6533 - val_loss: -17.0075\n",
            "Epoch 468/500\n",
            "\u001b[1m5/5\u001b[0m \u001b[32m━━━━━━━━━━━━━━━━━━━━\u001b[0m\u001b[37m\u001b[0m \u001b[1m0s\u001b[0m 20ms/step - accuracy: 0.7526 - loss: -17.6776 - val_accuracy: 0.6533 - val_loss: -17.0169\n",
            "Epoch 469/500\n",
            "\u001b[1m5/5\u001b[0m \u001b[32m━━━━━━━━━━━━━━━━━━━━\u001b[0m\u001b[37m\u001b[0m \u001b[1m0s\u001b[0m 19ms/step - accuracy: 0.7695 - loss: -17.7829 - val_accuracy: 0.6533 - val_loss: -17.0189\n",
            "Epoch 470/500\n",
            "\u001b[1m5/5\u001b[0m \u001b[32m━━━━━━━━━━━━━━━━━━━━\u001b[0m\u001b[37m\u001b[0m \u001b[1m0s\u001b[0m 19ms/step - accuracy: 0.7301 - loss: -17.4280 - val_accuracy: 0.6533 - val_loss: -17.0260\n",
            "Epoch 471/500\n",
            "\u001b[1m5/5\u001b[0m \u001b[32m━━━━━━━━━━━━━━━━━━━━\u001b[0m\u001b[37m\u001b[0m \u001b[1m0s\u001b[0m 19ms/step - accuracy: 0.7531 - loss: -17.6830 - val_accuracy: 0.6533 - val_loss: -17.0311\n",
            "Epoch 472/500\n",
            "\u001b[1m5/5\u001b[0m \u001b[32m━━━━━━━━━━━━━━━━━━━━\u001b[0m\u001b[37m\u001b[0m \u001b[1m0s\u001b[0m 18ms/step - accuracy: 0.7484 - loss: -17.9232 - val_accuracy: 0.6533 - val_loss: -17.0392\n",
            "Epoch 473/500\n",
            "\u001b[1m5/5\u001b[0m \u001b[32m━━━━━━━━━━━━━━━━━━━━\u001b[0m\u001b[37m\u001b[0m \u001b[1m0s\u001b[0m 31ms/step - accuracy: 0.7654 - loss: -17.4924 - val_accuracy: 0.6533 - val_loss: -17.0464\n",
            "Epoch 474/500\n",
            "\u001b[1m5/5\u001b[0m \u001b[32m━━━━━━━━━━━━━━━━━━━━\u001b[0m\u001b[37m\u001b[0m \u001b[1m0s\u001b[0m 20ms/step - accuracy: 0.7615 - loss: -17.8555 - val_accuracy: 0.6533 - val_loss: -17.0548\n",
            "Epoch 475/500\n",
            "\u001b[1m5/5\u001b[0m \u001b[32m━━━━━━━━━━━━━━━━━━━━\u001b[0m\u001b[37m\u001b[0m \u001b[1m0s\u001b[0m 19ms/step - accuracy: 0.7517 - loss: -17.3569 - val_accuracy: 0.6533 - val_loss: -17.0630\n",
            "Epoch 476/500\n",
            "\u001b[1m5/5\u001b[0m \u001b[32m━━━━━━━━━━━━━━━━━━━━\u001b[0m\u001b[37m\u001b[0m \u001b[1m0s\u001b[0m 17ms/step - accuracy: 0.7546 - loss: -17.3579 - val_accuracy: 0.6667 - val_loss: -17.0688\n",
            "Epoch 477/500\n",
            "\u001b[1m5/5\u001b[0m \u001b[32m━━━━━━━━━━━━━━━━━━━━\u001b[0m\u001b[37m\u001b[0m \u001b[1m0s\u001b[0m 18ms/step - accuracy: 0.7405 - loss: -17.5381 - val_accuracy: 0.6667 - val_loss: -17.0747\n",
            "Epoch 478/500\n",
            "\u001b[1m5/5\u001b[0m \u001b[32m━━━━━━━━━━━━━━━━━━━━\u001b[0m\u001b[37m\u001b[0m \u001b[1m0s\u001b[0m 28ms/step - accuracy: 0.7234 - loss: -17.2959 - val_accuracy: 0.6667 - val_loss: -17.0795\n",
            "Epoch 479/500\n",
            "\u001b[1m5/5\u001b[0m \u001b[32m━━━━━━━━━━━━━━━━━━━━\u001b[0m\u001b[37m\u001b[0m \u001b[1m0s\u001b[0m 19ms/step - accuracy: 0.7626 - loss: -17.5455 - val_accuracy: 0.6667 - val_loss: -17.0895\n",
            "Epoch 480/500\n",
            "\u001b[1m5/5\u001b[0m \u001b[32m━━━━━━━━━━━━━━━━━━━━\u001b[0m\u001b[37m\u001b[0m \u001b[1m0s\u001b[0m 21ms/step - accuracy: 0.7648 - loss: -17.6206 - val_accuracy: 0.6667 - val_loss: -17.0966\n",
            "Epoch 481/500\n",
            "\u001b[1m5/5\u001b[0m \u001b[32m━━━━━━━━━━━━━━━━━━━━\u001b[0m\u001b[37m\u001b[0m \u001b[1m0s\u001b[0m 18ms/step - accuracy: 0.7762 - loss: -17.9189 - val_accuracy: 0.6667 - val_loss: -17.1021\n",
            "Epoch 482/500\n",
            "\u001b[1m5/5\u001b[0m \u001b[32m━━━━━━━━━━━━━━━━━━━━\u001b[0m\u001b[37m\u001b[0m \u001b[1m0s\u001b[0m 19ms/step - accuracy: 0.7556 - loss: -17.7178 - val_accuracy: 0.6667 - val_loss: -17.1127\n",
            "Epoch 483/500\n",
            "\u001b[1m5/5\u001b[0m \u001b[32m━━━━━━━━━━━━━━━━━━━━\u001b[0m\u001b[37m\u001b[0m \u001b[1m0s\u001b[0m 18ms/step - accuracy: 0.7959 - loss: -17.5915 - val_accuracy: 0.6667 - val_loss: -17.1217\n",
            "Epoch 484/500\n",
            "\u001b[1m5/5\u001b[0m \u001b[32m━━━━━━━━━━━━━━━━━━━━\u001b[0m\u001b[37m\u001b[0m \u001b[1m0s\u001b[0m 28ms/step - accuracy: 0.7304 - loss: -17.1717 - val_accuracy: 0.6667 - val_loss: -17.1260\n",
            "Epoch 485/500\n",
            "\u001b[1m5/5\u001b[0m \u001b[32m━━━━━━━━━━━━━━━━━━━━\u001b[0m\u001b[37m\u001b[0m \u001b[1m0s\u001b[0m 19ms/step - accuracy: 0.7368 - loss: -17.5162 - val_accuracy: 0.6667 - val_loss: -17.1307\n",
            "Epoch 486/500\n",
            "\u001b[1m5/5\u001b[0m \u001b[32m━━━━━━━━━━━━━━━━━━━━\u001b[0m\u001b[37m\u001b[0m \u001b[1m0s\u001b[0m 18ms/step - accuracy: 0.7523 - loss: -17.6316 - val_accuracy: 0.6667 - val_loss: -17.1441\n",
            "Epoch 487/500\n",
            "\u001b[1m5/5\u001b[0m \u001b[32m━━━━━━━━━━━━━━━━━━━━\u001b[0m\u001b[37m\u001b[0m \u001b[1m0s\u001b[0m 19ms/step - accuracy: 0.7679 - loss: -17.2609 - val_accuracy: 0.6667 - val_loss: -17.1547\n",
            "Epoch 488/500\n",
            "\u001b[1m5/5\u001b[0m \u001b[32m━━━━━━━━━━━━━━━━━━━━\u001b[0m\u001b[37m\u001b[0m \u001b[1m0s\u001b[0m 32ms/step - accuracy: 0.7456 - loss: -17.6482 - val_accuracy: 0.6667 - val_loss: -17.1589\n",
            "Epoch 489/500\n",
            "\u001b[1m5/5\u001b[0m \u001b[32m━━━━━━━━━━━━━━━━━━━━\u001b[0m\u001b[37m\u001b[0m \u001b[1m0s\u001b[0m 24ms/step - accuracy: 0.7745 - loss: -18.0145 - val_accuracy: 0.6667 - val_loss: -17.1721\n",
            "Epoch 490/500\n",
            "\u001b[1m5/5\u001b[0m \u001b[32m━━━━━━━━━━━━━━━━━━━━\u001b[0m\u001b[37m\u001b[0m \u001b[1m0s\u001b[0m 27ms/step - accuracy: 0.7615 - loss: -17.7420 - val_accuracy: 0.6667 - val_loss: -17.1818\n",
            "Epoch 491/500\n",
            "\u001b[1m5/5\u001b[0m \u001b[32m━━━━━━━━━━━━━━━━━━━━\u001b[0m\u001b[37m\u001b[0m \u001b[1m0s\u001b[0m 26ms/step - accuracy: 0.7609 - loss: -17.5804 - val_accuracy: 0.6667 - val_loss: -17.1863\n",
            "Epoch 492/500\n",
            "\u001b[1m5/5\u001b[0m \u001b[32m━━━━━━━━━━━━━━━━━━━━\u001b[0m\u001b[37m\u001b[0m \u001b[1m0s\u001b[0m 37ms/step - accuracy: 0.7770 - loss: -17.5949 - val_accuracy: 0.6667 - val_loss: -17.2023\n",
            "Epoch 493/500\n",
            "\u001b[1m5/5\u001b[0m \u001b[32m━━━━━━━━━━━━━━━━━━━━\u001b[0m\u001b[37m\u001b[0m \u001b[1m0s\u001b[0m 39ms/step - accuracy: 0.7740 - loss: -17.4742 - val_accuracy: 0.6667 - val_loss: -17.2061\n",
            "Epoch 494/500\n",
            "\u001b[1m5/5\u001b[0m \u001b[32m━━━━━━━━━━━━━━━━━━━━\u001b[0m\u001b[37m\u001b[0m \u001b[1m0s\u001b[0m 35ms/step - accuracy: 0.7773 - loss: -17.4705 - val_accuracy: 0.6667 - val_loss: -17.2111\n",
            "Epoch 495/500\n",
            "\u001b[1m5/5\u001b[0m \u001b[32m━━━━━━━━━━━━━━━━━━━━\u001b[0m\u001b[37m\u001b[0m \u001b[1m0s\u001b[0m 37ms/step - accuracy: 0.7548 - loss: -17.5587 - val_accuracy: 0.6667 - val_loss: -17.2187\n",
            "Epoch 496/500\n",
            "\u001b[1m5/5\u001b[0m \u001b[32m━━━━━━━━━━━━━━━━━━━━\u001b[0m\u001b[37m\u001b[0m \u001b[1m0s\u001b[0m 35ms/step - accuracy: 0.7765 - loss: -17.7121 - val_accuracy: 0.6667 - val_loss: -17.2269\n",
            "Epoch 497/500\n",
            "\u001b[1m5/5\u001b[0m \u001b[32m━━━━━━━━━━━━━━━━━━━━\u001b[0m\u001b[37m\u001b[0m \u001b[1m0s\u001b[0m 28ms/step - accuracy: 0.7940 - loss: -17.5070 - val_accuracy: 0.6667 - val_loss: -17.2355\n",
            "Epoch 498/500\n",
            "\u001b[1m5/5\u001b[0m \u001b[32m━━━━━━━━━━━━━━━━━━━━\u001b[0m\u001b[37m\u001b[0m \u001b[1m0s\u001b[0m 18ms/step - accuracy: 0.7731 - loss: -17.9716 - val_accuracy: 0.6667 - val_loss: -17.2478\n",
            "Epoch 499/500\n",
            "\u001b[1m5/5\u001b[0m \u001b[32m━━━━━━━━━━━━━━━━━━━━\u001b[0m\u001b[37m\u001b[0m \u001b[1m0s\u001b[0m 18ms/step - accuracy: 0.7698 - loss: -18.1548 - val_accuracy: 0.6667 - val_loss: -17.2528\n",
            "Epoch 500/500\n",
            "\u001b[1m5/5\u001b[0m \u001b[32m━━━━━━━━━━━━━━━━━━━━\u001b[0m\u001b[37m\u001b[0m \u001b[1m0s\u001b[0m 16ms/step - accuracy: 0.7479 - loss: -17.4304 - val_accuracy: 0.6667 - val_loss: -17.2610\n",
            "-------------------------------------------------\n",
            "Загальний час (1..500 епох): 73.448 с\n",
            "Час першої епохи:           4.004 с\n",
            "Середній час з 2-ї епохи:   0.132 с\n",
            "-------------------------------------------------\n"
          ]
        }
      ],
      "source": [
        "import time\n",
        "import tensorflow as tf\n",
        "\n",
        "# Створимо клас Callback для замірів часу:\n",
        "class TimeHistory(tf.keras.callbacks.Callback):\n",
        "    def on_train_begin(self, logs=None):\n",
        "        self.epoch_times = []\n",
        "        self.epoch_start_time = None\n",
        "\n",
        "    def on_epoch_begin(self, epoch, logs=None):\n",
        "        self.epoch_start_time = time.time()\n",
        "\n",
        "    def on_epoch_end(self, epoch, logs=None):\n",
        "        elapsed = time.time() - self.epoch_start_time\n",
        "        self.epoch_times.append(elapsed)\n",
        "\n",
        "# Тепер додаємо цей колбек до autoencoder.fit():\n",
        "time_callback = TimeHistory()\n",
        "\n",
        "with tf.device(\"/device:GPU:0\"):\n",
        "    start_time = time.time()\n",
        "    autoencoder.fit(\n",
        "        train_x, train_x,\n",
        "        epochs=500,\n",
        "        batch_size=50,\n",
        "        shuffle=True,\n",
        "        validation_data=(valid_x, valid_x),\n",
        "        callbacks=[time_callback],   # <-- передаємо колбек\n",
        "        verbose=1\n",
        "    )\n",
        "    end_time = time.time()\n",
        "\n",
        "total_time = end_time - start_time\n",
        "\n",
        "# Список тривалостей кожної епохи:\n",
        "epoch_times = time_callback.epoch_times\n",
        "first_epoch_time = epoch_times[0]\n",
        "avg_time_2_onward = sum(epoch_times[1:]) / (len(epoch_times) - 1)\n",
        "\n",
        "print(\"-------------------------------------------------\")\n",
        "print(f\"Загальний час (1..500 епох): {total_time:.3f} с\")\n",
        "print(f\"Час першої епохи:           {first_epoch_time:.3f} с\")\n",
        "print(f\"Середній час з 2-ї епохи:   {avg_time_2_onward:.3f} с\")\n",
        "print(\"-------------------------------------------------\")"
      ]
    },
    {
      "cell_type": "code",
      "execution_count": 89,
      "metadata": {
        "id": "KNW9V8Ofi6sy"
      },
      "outputs": [],
      "source": [
        "# зауважте, що час виконання залежно від версії DirectML або типу обладнання може суттєво відрізнятися\n",
        "# також час виконання на першій ітерації під відеокартою зазвичай вищий, ніж на наступних"
      ]
    },
    {
      "cell_type": "code",
      "execution_count": 90,
      "metadata": {
        "id": "qIcf1PKQi6sy",
        "outputId": "ed738e57-5019-4eea-b0f2-9400d8afe9fa",
        "colab": {
          "base_uri": "https://localhost:8080/",
          "height": 1000
        }
      },
      "outputs": [
        {
          "output_type": "stream",
          "name": "stdout",
          "text": [
            "\u001b[1m1/1\u001b[0m \u001b[32m━━━━━━━━━━━━━━━━━━━━\u001b[0m\u001b[37m\u001b[0m \u001b[1m0s\u001b[0m 162ms/step\n"
          ]
        },
        {
          "output_type": "display_data",
          "data": {
            "text/plain": [
              "<Figure size 600x600 with 2 Axes>"
            ],
            "image/png": "[encoded data removed]"
          },
          "metadata": {}
        },
        {
          "output_type": "stream",
          "name": "stdout",
          "text": [
            "\u001b[1m1/1\u001b[0m \u001b[32m━━━━━━━━━━━━━━━━━━━━\u001b[0m\u001b[37m\u001b[0m \u001b[1m0s\u001b[0m 137ms/step\n"
          ]
        },
        {
          "output_type": "display_data",
          "data": {
            "text/plain": [
              "<Figure size 600x600 with 2 Axes>"
            ],
            "image/png": "[encoded data removed]"
          },
          "metadata": {}
        }
      ],
      "source": [
        "#Because latent space is two-dimensional, there are a few visualizations that can be done at this point.\n",
        "#One is to look at the neighborhoods of different classes on the latent 2D plane:\n",
        "colors = np.array(list(islice(cycle(['#377eb8', '#ff7f00', '#4daf4a',\n",
        "                                             '#f781bf', '#a65628', '#984ea3',\n",
        "                                             '#999999', '#e41a1c', '#dede00']), int(max(valid_y) + 1))))\n",
        "\n",
        "start_time = time.time()\n",
        "x_train_encoded = encoder.predict(train_x, batch_size=500)\n",
        "plt.figure(figsize=(6, 6))\n",
        "plt.scatter(x_train_encoded[:, 0], x_train_encoded[:, 1], c = colors[train_y])\n",
        "plt.colorbar()\n",
        "plt.show()\n",
        "\n",
        "x_test_encoded = encoder.predict(valid_x, batch_size=500)\n",
        "plt.figure(figsize=(6, 6))\n",
        "plt.scatter(x_test_encoded[:, 0], x_test_encoded[:, 1], c = colors[valid_y])\n",
        "plt.colorbar()\n",
        "plt.show()\n",
        "end_time = time.time()"
      ]
    },
    {
      "cell_type": "code",
      "execution_count": 91,
      "metadata": {
        "id": "TQCFdOyli6sy",
        "outputId": "26bd1270-f701-4850-c70a-48f63ff3bd1f",
        "colab": {
          "base_uri": "https://localhost:8080/"
        }
      },
      "outputs": [
        {
          "output_type": "execute_result",
          "data": {
            "text/plain": [
              "0.0023505687713623047"
            ]
          },
          "metadata": {},
          "execution_count": 91
        }
      ],
      "source": [
        "start_time = time.time()\n",
        "train_x, valid_x, train_y, valid_y = model_selection.train_test_split(ab, y_pred)\n",
        "end_time = time.time()\n",
        "end_time-start_time"
      ]
    },
    {
      "cell_type": "code",
      "execution_count": 92,
      "metadata": {
        "id": "8jMhMQ6oi6sz",
        "outputId": "6d71ce25-c8b7-43e6-b95f-1d7c50bba5a0",
        "colab": {
          "base_uri": "https://localhost:8080/"
        }
      },
      "outputs": [
        {
          "output_type": "execute_result",
          "data": {
            "text/plain": [
              "0.0026319026947021484"
            ]
          },
          "metadata": {},
          "execution_count": 92
        }
      ],
      "source": [
        "from sklearn.datasets import make_classification\n",
        "from imblearn.over_sampling import RandomOverSampler\n",
        "start_time = time.time()\n",
        "ros = RandomOverSampler(random_state=0)\n",
        "X_resampled, y_resampled = ros.fit_resample(X_embedded, y_pred)\n",
        "end_time = time.time()\n",
        "end_time-start_time"
      ]
    },
    {
      "cell_type": "code",
      "execution_count": 92,
      "metadata": {
        "id": "EodRtNS7i6sz"
      },
      "outputs": [],
      "source": []
    },
    {
      "cell_type": "code",
      "execution_count": 93,
      "metadata": {
        "id": "fPElk0uZi6sz",
        "outputId": "3161598c-6ed0-4d03-fcdd-3f66a1c44edb",
        "colab": {
          "base_uri": "https://localhost:8080/",
          "height": 1000
        }
      },
      "outputs": [
        {
          "output_type": "display_data",
          "data": {
            "text/plain": [
              "<Figure size 600x600 with 2 Axes>"
            ],
            "image/png": "[encoded data removed]"
          },
          "metadata": {}
        },
        {
          "output_type": "display_data",
          "data": {
            "text/plain": [
              "<Figure size 600x600 with 2 Axes>"
            ],
            "image/png": "[encoded data removed]"
          },
          "metadata": {}
        }
      ],
      "source": [
        "colors = np.array(list(islice(cycle(['#377eb8', '#ff7f00', '#4daf4a',\n",
        "                                             '#f781bf', '#a65628', '#984ea3',\n",
        "                                             '#999999', '#e41a1c', '#dede00']), int(max(y_pred) + 1))))\n",
        "\n",
        "plt.figure(figsize=(6, 6))\n",
        "plt.scatter(X_embedded[:, 0], X_embedded[:, 1], s=2, c=colors[y_pred])\n",
        "plt.colorbar()\n",
        "plt.show()\n",
        "\n",
        "plt.figure(figsize=(6, 6))\n",
        "plt.scatter(X_resampled[:, 0], X_resampled[:, 1], s=2, c=colors[y_resampled])\n",
        "plt.colorbar()\n",
        "plt.show()"
      ]
    },
    {
      "cell_type": "code",
      "execution_count": 94,
      "metadata": {
        "id": "JlrB6Afli6sz"
      },
      "outputs": [],
      "source": [
        "train_x, valid_x, train_y, valid_y = model_selection.train_test_split(X_resampled, y_resampled)"
      ]
    },
    {
      "cell_type": "code",
      "execution_count": 95,
      "metadata": {
        "id": "bKYov9sdi6s5"
      },
      "outputs": [],
      "source": [
        "#X_resampled, y_resampled = ros.fit_resample(X_embedded, y_pred)"
      ]
    },
    {
      "cell_type": "code",
      "execution_count": 96,
      "metadata": {
        "id": "RkoTrBRki6s5",
        "outputId": "b5ec80db-7009-460f-8c28-5563d18512e3",
        "colab": {
          "base_uri": "https://localhost:8080/"
        }
      },
      "outputs": [
        {
          "output_type": "execute_result",
          "data": {
            "text/plain": [
              "0.00597071647644043"
            ]
          },
          "metadata": {},
          "execution_count": 96
        }
      ],
      "source": [
        "from imblearn.over_sampling import SMOTE, ADASYN\n",
        "start_time = time.time()\n",
        "X_resampled2, y_resampled2 = SMOTE().fit_resample(X_embedded, y_pred)\n",
        "#print(sorted(Counter(y_resampled).items()))\n",
        "end_time = time.time()\n",
        "end_time-start_time"
      ]
    },
    {
      "cell_type": "code",
      "execution_count": 97,
      "metadata": {
        "id": "f_BY8Rt2i6s6",
        "outputId": "28860c25-90bb-41aa-f1e9-6f46108d0f74",
        "colab": {
          "base_uri": "https://localhost:8080/"
        }
      },
      "outputs": [
        {
          "output_type": "execute_result",
          "data": {
            "text/plain": [
              "0.005127668380737305"
            ]
          },
          "metadata": {},
          "execution_count": 97
        }
      ],
      "source": [
        "start_time = time.time()\n",
        "clf_smote = LinearSVC().fit(X_resampled2, y_resampled2)\n",
        "end_time = time.time()\n",
        "end_time-start_time"
      ]
    },
    {
      "cell_type": "code",
      "execution_count": 98,
      "metadata": {
        "id": "ERTu4xeIi6s6",
        "outputId": "cfb6a5d2-5119-44de-f145-c38a91ede886",
        "colab": {
          "base_uri": "https://localhost:8080/"
        }
      },
      "outputs": [
        {
          "output_type": "execute_result",
          "data": {
            "text/plain": [
              "0.00994420051574707"
            ]
          },
          "metadata": {},
          "execution_count": 98
        }
      ],
      "source": [
        "start_time = time.time()\n",
        "X_resampled3, y_resampled3 = ADASYN().fit_resample(X_embedded, y_pred)\n",
        "#print(sorted(Counter(y_resampled).items()))\n",
        "end_time = time.time()\n",
        "end_time-start_time"
      ]
    },
    {
      "cell_type": "code",
      "execution_count": 99,
      "metadata": {
        "id": "57u-cmW6i6s6",
        "outputId": "a6dbf31a-4fd5-4f82-d12c-6d75e4df3858",
        "colab": {
          "base_uri": "https://localhost:8080/"
        }
      },
      "outputs": [
        {
          "output_type": "execute_result",
          "data": {
            "text/plain": [
              "0.005026578903198242"
            ]
          },
          "metadata": {},
          "execution_count": 99
        }
      ],
      "source": [
        "start_time = time.time()\n",
        "clf_adasyn = LinearSVC().fit(X_resampled3, y_resampled3)\n",
        "end_time = time.time()\n",
        "end_time-start_time"
      ]
    },
    {
      "cell_type": "code",
      "execution_count": 100,
      "metadata": {
        "id": "H30Rk0G1i6s7",
        "outputId": "47086737-873b-48e7-8172-f9caf2dfaa1b",
        "colab": {
          "base_uri": "https://localhost:8080/",
          "height": 1000
        }
      },
      "outputs": [
        {
          "output_type": "display_data",
          "data": {
            "text/plain": [
              "<Figure size 600x600 with 2 Axes>"
            ],
            "image/png": "[encoded data removed]"
          },
          "metadata": {}
        },
        {
          "output_type": "display_data",
          "data": {
            "text/plain": [
              "<Figure size 600x600 with 2 Axes>"
            ],
            "image/png": "[encoded data removed]"
          },
          "metadata": {}
        },
        {
          "output_type": "display_data",
          "data": {
            "text/plain": [
              "<Figure size 600x600 with 2 Axes>"
            ],
            "image/png": "[encoded data removed]"
          },
          "metadata": {}
        }
      ],
      "source": [
        "plt.figure(figsize=(6, 6))\n",
        "plt.scatter(X_resampled[:, 0], X_resampled[:, 1], s=2, c=colors[y_resampled])\n",
        "plt.colorbar()\n",
        "plt.show()\n",
        "\n",
        "plt.figure(figsize=(6, 6))\n",
        "plt.scatter(X_resampled2[:, 0], X_resampled2[:, 1], s=2, c=colors[y_resampled2])\n",
        "plt.colorbar()\n",
        "plt.show()\n",
        "\n",
        "plt.figure(figsize=(6, 6))\n",
        "plt.scatter(X_resampled3[:, 0], X_resampled3[:, 1], s=2, c=colors[y_resampled3])\n",
        "plt.colorbar()\n",
        "plt.show()"
      ]
    },
    {
      "cell_type": "code",
      "source": [
        "# Список класифікаторів\n",
        "classifiers = [\n",
        "    (\"Logistic Regression\", LogisticRegression(max_iter=1000)),\n",
        "    (\"Linear SVC\", LinearSVC(max_iter=1000)),\n",
        "    (\"Random Forest\", RandomForestClassifier(n_estimators=100)),\n",
        "    (\"KNN\", KNeighborsClassifier(n_neighbors=5)),\n",
        "    (\"Decision Tree\", DecisionTreeClassifier()),\n",
        "    (\"MLP Classifier\", MLPClassifier(max_iter=1000)),\n",
        "    (\"Naive Bayes\", GaussianNB())\n",
        "]\n",
        "\n",
        "datasets = [\n",
        "    (\"Original\", X_embedded, y_pred),\n",
        "    (\"RandomOverSampler\", X_resampled, y_resampled),\n",
        "    (\"SMOTE\", X_resampled2, y_resampled2),\n",
        "    (\"ADASYN\", X_resampled3, y_resampled3)\n",
        "]\n",
        "\n",
        "# Оцінка всіх комбінацій\n",
        "results = []\n",
        "\n",
        "for clf_name, clf in classifiers:\n",
        "    print(f\"\\n--- {clf_name} ---\")\n",
        "    for ds_name, X, y in datasets:\n",
        "        X_train, X_val, y_train, y_val = train_test_split(X, y, test_size=0.25, random_state=42)\n",
        "        clf.fit(X_train, y_train)\n",
        "        y_pred_val = clf.predict(X_val)\n",
        "        acc = accuracy_score(y_val, y_pred_val)\n",
        "        results.append((clf_name, ds_name, acc))\n",
        "        print(f\"{ds_name:20s}: Accuracy = {acc:.4f}\")\n",
        "\n",
        "# Зведена таблиця результатів\n",
        "import pandas as pd\n",
        "results_df = pd.DataFrame(results, columns=[\"Classifier\", \"Dataset\", \"Accuracy\"])\n",
        "print(\"\\n===== Підсумкова таблиця точності =====\")\n",
        "print(results_df.pivot(index=\"Classifier\", columns=\"Dataset\", values=\"Accuracy\"))"
      ],
      "metadata": {
        "colab": {
          "base_uri": "https://localhost:8080/"
        },
        "id": "6D733ZQckt5C",
        "outputId": "dace6130-9236-411f-d183-e5ed270be76f"
      },
      "execution_count": 105,
      "outputs": [
        {
          "output_type": "stream",
          "name": "stdout",
          "text": [
            "\n",
            "--- Logistic Regression ---\n",
            "Original            : Accuracy = 0.9467\n",
            "RandomOverSampler   : Accuracy = 1.0000\n",
            "SMOTE               : Accuracy = 1.0000\n",
            "ADASYN              : Accuracy = 1.0000\n",
            "\n",
            "--- Linear SVC ---\n",
            "Original            : Accuracy = 0.8800\n",
            "RandomOverSampler   : Accuracy = 0.9818\n",
            "SMOTE               : Accuracy = 0.9818\n",
            "ADASYN              : Accuracy = 0.9820\n",
            "\n",
            "--- Random Forest ---\n",
            "Original            : Accuracy = 0.9467\n",
            "RandomOverSampler   : Accuracy = 0.9727\n",
            "SMOTE               : Accuracy = 1.0000\n",
            "ADASYN              : Accuracy = 1.0000\n",
            "\n",
            "--- KNN ---\n",
            "Original            : Accuracy = 0.8933\n",
            "RandomOverSampler   : Accuracy = 0.9818\n",
            "SMOTE               : Accuracy = 0.9818\n",
            "ADASYN              : Accuracy = 0.9910\n",
            "\n",
            "--- Decision Tree ---\n",
            "Original            : Accuracy = 0.9733\n",
            "RandomOverSampler   : Accuracy = 0.9727\n",
            "SMOTE               : Accuracy = 1.0000\n",
            "ADASYN              : Accuracy = 0.9910\n",
            "\n",
            "--- MLP Classifier ---\n",
            "Original            : Accuracy = 0.9467\n",
            "RandomOverSampler   : Accuracy = 1.0000\n",
            "SMOTE               : Accuracy = 1.0000\n",
            "ADASYN              : Accuracy = 1.0000\n",
            "\n",
            "--- Naive Bayes ---\n",
            "Original            : Accuracy = 0.9467\n",
            "RandomOverSampler   : Accuracy = 0.9636\n",
            "SMOTE               : Accuracy = 0.9727\n",
            "ADASYN              : Accuracy = 0.9820\n",
            "\n",
            "===== Підсумкова таблиця точності =====\n",
            "Dataset                ADASYN  Original  RandomOverSampler     SMOTE\n",
            "Classifier                                                          \n",
            "Decision Tree        0.990991  0.973333           0.972727  1.000000\n",
            "KNN                  0.990991  0.893333           0.981818  0.981818\n",
            "Linear SVC           0.981982  0.880000           0.981818  0.981818\n",
            "Logistic Regression  1.000000  0.946667           1.000000  1.000000\n",
            "MLP Classifier       1.000000  0.946667           1.000000  1.000000\n",
            "Naive Bayes          0.981982  0.946667           0.963636  0.972727\n",
            "Random Forest        1.000000  0.946667           0.972727  1.000000\n"
          ]
        }
      ]
    }
  ],
  "metadata": {
    "kernelspec": {
      "display_name": "Python 3",
      "name": "python3"
    },
    "language_info": {
      "codemirror_mode": {
        "name": "ipython",
        "version": 3
      },
      "file_extension": ".py",
      "mimetype": "text/x-python",
      "name": "python",
      "nbconvert_exporter": "python",
      "pygments_lexer": "ipython3",
      "version": "3.9.18"
    },
    "varInspector": {
      "cols": {
        "lenName": 16,
        "lenType": 16,
        "lenVar": 40
      },
      "kernels_config": {
        "python": {
          "delete_cmd_postfix": "",
          "delete_cmd_prefix": "del ",
          "library": "var_list.py",
          "varRefreshCmd": "print(var_dic_list())"
        },
        "r": {
          "delete_cmd_postfix": ") ",
          "delete_cmd_prefix": "rm(",
          "library": "var_list.r",
          "varRefreshCmd": "cat(var_dic_list()) "
        }
      },
      "types_to_exclude": [
        "module",
        "function",
        "builtin_function_or_method",
        "instance",
        "_Feature"
      ],
      "window_display": false
    },
    "colab": {
      "provenance": [],
      "gpuType": "T4",
      "include_colab_link": true
    },
    "accelerator": "GPU"
  },
  "nbformat": 4,
  "nbformat_minor": 0
}